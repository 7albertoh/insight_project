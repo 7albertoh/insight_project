{
 "cells": [
  {
   "cell_type": "code",
   "execution_count": 222,
   "metadata": {},
   "outputs": [],
   "source": [
    "import pandas as pd\n",
    "import matplotlib.pyplot as plt\n",
    "from sklearn.linear_model import LinearRegression\n",
    "from sklearn.metrics import mean_squared_error, r2_score\n",
    "import random\n",
    "import numpy as np\n",
    "import math\n",
    "import seaborn as sns\n",
    "import statsmodels.api as sm\n",
    "random.seed(123)\n",
    "np.random.seed(123)"
   ]
  },
  {
   "cell_type": "code",
   "execution_count": 223,
   "metadata": {},
   "outputs": [
    {
     "data": {
      "text/html": [
       "<div>\n",
       "<style scoped>\n",
       "    .dataframe tbody tr th:only-of-type {\n",
       "        vertical-align: middle;\n",
       "    }\n",
       "\n",
       "    .dataframe tbody tr th {\n",
       "        vertical-align: top;\n",
       "    }\n",
       "\n",
       "    .dataframe thead th {\n",
       "        text-align: right;\n",
       "    }\n",
       "</style>\n",
       "<table border=\"1\" class=\"dataframe\">\n",
       "  <thead>\n",
       "    <tr style=\"text-align: right;\">\n",
       "      <th></th>\n",
       "      <th>avg_rating</th>\n",
       "      <th>num_ratings</th>\n",
       "      <th>year_published</th>\n",
       "      <th>book_review_count</th>\n",
       "      <th>author_num_unique_books</th>\n",
       "      <th>kindle_price</th>\n",
       "      <th>genre_20th-century</th>\n",
       "      <th>genre_21st-century</th>\n",
       "      <th>genre_abuse</th>\n",
       "      <th>genre_academic</th>\n",
       "      <th>...</th>\n",
       "      <th>genre_personal-development_percent</th>\n",
       "      <th>genre_philosophy_percent</th>\n",
       "      <th>genre_productivity_percent</th>\n",
       "      <th>genre_psychology_percent</th>\n",
       "      <th>genre_relationships_percent</th>\n",
       "      <th>genre_science_percent</th>\n",
       "      <th>genre_self-help_percent</th>\n",
       "      <th>genre_spirituality_percent</th>\n",
       "      <th>ratings_per_month_since_published</th>\n",
       "      <th>reviews_per_month_since_published</th>\n",
       "    </tr>\n",
       "  </thead>\n",
       "  <tbody>\n",
       "    <tr>\n",
       "      <th>0</th>\n",
       "      <td>3.86</td>\n",
       "      <td>8980</td>\n",
       "      <td>2001.0</td>\n",
       "      <td>608.0</td>\n",
       "      <td>20.0</td>\n",
       "      <td>12.99</td>\n",
       "      <td>0</td>\n",
       "      <td>0</td>\n",
       "      <td>0</td>\n",
       "      <td>0</td>\n",
       "      <td>...</td>\n",
       "      <td>0.072954</td>\n",
       "      <td>0.000000</td>\n",
       "      <td>0.000000</td>\n",
       "      <td>0.017794</td>\n",
       "      <td>0.0</td>\n",
       "      <td>0.0</td>\n",
       "      <td>0.110320</td>\n",
       "      <td>0.0</td>\n",
       "      <td>39.385965</td>\n",
       "      <td>2.666667</td>\n",
       "    </tr>\n",
       "    <tr>\n",
       "      <th>1</th>\n",
       "      <td>4.24</td>\n",
       "      <td>3752</td>\n",
       "      <td>2015.0</td>\n",
       "      <td>441.0</td>\n",
       "      <td>4.0</td>\n",
       "      <td>11.99</td>\n",
       "      <td>0</td>\n",
       "      <td>0</td>\n",
       "      <td>0</td>\n",
       "      <td>0</td>\n",
       "      <td>...</td>\n",
       "      <td>0.013410</td>\n",
       "      <td>0.291188</td>\n",
       "      <td>0.000000</td>\n",
       "      <td>0.028736</td>\n",
       "      <td>0.0</td>\n",
       "      <td>0.0</td>\n",
       "      <td>0.091954</td>\n",
       "      <td>0.0</td>\n",
       "      <td>62.533333</td>\n",
       "      <td>7.350000</td>\n",
       "    </tr>\n",
       "    <tr>\n",
       "      <th>2</th>\n",
       "      <td>3.70</td>\n",
       "      <td>2570</td>\n",
       "      <td>2013.0</td>\n",
       "      <td>362.0</td>\n",
       "      <td>13.0</td>\n",
       "      <td>8.26</td>\n",
       "      <td>0</td>\n",
       "      <td>0</td>\n",
       "      <td>0</td>\n",
       "      <td>0</td>\n",
       "      <td>...</td>\n",
       "      <td>0.067416</td>\n",
       "      <td>0.000000</td>\n",
       "      <td>0.000000</td>\n",
       "      <td>0.101124</td>\n",
       "      <td>0.0</td>\n",
       "      <td>0.0</td>\n",
       "      <td>0.243446</td>\n",
       "      <td>0.0</td>\n",
       "      <td>30.595238</td>\n",
       "      <td>4.309524</td>\n",
       "    </tr>\n",
       "    <tr>\n",
       "      <th>3</th>\n",
       "      <td>3.75</td>\n",
       "      <td>5161</td>\n",
       "      <td>2010.0</td>\n",
       "      <td>776.0</td>\n",
       "      <td>15.0</td>\n",
       "      <td>11.99</td>\n",
       "      <td>0</td>\n",
       "      <td>0</td>\n",
       "      <td>0</td>\n",
       "      <td>0</td>\n",
       "      <td>...</td>\n",
       "      <td>0.000000</td>\n",
       "      <td>0.000000</td>\n",
       "      <td>0.000000</td>\n",
       "      <td>0.000000</td>\n",
       "      <td>0.0</td>\n",
       "      <td>0.0</td>\n",
       "      <td>0.094697</td>\n",
       "      <td>0.0</td>\n",
       "      <td>43.008333</td>\n",
       "      <td>6.466667</td>\n",
       "    </tr>\n",
       "    <tr>\n",
       "      <th>4</th>\n",
       "      <td>3.90</td>\n",
       "      <td>5484</td>\n",
       "      <td>1998.0</td>\n",
       "      <td>300.0</td>\n",
       "      <td>12.0</td>\n",
       "      <td>11.99</td>\n",
       "      <td>0</td>\n",
       "      <td>0</td>\n",
       "      <td>0</td>\n",
       "      <td>0</td>\n",
       "      <td>...</td>\n",
       "      <td>0.062201</td>\n",
       "      <td>0.000000</td>\n",
       "      <td>0.086124</td>\n",
       "      <td>0.026316</td>\n",
       "      <td>0.0</td>\n",
       "      <td>0.0</td>\n",
       "      <td>0.311005</td>\n",
       "      <td>0.0</td>\n",
       "      <td>20.772727</td>\n",
       "      <td>1.136364</td>\n",
       "    </tr>\n",
       "  </tbody>\n",
       "</table>\n",
       "<p>5 rows × 266 columns</p>\n",
       "</div>"
      ],
      "text/plain": [
       "   avg_rating  num_ratings  year_published  book_review_count  \\\n",
       "0        3.86         8980          2001.0              608.0   \n",
       "1        4.24         3752          2015.0              441.0   \n",
       "2        3.70         2570          2013.0              362.0   \n",
       "3        3.75         5161          2010.0              776.0   \n",
       "4        3.90         5484          1998.0              300.0   \n",
       "\n",
       "   author_num_unique_books  kindle_price  genre_20th-century  \\\n",
       "0                     20.0         12.99                   0   \n",
       "1                      4.0         11.99                   0   \n",
       "2                     13.0          8.26                   0   \n",
       "3                     15.0         11.99                   0   \n",
       "4                     12.0         11.99                   0   \n",
       "\n",
       "   genre_21st-century  genre_abuse  genre_academic  ...  \\\n",
       "0                   0            0               0  ...   \n",
       "1                   0            0               0  ...   \n",
       "2                   0            0               0  ...   \n",
       "3                   0            0               0  ...   \n",
       "4                   0            0               0  ...   \n",
       "\n",
       "   genre_personal-development_percent  genre_philosophy_percent  \\\n",
       "0                            0.072954                  0.000000   \n",
       "1                            0.013410                  0.291188   \n",
       "2                            0.067416                  0.000000   \n",
       "3                            0.000000                  0.000000   \n",
       "4                            0.062201                  0.000000   \n",
       "\n",
       "   genre_productivity_percent  genre_psychology_percent  \\\n",
       "0                    0.000000                  0.017794   \n",
       "1                    0.000000                  0.028736   \n",
       "2                    0.000000                  0.101124   \n",
       "3                    0.000000                  0.000000   \n",
       "4                    0.086124                  0.026316   \n",
       "\n",
       "   genre_relationships_percent  genre_science_percent  \\\n",
       "0                          0.0                    0.0   \n",
       "1                          0.0                    0.0   \n",
       "2                          0.0                    0.0   \n",
       "3                          0.0                    0.0   \n",
       "4                          0.0                    0.0   \n",
       "\n",
       "   genre_self-help_percent  genre_spirituality_percent  \\\n",
       "0                 0.110320                         0.0   \n",
       "1                 0.091954                         0.0   \n",
       "2                 0.243446                         0.0   \n",
       "3                 0.094697                         0.0   \n",
       "4                 0.311005                         0.0   \n",
       "\n",
       "   ratings_per_month_since_published  reviews_per_month_since_published  \n",
       "0                          39.385965                           2.666667  \n",
       "1                          62.533333                           7.350000  \n",
       "2                          30.595238                           4.309524  \n",
       "3                          43.008333                           6.466667  \n",
       "4                          20.772727                           1.136364  \n",
       "\n",
       "[5 rows x 266 columns]"
      ]
     },
     "execution_count": 223,
     "metadata": {},
     "output_type": "execute_result"
    }
   ],
   "source": [
    "df1 = pd.read_csv('../data/books_25_pages_clean0.csv',skipinitialspace=True)\n",
    "df1.head()"
   ]
  },
  {
   "cell_type": "code",
   "execution_count": 224,
   "metadata": {},
   "outputs": [
    {
     "name": "stdout",
     "output_type": "stream",
     "text": [
      "94\n"
     ]
    }
   ],
   "source": [
    "# create training and testing dataframes\n",
    "num_half = int(len(df1.index)/2)\n",
    "print(num_half)\n",
    "df_train = df1.sample(frac=1).head(n=num_half)\n",
    "df_validate = df1.sample(frac=1).tail(n=len(df1.index)-num_half)"
   ]
  },
  {
   "cell_type": "code",
   "execution_count": 225,
   "metadata": {},
   "outputs": [
    {
     "data": {
      "text/plain": [
       "12"
      ]
     },
     "execution_count": 225,
     "metadata": {},
     "output_type": "execute_result"
    }
   ],
   "source": [
    "# select predictors\n",
    "features = ['kindle_price','author_num_unique_books','genre_audiobook_percent','genre_business_percent','genre_mental-health_percent','genre_personal-development_percent','genre_philosophy_percent','genre_productivity_percent','genre_psychology_percent','genre_science_percent','genre_spirituality_percent','genre_self-help_percent']\n",
    "# features.extend(list(df1.columns[250:-2]))\n",
    "\n",
    "len(features)\n",
    "# for i in range(0,len(list(df1.columns))):\n",
    "#     print(i,list(df1.columns)[i])\n"
   ]
  },
  {
   "cell_type": "code",
   "execution_count": 226,
   "metadata": {},
   "outputs": [
    {
     "data": {
      "text/plain": [
       "<AxesSubplot:>"
      ]
     },
     "execution_count": 226,
     "metadata": {},
     "output_type": "execute_result"
    },
    {
     "data": {
      "image/png": "[encoded data removed]",
      "text/plain": [
       "<Figure size 432x288 with 2 Axes>"
      ]
     },
     "metadata": {
      "needs_background": "light"
     },
     "output_type": "display_data"
    }
   ],
   "source": [
    "\n",
    "sns.heatmap(df_train[features].corr(), annot=False)\n"
   ]
  },
  {
   "cell_type": "code",
   "execution_count": 227,
   "metadata": {},
   "outputs": [
    {
     "name": "stdout",
     "output_type": "stream",
     "text": [
      "rmse validation 2.6587759475898465\n",
      "rsq validation 0.13885377653542008\n",
      "rmse training 2.153284480893285\n",
      "rsq training 0.43529499143982275\n"
     ]
    }
   ],
   "source": [
    "# build linear regression model\n",
    "X_train = df_train[features]\n",
    "y_train = df_train['reviews_per_month_since_published']\n",
    "X_validate = df_validate[features]\n",
    "y_validate = df_validate['reviews_per_month_since_published']\n",
    "regr = LinearRegression()\n",
    "regr.fit(X_train, y_train)\n",
    "y_pred_validate = regr.predict(X_validate)\n",
    "print('rmse validation',math.sqrt(mean_squared_error(y_validate, y_pred_validate)))\n",
    "print('rsq validation',r2_score(y_validate, y_pred_validate))\n",
    "print('rmse training',math.sqrt(mean_squared_error(y_train, regr.predict(X_train))))\n",
    "print('rsq training',r2_score(y_train, regr.predict(X_train)))"
   ]
  },
  {
   "cell_type": "code",
   "execution_count": 228,
   "metadata": {},
   "outputs": [
    {
     "data": {
      "image/png": "[encoded data removed]",
      "text/plain": [
       "<Figure size 432x288 with 1 Axes>"
      ]
     },
     "metadata": {
      "needs_background": "light"
     },
     "output_type": "display_data"
    }
   ],
   "source": [
    "plt.scatter(y_validate,y_pred_validate,  color='black')\n",
    "# plt.plot(X_validate, y_pred_validate, color='blue', linewidth=3)\n",
    "plt.plot(sorted(y_validate,key=float), sorted(y_validate,key=float),'--', linewidth=1,color='red')\n",
    "# plt.xticks(())\n",
    "# plt.yticks(())\n",
    "\n",
    "plt.show()\n"
   ]
  },
  {
   "cell_type": "code",
   "execution_count": 229,
   "metadata": {},
   "outputs": [
    {
     "data": {
      "text/plain": [
       "array([  0.11150305,  -0.03803404,  11.58770336,  -6.47818551,\n",
       "        -0.1231117 ,   2.51343614,   0.77168465,  -2.33395358,\n",
       "        -9.17868291,  29.43934005,  -6.56523052, -16.3019454 ])"
      ]
     },
     "execution_count": 229,
     "metadata": {},
     "output_type": "execute_result"
    }
   ],
   "source": [
    "regr.intercept_\n",
    "regr.coef_"
   ]
  },
  {
   "cell_type": "code",
   "execution_count": 230,
   "metadata": {},
   "outputs": [
    {
     "data": {
      "text/html": [
       "<table class=\"simpletable\">\n",
       "<caption>OLS Regression Results</caption>\n",
       "<tr>\n",
       "  <th>Dep. Variable:</th>    <td>reviews_per_month_since_published</td> <th>  R-squared (uncentered):</th>      <td>   0.718</td>\n",
       "</tr>\n",
       "<tr>\n",
       "  <th>Model:</th>                           <td>OLS</td>                <th>  Adj. R-squared (uncentered):</th> <td>   0.677</td>\n",
       "</tr>\n",
       "<tr>\n",
       "  <th>Method:</th>                     <td>Least Squares</td>           <th>  F-statistic:       </th>          <td>   17.40</td>\n",
       "</tr>\n",
       "<tr>\n",
       "  <th>Date:</th>                     <td>Fri, 25 Sep 2020</td>          <th>  Prob (F-statistic):</th>          <td>7.89e-18</td>\n",
       "</tr>\n",
       "<tr>\n",
       "  <th>Time:</th>                         <td>08:27:56</td>              <th>  Log-Likelihood:    </th>          <td> -222.11</td>\n",
       "</tr>\n",
       "<tr>\n",
       "  <th>No. Observations:</th>              <td>    94</td>               <th>  AIC:               </th>          <td>   468.2</td>\n",
       "</tr>\n",
       "<tr>\n",
       "  <th>Df Residuals:</th>                  <td>    82</td>               <th>  BIC:               </th>          <td>   498.7</td>\n",
       "</tr>\n",
       "<tr>\n",
       "  <th>Df Model:</th>                      <td>    12</td>               <th>                     </th>              <td> </td>   \n",
       "</tr>\n",
       "<tr>\n",
       "  <th>Covariance Type:</th>              <td>nonrobust</td>             <th>                     </th>              <td> </td>   \n",
       "</tr>\n",
       "</table>\n",
       "<table class=\"simpletable\">\n",
       "<tr>\n",
       "                   <td></td>                     <th>coef</th>     <th>std err</th>      <th>t</th>      <th>P>|t|</th>  <th>[0.025</th>    <th>0.975]</th>  \n",
       "</tr>\n",
       "<tr>\n",
       "  <th>kindle_price</th>                       <td>    0.3783</td> <td>    0.081</td> <td>    4.664</td> <td> 0.000</td> <td>    0.217</td> <td>    0.540</td>\n",
       "</tr>\n",
       "<tr>\n",
       "  <th>author_num_unique_books</th>            <td>    0.0135</td> <td>    0.043</td> <td>    0.315</td> <td> 0.754</td> <td>   -0.072</td> <td>    0.099</td>\n",
       "</tr>\n",
       "<tr>\n",
       "  <th>genre_audiobook_percent</th>            <td>   14.9501</td> <td>   16.098</td> <td>    0.929</td> <td> 0.356</td> <td>  -17.074</td> <td>   46.974</td>\n",
       "</tr>\n",
       "<tr>\n",
       "  <th>genre_business_percent</th>             <td>   -0.7320</td> <td>    3.605</td> <td>   -0.203</td> <td> 0.840</td> <td>   -7.904</td> <td>    6.440</td>\n",
       "</tr>\n",
       "<tr>\n",
       "  <th>genre_mental-health_percent</th>        <td>    8.4579</td> <td>   12.030</td> <td>    0.703</td> <td> 0.484</td> <td>  -15.474</td> <td>   32.390</td>\n",
       "</tr>\n",
       "<tr>\n",
       "  <th>genre_personal-development_percent</th> <td>    7.3532</td> <td>    9.985</td> <td>    0.736</td> <td> 0.464</td> <td>  -12.510</td> <td>   27.217</td>\n",
       "</tr>\n",
       "<tr>\n",
       "  <th>genre_philosophy_percent</th>           <td>    8.5266</td> <td>    9.286</td> <td>    0.918</td> <td> 0.361</td> <td>   -9.945</td> <td>   26.999</td>\n",
       "</tr>\n",
       "<tr>\n",
       "  <th>genre_productivity_percent</th>         <td>    0.2651</td> <td>    7.310</td> <td>    0.036</td> <td> 0.971</td> <td>  -14.277</td> <td>   14.807</td>\n",
       "</tr>\n",
       "<tr>\n",
       "  <th>genre_psychology_percent</th>           <td>   -5.1013</td> <td>    2.820</td> <td>   -1.809</td> <td> 0.074</td> <td>  -10.712</td> <td>    0.510</td>\n",
       "</tr>\n",
       "<tr>\n",
       "  <th>genre_science_percent</th>              <td>   47.9504</td> <td>   13.730</td> <td>    3.492</td> <td> 0.001</td> <td>   20.638</td> <td>   75.263</td>\n",
       "</tr>\n",
       "<tr>\n",
       "  <th>genre_spirituality_percent</th>         <td>   -2.0796</td> <td>    4.622</td> <td>   -0.450</td> <td> 0.654</td> <td>  -11.275</td> <td>    7.116</td>\n",
       "</tr>\n",
       "<tr>\n",
       "  <th>genre_self-help_percent</th>            <td>   -5.2345</td> <td>    3.852</td> <td>   -1.359</td> <td> 0.178</td> <td>  -12.897</td> <td>    2.428</td>\n",
       "</tr>\n",
       "</table>\n",
       "<table class=\"simpletable\">\n",
       "<tr>\n",
       "  <th>Omnibus:</th>       <td>14.876</td> <th>  Durbin-Watson:     </th> <td>   2.270</td>\n",
       "</tr>\n",
       "<tr>\n",
       "  <th>Prob(Omnibus):</th> <td> 0.001</td> <th>  Jarque-Bera (JB):  </th> <td>  16.462</td>\n",
       "</tr>\n",
       "<tr>\n",
       "  <th>Skew:</th>          <td> 0.938</td> <th>  Prob(JB):          </th> <td>0.000266</td>\n",
       "</tr>\n",
       "<tr>\n",
       "  <th>Kurtosis:</th>      <td> 3.825</td> <th>  Cond. No.          </th> <td>    956.</td>\n",
       "</tr>\n",
       "</table><br/><br/>Notes:<br/>[1] R² is computed without centering (uncentered) since the model does not contain a constant.<br/>[2] Standard Errors assume that the covariance matrix of the errors is correctly specified."
      ],
      "text/plain": [
       "<class 'statsmodels.iolib.summary.Summary'>\n",
       "\"\"\"\n",
       "                                        OLS Regression Results                                        \n",
       "======================================================================================================\n",
       "Dep. Variable:     reviews_per_month_since_published   R-squared (uncentered):                   0.718\n",
       "Model:                                           OLS   Adj. R-squared (uncentered):              0.677\n",
       "Method:                                Least Squares   F-statistic:                              17.40\n",
       "Date:                               Fri, 25 Sep 2020   Prob (F-statistic):                    7.89e-18\n",
       "Time:                                       08:27:56   Log-Likelihood:                         -222.11\n",
       "No. Observations:                                 94   AIC:                                      468.2\n",
       "Df Residuals:                                     82   BIC:                                      498.7\n",
       "Df Model:                                         12                                                  \n",
       "Covariance Type:                           nonrobust                                                  \n",
       "======================================================================================================\n",
       "                                         coef    std err          t      P>|t|      [0.025      0.975]\n",
       "------------------------------------------------------------------------------------------------------\n",
       "kindle_price                           0.3783      0.081      4.664      0.000       0.217       0.540\n",
       "author_num_unique_books                0.0135      0.043      0.315      0.754      -0.072       0.099\n",
       "genre_audiobook_percent               14.9501     16.098      0.929      0.356     -17.074      46.974\n",
       "genre_business_percent                -0.7320      3.605     -0.203      0.840      -7.904       6.440\n",
       "genre_mental-health_percent            8.4579     12.030      0.703      0.484     -15.474      32.390\n",
       "genre_personal-development_percent     7.3532      9.985      0.736      0.464     -12.510      27.217\n",
       "genre_philosophy_percent               8.5266      9.286      0.918      0.361      -9.945      26.999\n",
       "genre_productivity_percent             0.2651      7.310      0.036      0.971     -14.277      14.807\n",
       "genre_psychology_percent              -5.1013      2.820     -1.809      0.074     -10.712       0.510\n",
       "genre_science_percent                 47.9504     13.730      3.492      0.001      20.638      75.263\n",
       "genre_spirituality_percent            -2.0796      4.622     -0.450      0.654     -11.275       7.116\n",
       "genre_self-help_percent               -5.2345      3.852     -1.359      0.178     -12.897       2.428\n",
       "==============================================================================\n",
       "Omnibus:                       14.876   Durbin-Watson:                   2.270\n",
       "Prob(Omnibus):                  0.001   Jarque-Bera (JB):               16.462\n",
       "Skew:                           0.938   Prob(JB):                     0.000266\n",
       "Kurtosis:                       3.825   Cond. No.                         956.\n",
       "==============================================================================\n",
       "\n",
       "Notes:\n",
       "[1] R² is computed without centering (uncentered) since the model does not contain a constant.\n",
       "[2] Standard Errors assume that the covariance matrix of the errors is correctly specified.\n",
       "\"\"\""
      ]
     },
     "execution_count": 230,
     "metadata": {},
     "output_type": "execute_result"
    }
   ],
   "source": [
    "ols = sm.OLS(y_train,X_train)\n",
    "ols_result = ols.fit()\n",
    "ols_result.summary()\n",
    "\n",
    "# from statsmodels.graphics.regressionplots import plot_leverage_resid2\n",
    "# fig, ax = plt.subplots(figsize=(8,6))\n",
    "# fig = plot_leverage_resid2(ols_result, ax = ax)\n"
   ]
  },
  {
   "cell_type": "code",
   "execution_count": 231,
   "metadata": {},
   "outputs": [
    {
     "data": {
      "text/html": [
       "<div>\n",
       "<style scoped>\n",
       "    .dataframe tbody tr th:only-of-type {\n",
       "        vertical-align: middle;\n",
       "    }\n",
       "\n",
       "    .dataframe tbody tr th {\n",
       "        vertical-align: top;\n",
       "    }\n",
       "\n",
       "    .dataframe thead th {\n",
       "        text-align: right;\n",
       "    }\n",
       "</style>\n",
       "<table border=\"1\" class=\"dataframe\">\n",
       "  <thead>\n",
       "    <tr style=\"text-align: right;\">\n",
       "      <th></th>\n",
       "      <th>0</th>\n",
       "    </tr>\n",
       "  </thead>\n",
       "  <tbody>\n",
       "    <tr>\n",
       "      <th>genre_science_percent</th>\n",
       "      <td>47.950358</td>\n",
       "    </tr>\n",
       "    <tr>\n",
       "      <th>genre_audiobook_percent</th>\n",
       "      <td>14.950130</td>\n",
       "    </tr>\n",
       "    <tr>\n",
       "      <th>genre_philosophy_percent</th>\n",
       "      <td>8.526569</td>\n",
       "    </tr>\n",
       "    <tr>\n",
       "      <th>genre_mental-health_percent</th>\n",
       "      <td>8.457874</td>\n",
       "    </tr>\n",
       "    <tr>\n",
       "      <th>genre_personal-development_percent</th>\n",
       "      <td>7.353178</td>\n",
       "    </tr>\n",
       "    <tr>\n",
       "      <th>kindle_price</th>\n",
       "      <td>0.378293</td>\n",
       "    </tr>\n",
       "    <tr>\n",
       "      <th>genre_productivity_percent</th>\n",
       "      <td>0.265070</td>\n",
       "    </tr>\n",
       "    <tr>\n",
       "      <th>author_num_unique_books</th>\n",
       "      <td>0.013513</td>\n",
       "    </tr>\n",
       "    <tr>\n",
       "      <th>genre_business_percent</th>\n",
       "      <td>-0.731990</td>\n",
       "    </tr>\n",
       "    <tr>\n",
       "      <th>genre_spirituality_percent</th>\n",
       "      <td>-2.079587</td>\n",
       "    </tr>\n",
       "    <tr>\n",
       "      <th>genre_psychology_percent</th>\n",
       "      <td>-5.101299</td>\n",
       "    </tr>\n",
       "    <tr>\n",
       "      <th>genre_self-help_percent</th>\n",
       "      <td>-5.234530</td>\n",
       "    </tr>\n",
       "  </tbody>\n",
       "</table>\n",
       "</div>"
      ],
      "text/plain": [
       "                                            0\n",
       "genre_science_percent               47.950358\n",
       "genre_audiobook_percent             14.950130\n",
       "genre_philosophy_percent             8.526569\n",
       "genre_mental-health_percent          8.457874\n",
       "genre_personal-development_percent   7.353178\n",
       "kindle_price                         0.378293\n",
       "genre_productivity_percent           0.265070\n",
       "author_num_unique_books              0.013513\n",
       "genre_business_percent              -0.731990\n",
       "genre_spirituality_percent          -2.079587\n",
       "genre_psychology_percent            -5.101299\n",
       "genre_self-help_percent             -5.234530"
      ]
     },
     "execution_count": 231,
     "metadata": {},
     "output_type": "execute_result"
    }
   ],
   "source": [
    "df_coeff = pd.DataFrame(ols_result.params) #.reset_index()\n",
    "# df_coeff = df_coeff.rename(columns={0:'value','index':'coefficient'})\n",
    "df_coeff.sort_values(by=[0],ascending=False)"
   ]
  },
  {
   "cell_type": "code",
   "execution_count": 232,
   "metadata": {},
   "outputs": [
    {
     "data": {
      "text/html": [
       "<div>\n",
       "<style scoped>\n",
       "    .dataframe tbody tr th:only-of-type {\n",
       "        vertical-align: middle;\n",
       "    }\n",
       "\n",
       "    .dataframe tbody tr th {\n",
       "        vertical-align: top;\n",
       "    }\n",
       "\n",
       "    .dataframe thead th {\n",
       "        text-align: right;\n",
       "    }\n",
       "</style>\n",
       "<table border=\"1\" class=\"dataframe\">\n",
       "  <thead>\n",
       "    <tr style=\"text-align: right;\">\n",
       "      <th></th>\n",
       "      <th>0</th>\n",
       "    </tr>\n",
       "  </thead>\n",
       "  <tbody>\n",
       "    <tr>\n",
       "      <th>kindle_price</th>\n",
       "      <td>0.000012</td>\n",
       "    </tr>\n",
       "    <tr>\n",
       "      <th>author_num_unique_books</th>\n",
       "      <td>0.753614</td>\n",
       "    </tr>\n",
       "    <tr>\n",
       "      <th>genre_audiobook_percent</th>\n",
       "      <td>0.355775</td>\n",
       "    </tr>\n",
       "    <tr>\n",
       "      <th>genre_business_percent</th>\n",
       "      <td>0.839619</td>\n",
       "    </tr>\n",
       "    <tr>\n",
       "      <th>genre_mental-health_percent</th>\n",
       "      <td>0.484015</td>\n",
       "    </tr>\n",
       "    <tr>\n",
       "      <th>genre_personal-development_percent</th>\n",
       "      <td>0.463575</td>\n",
       "    </tr>\n",
       "    <tr>\n",
       "      <th>genre_philosophy_percent</th>\n",
       "      <td>0.361177</td>\n",
       "    </tr>\n",
       "    <tr>\n",
       "      <th>genre_productivity_percent</th>\n",
       "      <td>0.971163</td>\n",
       "    </tr>\n",
       "    <tr>\n",
       "      <th>genre_psychology_percent</th>\n",
       "      <td>0.074169</td>\n",
       "    </tr>\n",
       "    <tr>\n",
       "      <th>genre_science_percent</th>\n",
       "      <td>0.000774</td>\n",
       "    </tr>\n",
       "    <tr>\n",
       "      <th>genre_spirituality_percent</th>\n",
       "      <td>0.653967</td>\n",
       "    </tr>\n",
       "    <tr>\n",
       "      <th>genre_self-help_percent</th>\n",
       "      <td>0.177900</td>\n",
       "    </tr>\n",
       "  </tbody>\n",
       "</table>\n",
       "</div>"
      ],
      "text/plain": [
       "                                           0\n",
       "kindle_price                        0.000012\n",
       "author_num_unique_books             0.753614\n",
       "genre_audiobook_percent             0.355775\n",
       "genre_business_percent              0.839619\n",
       "genre_mental-health_percent         0.484015\n",
       "genre_personal-development_percent  0.463575\n",
       "genre_philosophy_percent            0.361177\n",
       "genre_productivity_percent          0.971163\n",
       "genre_psychology_percent            0.074169\n",
       "genre_science_percent               0.000774\n",
       "genre_spirituality_percent          0.653967\n",
       "genre_self-help_percent             0.177900"
      ]
     },
     "execution_count": 232,
     "metadata": {},
     "output_type": "execute_result"
    }
   ],
   "source": [
    "pd.DataFrame(ols_result.pvalues)"
   ]
  },
  {
   "cell_type": "code",
   "execution_count": 233,
   "metadata": {},
   "outputs": [
    {
     "data": {
      "text/plain": [
       "Text(0.5, 1.0, 'Linear Regression')"
      ]
     },
     "execution_count": 233,
     "metadata": {},
     "output_type": "execute_result"
    },
    {
     "data": {
      "image/png": "[encoded data removed]",
      "text/plain": [
       "<Figure size 432x288 with 1 Axes>"
      ]
     },
     "metadata": {
      "needs_background": "light"
     },
     "output_type": "display_data"
    }
   ],
   "source": [
    "fig, ax = plt.subplots()\n",
    "fig = sm.graphics.plot_fit(ols_result, 0, ax=ax)\n",
    "ax.set_ylabel(\"Murder Rate\")\n",
    "ax.set_xlabel(\"Poverty Level\")\n",
    "ax.set_title(\"Linear Regression\")\n"
   ]
  }
 ],
 "metadata": {
  "kernelspec": {
   "display_name": "Python 3",
   "language": "python",
   "name": "python3"
  },
  "language_info": {
   "codemirror_mode": {
    "name": "ipython",
    "version": 3
   },
   "file_extension": ".py",
   "mimetype": "text/x-python",
   "name": "python",
   "nbconvert_exporter": "python",
   "pygments_lexer": "ipython3",
   "version": "3.6.12"
  }
 },
 "nbformat": 4,
 "nbformat_minor": 4
}

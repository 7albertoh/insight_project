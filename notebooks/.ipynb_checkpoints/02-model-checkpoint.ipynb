{
 "cells": [
  {
   "cell_type": "code",
   "execution_count": 2,
   "metadata": {},
   "outputs": [],
   "source": [
    "import pandas as pd\n",
    "import matplotlib.pyplot as plt\n",
    "from sklearn.linear_model import LinearRegression\n",
    "from sklearn.metrics import mean_squared_error, r2_score\n",
    "import random\n",
    "import numpy as np\n",
    "import math\n",
    "import seaborn as sns\n",
    "import statsmodels.api as sm\n",
    "from statsmodels.stats.outliers_influence import variance_inflation_factor\n",
    "random.seed(123)\n",
    "np.random.seed(123)"
   ]
  },
  {
   "cell_type": "code",
   "execution_count": 3,
   "metadata": {},
   "outputs": [
    {
     "data": {
      "text/html": [
       "<div>\n",
       "<style scoped>\n",
       "    .dataframe tbody tr th:only-of-type {\n",
       "        vertical-align: middle;\n",
       "    }\n",
       "\n",
       "    .dataframe tbody tr th {\n",
       "        vertical-align: top;\n",
       "    }\n",
       "\n",
       "    .dataframe thead th {\n",
       "        text-align: right;\n",
       "    }\n",
       "</style>\n",
       "<table border=\"1\" class=\"dataframe\">\n",
       "  <thead>\n",
       "    <tr style=\"text-align: right;\">\n",
       "      <th></th>\n",
       "      <th>avg_rating</th>\n",
       "      <th>num_ratings</th>\n",
       "      <th>year_published</th>\n",
       "      <th>book_review_count</th>\n",
       "      <th>author_num_unique_books</th>\n",
       "      <th>kindle_price</th>\n",
       "      <th>genre_20th-century</th>\n",
       "      <th>genre_21st-century</th>\n",
       "      <th>genre_abuse</th>\n",
       "      <th>genre_academic</th>\n",
       "      <th>...</th>\n",
       "      <th>genre_personal-development_percent</th>\n",
       "      <th>genre_philosophy_percent</th>\n",
       "      <th>genre_productivity_percent</th>\n",
       "      <th>genre_psychology_percent</th>\n",
       "      <th>genre_relationships_percent</th>\n",
       "      <th>genre_science_percent</th>\n",
       "      <th>genre_self-help_percent</th>\n",
       "      <th>genre_spirituality_percent</th>\n",
       "      <th>ratings_per_month_since_published</th>\n",
       "      <th>reviews_per_month_since_published</th>\n",
       "    </tr>\n",
       "  </thead>\n",
       "  <tbody>\n",
       "    <tr>\n",
       "      <th>0</th>\n",
       "      <td>3.86</td>\n",
       "      <td>8980</td>\n",
       "      <td>2001.0</td>\n",
       "      <td>608.0</td>\n",
       "      <td>20.0</td>\n",
       "      <td>12.99</td>\n",
       "      <td>0</td>\n",
       "      <td>0</td>\n",
       "      <td>0</td>\n",
       "      <td>0</td>\n",
       "      <td>...</td>\n",
       "      <td>0.072954</td>\n",
       "      <td>0.000000</td>\n",
       "      <td>0.000000</td>\n",
       "      <td>0.017794</td>\n",
       "      <td>0.0</td>\n",
       "      <td>0.0</td>\n",
       "      <td>0.110320</td>\n",
       "      <td>0.0</td>\n",
       "      <td>39.385965</td>\n",
       "      <td>2.666667</td>\n",
       "    </tr>\n",
       "    <tr>\n",
       "      <th>1</th>\n",
       "      <td>4.24</td>\n",
       "      <td>3752</td>\n",
       "      <td>2015.0</td>\n",
       "      <td>441.0</td>\n",
       "      <td>4.0</td>\n",
       "      <td>11.99</td>\n",
       "      <td>0</td>\n",
       "      <td>0</td>\n",
       "      <td>0</td>\n",
       "      <td>0</td>\n",
       "      <td>...</td>\n",
       "      <td>0.013410</td>\n",
       "      <td>0.291188</td>\n",
       "      <td>0.000000</td>\n",
       "      <td>0.028736</td>\n",
       "      <td>0.0</td>\n",
       "      <td>0.0</td>\n",
       "      <td>0.091954</td>\n",
       "      <td>0.0</td>\n",
       "      <td>62.533333</td>\n",
       "      <td>7.350000</td>\n",
       "    </tr>\n",
       "    <tr>\n",
       "      <th>2</th>\n",
       "      <td>3.70</td>\n",
       "      <td>2570</td>\n",
       "      <td>2013.0</td>\n",
       "      <td>362.0</td>\n",
       "      <td>13.0</td>\n",
       "      <td>8.26</td>\n",
       "      <td>0</td>\n",
       "      <td>0</td>\n",
       "      <td>0</td>\n",
       "      <td>0</td>\n",
       "      <td>...</td>\n",
       "      <td>0.067416</td>\n",
       "      <td>0.000000</td>\n",
       "      <td>0.000000</td>\n",
       "      <td>0.101124</td>\n",
       "      <td>0.0</td>\n",
       "      <td>0.0</td>\n",
       "      <td>0.243446</td>\n",
       "      <td>0.0</td>\n",
       "      <td>30.595238</td>\n",
       "      <td>4.309524</td>\n",
       "    </tr>\n",
       "    <tr>\n",
       "      <th>3</th>\n",
       "      <td>3.75</td>\n",
       "      <td>5161</td>\n",
       "      <td>2010.0</td>\n",
       "      <td>776.0</td>\n",
       "      <td>15.0</td>\n",
       "      <td>11.99</td>\n",
       "      <td>0</td>\n",
       "      <td>0</td>\n",
       "      <td>0</td>\n",
       "      <td>0</td>\n",
       "      <td>...</td>\n",
       "      <td>0.000000</td>\n",
       "      <td>0.000000</td>\n",
       "      <td>0.000000</td>\n",
       "      <td>0.000000</td>\n",
       "      <td>0.0</td>\n",
       "      <td>0.0</td>\n",
       "      <td>0.094697</td>\n",
       "      <td>0.0</td>\n",
       "      <td>43.008333</td>\n",
       "      <td>6.466667</td>\n",
       "    </tr>\n",
       "    <tr>\n",
       "      <th>4</th>\n",
       "      <td>3.90</td>\n",
       "      <td>5484</td>\n",
       "      <td>1998.0</td>\n",
       "      <td>300.0</td>\n",
       "      <td>12.0</td>\n",
       "      <td>11.99</td>\n",
       "      <td>0</td>\n",
       "      <td>0</td>\n",
       "      <td>0</td>\n",
       "      <td>0</td>\n",
       "      <td>...</td>\n",
       "      <td>0.062201</td>\n",
       "      <td>0.000000</td>\n",
       "      <td>0.086124</td>\n",
       "      <td>0.026316</td>\n",
       "      <td>0.0</td>\n",
       "      <td>0.0</td>\n",
       "      <td>0.311005</td>\n",
       "      <td>0.0</td>\n",
       "      <td>20.772727</td>\n",
       "      <td>1.136364</td>\n",
       "    </tr>\n",
       "  </tbody>\n",
       "</table>\n",
       "<p>5 rows × 266 columns</p>\n",
       "</div>"
      ],
      "text/plain": [
       "   avg_rating  num_ratings  year_published  book_review_count  \\\n",
       "0        3.86         8980          2001.0              608.0   \n",
       "1        4.24         3752          2015.0              441.0   \n",
       "2        3.70         2570          2013.0              362.0   \n",
       "3        3.75         5161          2010.0              776.0   \n",
       "4        3.90         5484          1998.0              300.0   \n",
       "\n",
       "   author_num_unique_books  kindle_price  genre_20th-century  \\\n",
       "0                     20.0         12.99                   0   \n",
       "1                      4.0         11.99                   0   \n",
       "2                     13.0          8.26                   0   \n",
       "3                     15.0         11.99                   0   \n",
       "4                     12.0         11.99                   0   \n",
       "\n",
       "   genre_21st-century  genre_abuse  genre_academic  ...  \\\n",
       "0                   0            0               0  ...   \n",
       "1                   0            0               0  ...   \n",
       "2                   0            0               0  ...   \n",
       "3                   0            0               0  ...   \n",
       "4                   0            0               0  ...   \n",
       "\n",
       "   genre_personal-development_percent  genre_philosophy_percent  \\\n",
       "0                            0.072954                  0.000000   \n",
       "1                            0.013410                  0.291188   \n",
       "2                            0.067416                  0.000000   \n",
       "3                            0.000000                  0.000000   \n",
       "4                            0.062201                  0.000000   \n",
       "\n",
       "   genre_productivity_percent  genre_psychology_percent  \\\n",
       "0                    0.000000                  0.017794   \n",
       "1                    0.000000                  0.028736   \n",
       "2                    0.000000                  0.101124   \n",
       "3                    0.000000                  0.000000   \n",
       "4                    0.086124                  0.026316   \n",
       "\n",
       "   genre_relationships_percent  genre_science_percent  \\\n",
       "0                          0.0                    0.0   \n",
       "1                          0.0                    0.0   \n",
       "2                          0.0                    0.0   \n",
       "3                          0.0                    0.0   \n",
       "4                          0.0                    0.0   \n",
       "\n",
       "   genre_self-help_percent  genre_spirituality_percent  \\\n",
       "0                 0.110320                         0.0   \n",
       "1                 0.091954                         0.0   \n",
       "2                 0.243446                         0.0   \n",
       "3                 0.094697                         0.0   \n",
       "4                 0.311005                         0.0   \n",
       "\n",
       "   ratings_per_month_since_published  reviews_per_month_since_published  \n",
       "0                          39.385965                           2.666667  \n",
       "1                          62.533333                           7.350000  \n",
       "2                          30.595238                           4.309524  \n",
       "3                          43.008333                           6.466667  \n",
       "4                          20.772727                           1.136364  \n",
       "\n",
       "[5 rows x 266 columns]"
      ]
     },
     "execution_count": 3,
     "metadata": {},
     "output_type": "execute_result"
    }
   ],
   "source": [
    "df1 = pd.read_csv('../data/books_25_pages_clean0.csv',skipinitialspace=True)\n",
    "df1.head()"
   ]
  },
  {
   "cell_type": "code",
   "execution_count": 4,
   "metadata": {},
   "outputs": [
    {
     "name": "stdout",
     "output_type": "stream",
     "text": [
      "94\n"
     ]
    }
   ],
   "source": [
    "# create training and testing dataframes\n",
    "num_half = int(len(df1.index)/2)\n",
    "print(num_half)\n",
    "df_train = df1.sample(frac=1).head(n=num_half)\n",
    "df_validate = df1.sample(frac=1).tail(n=len(df1.index)-num_half)"
   ]
  },
  {
   "cell_type": "code",
   "execution_count": 5,
   "metadata": {},
   "outputs": [
    {
     "data": {
      "text/plain": [
       "10"
      ]
     },
     "execution_count": 5,
     "metadata": {},
     "output_type": "execute_result"
    }
   ],
   "source": [
    "# select predictors\n",
    "features = ['author_num_unique_books','genre_audiobook_percent','genre_business_percent','genre_mental-health_percent','genre_personal-development_percent','genre_philosophy_percent','genre_productivity_percent','genre_psychology_percent','genre_science_percent','genre_spirituality_percent']\n",
    "# features.extend(list(df1.columns[250:-2]))\n",
    "\n",
    "len(features)\n",
    "# for i in range(0,len(list(df1.columns))):\n",
    "#     print(i,list(df1.columns)[i])\n"
   ]
  },
  {
   "cell_type": "code",
   "execution_count": 6,
   "metadata": {},
   "outputs": [
    {
     "data": {
      "text/plain": [
       "<AxesSubplot:>"
      ]
     },
     "execution_count": 6,
     "metadata": {},
     "output_type": "execute_result"
    },
    {
     "data": {
      "image/png": "[encoded data removed]",
      "text/plain": [
       "<Figure size 432x288 with 2 Axes>"
      ]
     },
     "metadata": {
      "needs_background": "light"
     },
     "output_type": "display_data"
    }
   ],
   "source": [
    "\n",
    "sns.heatmap(df_train[features].corr(), annot=False)\n"
   ]
  },
  {
   "cell_type": "code",
   "execution_count": 7,
   "metadata": {},
   "outputs": [
    {
     "name": "stdout",
     "output_type": "stream",
     "text": [
      "rmse validation 2.9610260750826787\n",
      "rsq validation -0.06806548877592844\n",
      "rmse training 2.4049084319181793\n",
      "rsq training 0.29560557667530196\n"
     ]
    }
   ],
   "source": [
    "# build linear regression model\n",
    "X_train = df_train[features]\n",
    "y_train = df_train['reviews_per_month_since_published']\n",
    "X_validate = df_validate[features]\n",
    "y_validate = df_validate['reviews_per_month_since_published']\n",
    "regr = LinearRegression()\n",
    "regr.fit(X_train, y_train)\n",
    "y_pred_validate = regr.predict(X_validate)\n",
    "print('rmse validation',math.sqrt(mean_squared_error(y_validate, y_pred_validate)))\n",
    "print('rmse training',math.sqrt(mean_squared_error(y_train, regr.predict(X_train))))\n"
   ]
  },
  {
   "cell_type": "code",
   "execution_count": 1,
   "metadata": {},
   "outputs": [
    {
     "ename": "NameError",
     "evalue": "name 'plt' is not defined",
     "output_type": "error",
     "traceback": [
      "\u001b[1;31m---------------------------------------------------------------------------\u001b[0m",
      "\u001b[1;31mNameError\u001b[0m                                 Traceback (most recent call last)",
      "\u001b[1;32m<ipython-input-1-b434b9f3e2c1>\u001b[0m in \u001b[0;36m<module>\u001b[1;34m\u001b[0m\n\u001b[1;32m----> 1\u001b[1;33m \u001b[0mplt\u001b[0m\u001b[1;33m.\u001b[0m\u001b[0mscatter\u001b[0m\u001b[1;33m(\u001b[0m\u001b[0my_validate\u001b[0m\u001b[1;33m,\u001b[0m\u001b[0my_pred_validate\u001b[0m\u001b[1;33m,\u001b[0m  \u001b[0mcolor\u001b[0m\u001b[1;33m=\u001b[0m\u001b[1;34m'black'\u001b[0m\u001b[1;33m)\u001b[0m\u001b[1;33m\u001b[0m\u001b[1;33m\u001b[0m\u001b[0m\n\u001b[0m\u001b[0;32m      2\u001b[0m \u001b[1;31m# plt.plot(X_validate, y_pred_validate, color='blue', linewidth=3)\u001b[0m\u001b[1;33m\u001b[0m\u001b[1;33m\u001b[0m\u001b[1;33m\u001b[0m\u001b[0m\n\u001b[0;32m      3\u001b[0m \u001b[0mplt\u001b[0m\u001b[1;33m.\u001b[0m\u001b[0mplot\u001b[0m\u001b[1;33m(\u001b[0m\u001b[0msorted\u001b[0m\u001b[1;33m(\u001b[0m\u001b[0my_validate\u001b[0m\u001b[1;33m,\u001b[0m\u001b[0mkey\u001b[0m\u001b[1;33m=\u001b[0m\u001b[0mfloat\u001b[0m\u001b[1;33m)\u001b[0m\u001b[1;33m,\u001b[0m \u001b[0msorted\u001b[0m\u001b[1;33m(\u001b[0m\u001b[0my_validate\u001b[0m\u001b[1;33m,\u001b[0m\u001b[0mkey\u001b[0m\u001b[1;33m=\u001b[0m\u001b[0mfloat\u001b[0m\u001b[1;33m)\u001b[0m\u001b[1;33m,\u001b[0m\u001b[1;34m'--'\u001b[0m\u001b[1;33m,\u001b[0m \u001b[0mlinewidth\u001b[0m\u001b[1;33m=\u001b[0m\u001b[1;36m1\u001b[0m\u001b[1;33m,\u001b[0m\u001b[0mcolor\u001b[0m\u001b[1;33m=\u001b[0m\u001b[1;34m'red'\u001b[0m\u001b[1;33m)\u001b[0m\u001b[1;33m\u001b[0m\u001b[1;33m\u001b[0m\u001b[0m\n\u001b[0;32m      4\u001b[0m \u001b[1;31m# plt.xticks(())\u001b[0m\u001b[1;33m\u001b[0m\u001b[1;33m\u001b[0m\u001b[1;33m\u001b[0m\u001b[0m\n\u001b[0;32m      5\u001b[0m \u001b[1;31m# plt.yticks(())\u001b[0m\u001b[1;33m\u001b[0m\u001b[1;33m\u001b[0m\u001b[1;33m\u001b[0m\u001b[0m\n",
      "\u001b[1;31mNameError\u001b[0m: name 'plt' is not defined"
     ]
    }
   ],
   "source": [
    "plt.scatter(y_validate,y_pred_validate,  color='black')\n",
    "# plt.plot(X_validate, y_pred_validate, color='blue', linewidth=3)\n",
    "plt.plot(sorted(y_validate,key=float), sorted(y_validate,key=float),'--', linewidth=1,color='red')\n",
    "# plt.xticks(())\n",
    "# plt.yticks(())\n",
    "\n",
    "plt.show()\n"
   ]
  },
  {
   "cell_type": "code",
   "execution_count": 9,
   "metadata": {},
   "outputs": [
    {
     "data": {
      "text/plain": [
       "array([ -0.0629273 ,  10.64364416,   1.54599626,  -2.93558276,\n",
       "       -14.2647468 ,   6.64836999,  -3.98215004,  -8.18229639,\n",
       "        54.16488104,  -6.5213834 ])"
      ]
     },
     "execution_count": 9,
     "metadata": {},
     "output_type": "execute_result"
    }
   ],
   "source": [
    "regr.intercept_\n",
    "regr.coef_"
   ]
  },
  {
   "cell_type": "code",
   "execution_count": 10,
   "metadata": {},
   "outputs": [
    {
     "data": {
      "text/html": [
       "<table class=\"simpletable\">\n",
       "<caption>OLS Regression Results</caption>\n",
       "<tr>\n",
       "  <th>Dep. Variable:</th>    <td>reviews_per_month_since_published</td> <th>  R-squared (uncentered):</th>      <td>   0.640</td>\n",
       "</tr>\n",
       "<tr>\n",
       "  <th>Model:</th>                           <td>OLS</td>                <th>  Adj. R-squared (uncentered):</th> <td>   0.597</td>\n",
       "</tr>\n",
       "<tr>\n",
       "  <th>Method:</th>                     <td>Least Squares</td>           <th>  F-statistic:       </th>          <td>   14.94</td>\n",
       "</tr>\n",
       "<tr>\n",
       "  <th>Date:</th>                     <td>Tue, 06 Oct 2020</td>          <th>  Prob (F-statistic):</th>          <td>6.64e-15</td>\n",
       "</tr>\n",
       "<tr>\n",
       "  <th>Time:</th>                         <td>18:03:53</td>              <th>  Log-Likelihood:    </th>          <td> -233.58</td>\n",
       "</tr>\n",
       "<tr>\n",
       "  <th>No. Observations:</th>              <td>    94</td>               <th>  AIC:               </th>          <td>   487.2</td>\n",
       "</tr>\n",
       "<tr>\n",
       "  <th>Df Residuals:</th>                  <td>    84</td>               <th>  BIC:               </th>          <td>   512.6</td>\n",
       "</tr>\n",
       "<tr>\n",
       "  <th>Df Model:</th>                      <td>    10</td>               <th>                     </th>              <td> </td>   \n",
       "</tr>\n",
       "<tr>\n",
       "  <th>Covariance Type:</th>              <td>nonrobust</td>             <th>                     </th>              <td> </td>   \n",
       "</tr>\n",
       "</table>\n",
       "<table class=\"simpletable\">\n",
       "<tr>\n",
       "                   <td></td>                     <th>coef</th>     <th>std err</th>      <th>t</th>      <th>P>|t|</th>  <th>[0.025</th>    <th>0.975]</th>  \n",
       "</tr>\n",
       "<tr>\n",
       "  <th>author_num_unique_books</th>            <td>    0.0524</td> <td>    0.043</td> <td>    1.212</td> <td> 0.229</td> <td>   -0.034</td> <td>    0.138</td>\n",
       "</tr>\n",
       "<tr>\n",
       "  <th>genre_audiobook_percent</th>            <td>   34.6306</td> <td>   17.095</td> <td>    2.026</td> <td> 0.046</td> <td>    0.635</td> <td>   68.626</td>\n",
       "</tr>\n",
       "<tr>\n",
       "  <th>genre_business_percent</th>             <td>    5.9682</td> <td>    3.391</td> <td>    1.760</td> <td> 0.082</td> <td>   -0.774</td> <td>   12.711</td>\n",
       "</tr>\n",
       "<tr>\n",
       "  <th>genre_mental-health_percent</th>        <td>   23.1602</td> <td>   12.469</td> <td>    1.857</td> <td> 0.067</td> <td>   -1.635</td> <td>   47.956</td>\n",
       "</tr>\n",
       "<tr>\n",
       "  <th>genre_personal-development_percent</th> <td>   12.0590</td> <td>    8.607</td> <td>    1.401</td> <td> 0.165</td> <td>   -5.058</td> <td>   29.176</td>\n",
       "</tr>\n",
       "<tr>\n",
       "  <th>genre_philosophy_percent</th>           <td>   14.2905</td> <td>   10.256</td> <td>    1.393</td> <td> 0.167</td> <td>   -6.104</td> <td>   34.685</td>\n",
       "</tr>\n",
       "<tr>\n",
       "  <th>genre_productivity_percent</th>         <td>    3.3631</td> <td>    8.037</td> <td>    0.418</td> <td> 0.677</td> <td>  -12.620</td> <td>   19.346</td>\n",
       "</tr>\n",
       "<tr>\n",
       "  <th>genre_psychology_percent</th>           <td>    0.6766</td> <td>    2.745</td> <td>    0.246</td> <td> 0.806</td> <td>   -4.783</td> <td>    6.136</td>\n",
       "</tr>\n",
       "<tr>\n",
       "  <th>genre_science_percent</th>              <td>   62.2895</td> <td>   13.980</td> <td>    4.455</td> <td> 0.000</td> <td>   34.488</td> <td>   90.091</td>\n",
       "</tr>\n",
       "<tr>\n",
       "  <th>genre_spirituality_percent</th>         <td>    0.8251</td> <td>    5.058</td> <td>    0.163</td> <td> 0.871</td> <td>   -9.233</td> <td>   10.883</td>\n",
       "</tr>\n",
       "</table>\n",
       "<table class=\"simpletable\">\n",
       "<tr>\n",
       "  <th>Omnibus:</th>       <td>14.328</td> <th>  Durbin-Watson:     </th> <td>   2.152</td>\n",
       "</tr>\n",
       "<tr>\n",
       "  <th>Prob(Omnibus):</th> <td> 0.001</td> <th>  Jarque-Bera (JB):  </th> <td>  15.887</td>\n",
       "</tr>\n",
       "<tr>\n",
       "  <th>Skew:</th>          <td> 0.978</td> <th>  Prob(JB):          </th> <td>0.000355</td>\n",
       "</tr>\n",
       "<tr>\n",
       "  <th>Kurtosis:</th>      <td> 3.478</td> <th>  Cond. No.          </th> <td>    743.</td>\n",
       "</tr>\n",
       "</table><br/><br/>Notes:<br/>[1] R² is computed without centering (uncentered) since the model does not contain a constant.<br/>[2] Standard Errors assume that the covariance matrix of the errors is correctly specified."
      ],
      "text/plain": [
       "<class 'statsmodels.iolib.summary.Summary'>\n",
       "\"\"\"\n",
       "                                        OLS Regression Results                                        \n",
       "======================================================================================================\n",
       "Dep. Variable:     reviews_per_month_since_published   R-squared (uncentered):                   0.640\n",
       "Model:                                           OLS   Adj. R-squared (uncentered):              0.597\n",
       "Method:                                Least Squares   F-statistic:                              14.94\n",
       "Date:                               Tue, 06 Oct 2020   Prob (F-statistic):                    6.64e-15\n",
       "Time:                                       18:03:53   Log-Likelihood:                         -233.58\n",
       "No. Observations:                                 94   AIC:                                      487.2\n",
       "Df Residuals:                                     84   BIC:                                      512.6\n",
       "Df Model:                                         10                                                  \n",
       "Covariance Type:                           nonrobust                                                  \n",
       "======================================================================================================\n",
       "                                         coef    std err          t      P>|t|      [0.025      0.975]\n",
       "------------------------------------------------------------------------------------------------------\n",
       "author_num_unique_books                0.0524      0.043      1.212      0.229      -0.034       0.138\n",
       "genre_audiobook_percent               34.6306     17.095      2.026      0.046       0.635      68.626\n",
       "genre_business_percent                 5.9682      3.391      1.760      0.082      -0.774      12.711\n",
       "genre_mental-health_percent           23.1602     12.469      1.857      0.067      -1.635      47.956\n",
       "genre_personal-development_percent    12.0590      8.607      1.401      0.165      -5.058      29.176\n",
       "genre_philosophy_percent              14.2905     10.256      1.393      0.167      -6.104      34.685\n",
       "genre_productivity_percent             3.3631      8.037      0.418      0.677     -12.620      19.346\n",
       "genre_psychology_percent               0.6766      2.745      0.246      0.806      -4.783       6.136\n",
       "genre_science_percent                 62.2895     13.980      4.455      0.000      34.488      90.091\n",
       "genre_spirituality_percent             0.8251      5.058      0.163      0.871      -9.233      10.883\n",
       "==============================================================================\n",
       "Omnibus:                       14.328   Durbin-Watson:                   2.152\n",
       "Prob(Omnibus):                  0.001   Jarque-Bera (JB):               15.887\n",
       "Skew:                           0.978   Prob(JB):                     0.000355\n",
       "Kurtosis:                       3.478   Cond. No.                         743.\n",
       "==============================================================================\n",
       "\n",
       "Notes:\n",
       "[1] R² is computed without centering (uncentered) since the model does not contain a constant.\n",
       "[2] Standard Errors assume that the covariance matrix of the errors is correctly specified.\n",
       "\"\"\""
      ]
     },
     "execution_count": 10,
     "metadata": {},
     "output_type": "execute_result"
    }
   ],
   "source": [
    "ols = sm.OLS(y_train,X_train)\n",
    "ols_result = ols.fit()\n",
    "ols_result.summary()\n",
    "\n",
    "# from statsmodels.graphics.regressionplots import plot_leverage_resid2\n",
    "# fig, ax = plt.subplots(figsize=(8,6))\n",
    "# fig = plot_leverage_resid2(ols_result, ax = ax)\n"
   ]
  },
  {
   "cell_type": "code",
   "execution_count": 11,
   "metadata": {},
   "outputs": [
    {
     "data": {
      "image/png": "[encoded data removed]",
      "text/plain": [
       "<Figure size 432x288 with 1 Axes>"
      ]
     },
     "metadata": {
      "needs_background": "light"
     },
     "output_type": "display_data"
    }
   ],
   "source": [
    "### quality of linear model\n",
    "res = ols_result.resid \n",
    "fig = sm.qqplot(res,line=\"q\")"
   ]
  },
  {
   "cell_type": "code",
   "execution_count": 12,
   "metadata": {},
   "outputs": [
    {
     "data": {
      "text/plain": [
       "<matplotlib.lines.Line2D at 0x1f9f3eee320>"
      ]
     },
     "execution_count": 12,
     "metadata": {},
     "output_type": "execute_result"
    },
    {
     "data": {
      "image/png": "[encoded data removed]",
      "text/plain": [
       "<Figure size 432x288 with 1 Axes>"
      ]
     },
     "metadata": {
      "needs_background": "light"
     },
     "output_type": "display_data"
    }
   ],
   "source": [
    "# residuals\n",
    "plt.plot(ols_result.resid_pearson, 'o', ls = 'None')\n",
    "plt.axhline(y=0, color = 'r')"
   ]
  },
  {
   "cell_type": "code",
   "execution_count": 13,
   "metadata": {},
   "outputs": [
    {
     "data": {
      "image/png": "[encoded data removed]",
      "text/plain": [
       "<Figure size 432x288 with 1 Axes>"
      ]
     },
     "metadata": {
      "needs_background": "light"
     },
     "output_type": "display_data"
    }
   ],
   "source": [
    "influence_plot = sm.graphics.influence_plot(ols_result, size=8)"
   ]
  },
  {
   "cell_type": "code",
   "execution_count": 56,
   "metadata": {},
   "outputs": [
    {
     "data": {
      "text/html": [
       "<div>\n",
       "<style scoped>\n",
       "    .dataframe tbody tr th:only-of-type {\n",
       "        vertical-align: middle;\n",
       "    }\n",
       "\n",
       "    .dataframe tbody tr th {\n",
       "        vertical-align: top;\n",
       "    }\n",
       "\n",
       "    .dataframe thead th {\n",
       "        text-align: right;\n",
       "    }\n",
       "</style>\n",
       "<table border=\"1\" class=\"dataframe\">\n",
       "  <thead>\n",
       "    <tr style=\"text-align: right;\">\n",
       "      <th></th>\n",
       "      <th>0</th>\n",
       "    </tr>\n",
       "  </thead>\n",
       "  <tbody>\n",
       "    <tr>\n",
       "      <th>genre_science_percent</th>\n",
       "      <td>64.117886</td>\n",
       "    </tr>\n",
       "    <tr>\n",
       "      <th>genre_audiobook_percent</th>\n",
       "      <td>36.690034</td>\n",
       "    </tr>\n",
       "    <tr>\n",
       "      <th>genre_mental-health_percent</th>\n",
       "      <td>24.471349</td>\n",
       "    </tr>\n",
       "    <tr>\n",
       "      <th>genre_philosophy_percent</th>\n",
       "      <td>16.608460</td>\n",
       "    </tr>\n",
       "    <tr>\n",
       "      <th>genre_personal-development_percent</th>\n",
       "      <td>14.482939</td>\n",
       "    </tr>\n",
       "    <tr>\n",
       "      <th>genre_business_percent</th>\n",
       "      <td>7.793773</td>\n",
       "    </tr>\n",
       "    <tr>\n",
       "      <th>genre_productivity_percent</th>\n",
       "      <td>3.826830</td>\n",
       "    </tr>\n",
       "    <tr>\n",
       "      <th>genre_spirituality_percent</th>\n",
       "      <td>3.009723</td>\n",
       "    </tr>\n",
       "    <tr>\n",
       "      <th>genre_psychology_percent</th>\n",
       "      <td>1.753934</td>\n",
       "    </tr>\n",
       "  </tbody>\n",
       "</table>\n",
       "</div>"
      ],
      "text/plain": [
       "                                            0\n",
       "genre_science_percent               64.117886\n",
       "genre_audiobook_percent             36.690034\n",
       "genre_mental-health_percent         24.471349\n",
       "genre_philosophy_percent            16.608460\n",
       "genre_personal-development_percent  14.482939\n",
       "genre_business_percent               7.793773\n",
       "genre_productivity_percent           3.826830\n",
       "genre_spirituality_percent           3.009723\n",
       "genre_psychology_percent             1.753934"
      ]
     },
     "execution_count": 56,
     "metadata": {},
     "output_type": "execute_result"
    }
   ],
   "source": [
    "df_coeff = pd.DataFrame(ols_result.params) #.reset_index()\n",
    "# df_coeff = df_coeff.rename(columns={0:'value','index':'coefficient'})\n",
    "df_coeff.sort_values(by=[0],ascending=False)"
   ]
  },
  {
   "cell_type": "code",
   "execution_count": 57,
   "metadata": {},
   "outputs": [
    {
     "data": {
      "text/html": [
       "<div>\n",
       "<style scoped>\n",
       "    .dataframe tbody tr th:only-of-type {\n",
       "        vertical-align: middle;\n",
       "    }\n",
       "\n",
       "    .dataframe tbody tr th {\n",
       "        vertical-align: top;\n",
       "    }\n",
       "\n",
       "    .dataframe thead th {\n",
       "        text-align: right;\n",
       "    }\n",
       "</style>\n",
       "<table border=\"1\" class=\"dataframe\">\n",
       "  <thead>\n",
       "    <tr style=\"text-align: right;\">\n",
       "      <th></th>\n",
       "      <th>0</th>\n",
       "    </tr>\n",
       "  </thead>\n",
       "  <tbody>\n",
       "    <tr>\n",
       "      <th>genre_audiobook_percent</th>\n",
       "      <td>0.034316</td>\n",
       "    </tr>\n",
       "    <tr>\n",
       "      <th>genre_business_percent</th>\n",
       "      <td>0.012271</td>\n",
       "    </tr>\n",
       "    <tr>\n",
       "      <th>genre_mental-health_percent</th>\n",
       "      <td>0.052722</td>\n",
       "    </tr>\n",
       "    <tr>\n",
       "      <th>genre_personal-development_percent</th>\n",
       "      <td>0.088119</td>\n",
       "    </tr>\n",
       "    <tr>\n",
       "      <th>genre_philosophy_percent</th>\n",
       "      <td>0.103904</td>\n",
       "    </tr>\n",
       "    <tr>\n",
       "      <th>genre_productivity_percent</th>\n",
       "      <td>0.635747</td>\n",
       "    </tr>\n",
       "    <tr>\n",
       "      <th>genre_psychology_percent</th>\n",
       "      <td>0.502528</td>\n",
       "    </tr>\n",
       "    <tr>\n",
       "      <th>genre_science_percent</th>\n",
       "      <td>0.000015</td>\n",
       "    </tr>\n",
       "    <tr>\n",
       "      <th>genre_spirituality_percent</th>\n",
       "      <td>0.527044</td>\n",
       "    </tr>\n",
       "  </tbody>\n",
       "</table>\n",
       "</div>"
      ],
      "text/plain": [
       "                                           0\n",
       "genre_audiobook_percent             0.034316\n",
       "genre_business_percent              0.012271\n",
       "genre_mental-health_percent         0.052722\n",
       "genre_personal-development_percent  0.088119\n",
       "genre_philosophy_percent            0.103904\n",
       "genre_productivity_percent          0.635747\n",
       "genre_psychology_percent            0.502528\n",
       "genre_science_percent               0.000015\n",
       "genre_spirituality_percent          0.527044"
      ]
     },
     "execution_count": 57,
     "metadata": {},
     "output_type": "execute_result"
    }
   ],
   "source": [
    "pd.DataFrame(ols_result.pvalues)"
   ]
  },
  {
   "cell_type": "code",
   "execution_count": 58,
   "metadata": {},
   "outputs": [],
   "source": [
    "# fig, ax = plt.subplots()\n",
    "# fig = sm.graphics.plot_fit(ols_result, 0, ax=ax)\n",
    "# ax.set_ylabel(\"Murder Rate\")\n",
    "# ax.set_xlabel(\"Poverty Level\")\n",
    "# ax.set_title(\"Linear Regression\")\n"
   ]
  },
  {
   "cell_type": "code",
   "execution_count": 59,
   "metadata": {},
   "outputs": [
    {
     "data": {
      "text/html": [
       "<div>\n",
       "<style scoped>\n",
       "    .dataframe tbody tr th:only-of-type {\n",
       "        vertical-align: middle;\n",
       "    }\n",
       "\n",
       "    .dataframe tbody tr th {\n",
       "        vertical-align: top;\n",
       "    }\n",
       "\n",
       "    .dataframe thead th {\n",
       "        text-align: right;\n",
       "    }\n",
       "</style>\n",
       "<table border=\"1\" class=\"dataframe\">\n",
       "  <thead>\n",
       "    <tr style=\"text-align: right;\">\n",
       "      <th></th>\n",
       "      <th>VIF Factor</th>\n",
       "      <th>features</th>\n",
       "    </tr>\n",
       "  </thead>\n",
       "  <tbody>\n",
       "    <tr>\n",
       "      <th>0</th>\n",
       "      <td>1.6</td>\n",
       "      <td>genre_audiobook_percent</td>\n",
       "    </tr>\n",
       "    <tr>\n",
       "      <th>1</th>\n",
       "      <td>1.6</td>\n",
       "      <td>genre_business_percent</td>\n",
       "    </tr>\n",
       "    <tr>\n",
       "      <th>2</th>\n",
       "      <td>1.4</td>\n",
       "      <td>genre_mental-health_percent</td>\n",
       "    </tr>\n",
       "    <tr>\n",
       "      <th>3</th>\n",
       "      <td>3.0</td>\n",
       "      <td>genre_personal-development_percent</td>\n",
       "    </tr>\n",
       "    <tr>\n",
       "      <th>4</th>\n",
       "      <td>1.2</td>\n",
       "      <td>genre_philosophy_percent</td>\n",
       "    </tr>\n",
       "    <tr>\n",
       "      <th>5</th>\n",
       "      <td>1.6</td>\n",
       "      <td>genre_productivity_percent</td>\n",
       "    </tr>\n",
       "    <tr>\n",
       "      <th>6</th>\n",
       "      <td>2.2</td>\n",
       "      <td>genre_psychology_percent</td>\n",
       "    </tr>\n",
       "    <tr>\n",
       "      <th>7</th>\n",
       "      <td>1.3</td>\n",
       "      <td>genre_science_percent</td>\n",
       "    </tr>\n",
       "    <tr>\n",
       "      <th>8</th>\n",
       "      <td>1.1</td>\n",
       "      <td>genre_spirituality_percent</td>\n",
       "    </tr>\n",
       "  </tbody>\n",
       "</table>\n",
       "</div>"
      ],
      "text/plain": [
       "   VIF Factor                            features\n",
       "0         1.6             genre_audiobook_percent\n",
       "1         1.6              genre_business_percent\n",
       "2         1.4         genre_mental-health_percent\n",
       "3         3.0  genre_personal-development_percent\n",
       "4         1.2            genre_philosophy_percent\n",
       "5         1.6          genre_productivity_percent\n",
       "6         2.2            genre_psychology_percent\n",
       "7         1.3               genre_science_percent\n",
       "8         1.1          genre_spirituality_percent"
      ]
     },
     "execution_count": 59,
     "metadata": {},
     "output_type": "execute_result"
    }
   ],
   "source": [
    "vif = pd.DataFrame()\n",
    "vif[\"VIF Factor\"] = [variance_inflation_factor(X_train.values, i) for i in range(X_train.shape[1])]\n",
    "vif[\"features\"] = X_train.columns\n",
    "vif.round(1)"
   ]
  },
  {
   "cell_type": "code",
   "execution_count": null,
   "metadata": {},
   "outputs": [],
   "source": []
  }
 ],
 "metadata": {
  "kernelspec": {
   "display_name": "Python 3",
   "language": "python",
   "name": "python3"
  },
  "language_info": {
   "codemirror_mode": {
    "name": "ipython",
    "version": 3
   },
   "file_extension": ".py",
   "mimetype": "text/x-python",
   "name": "python",
   "nbconvert_exporter": "python",
   "pygments_lexer": "ipython3",
   "version": "3.6.12"
  }
 },
 "nbformat": 4,
 "nbformat_minor": 4
}

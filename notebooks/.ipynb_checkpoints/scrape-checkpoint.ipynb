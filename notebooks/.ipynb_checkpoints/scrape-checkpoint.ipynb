{
 "cells": [
  {
   "cell_type": "code",
   "execution_count": 18,
   "metadata": {},
   "outputs": [
    {
     "data": {
      "text/plain": [
       "array([[<AxesSubplot:title={'center':'count of string audio'}>]],\n",
       "      dtype=object)"
      ]
     },
     "execution_count": 18,
     "metadata": {},
     "output_type": "execute_result"
    },
    {
     "data": {
      "image/png": "[encoded data removed]",
      "text/plain": [
       "<Figure size 432x288 with 1 Axes>"
      ]
     },
     "metadata": {
      "needs_background": "light"
     },
     "output_type": "display_data"
    }
   ],
   "source": [
    "#import time\n",
    "#from bs4 import BeautifulSoup\n",
    "#from selenium import webdriver\n",
    "##copy chromedriver into python folder\n",
    "#driver = webdriver.Chrome(executable_path='/home/alberto/insight_project/notebooks/chromedriver')\n",
    "#driver.set_window_position(-2000,0)#this function will minimize the window\n",
    "#first_url = 1\n",
    "#last_url = 10000     # Last book is 8,630,000\n",
    "\n",
    "\n",
    "\n",
    "#for book_reference_number in range(first_url, last_url):\n",
    "#    driver.get(\"https://www.goodreads.com/book/show/\"+str(book_reference_number))\n",
    "#    #time.sleep(2)#optional\n",
    "#    soup = BeautifulSoup(driver.page_source, 'lxml')\n",
    "#    try:\n",
    "#        book_title = soup.select('.gr-h1.gr-h1--serif')[0].text.strip()\n",
    "#    except:\n",
    "#        book_title = ''\n",
    "#    try:\n",
    "#        author_name = soup.select('.authorName')[0].text.strip()\n",
    "#    except:\n",
    "##        author_name = ''\n",
    "#\n",
    "#    print('NO.', book_reference_number, 'TITLE: ', book_title, 'AUTHOR: ', author_name) \n",
    "\n",
    "import pandas as pd\n",
    "\n",
    "pd.read_csv('count_audio.csv').hist()\n"
   ]
  },
  {
   "cell_type": "code",
   "execution_count": null,
   "metadata": {},
   "outputs": [],
   "source": []
  }
 ],
 "metadata": {
  "kernelspec": {
   "display_name": "Python 3",
   "language": "python",
   "name": "python3"
  },
  "language_info": {
   "codemirror_mode": {
    "name": "ipython",
    "version": 3
   },
   "file_extension": ".py",
   "mimetype": "text/x-python",
   "name": "python",
   "nbconvert_exporter": "python",
   "pygments_lexer": "ipython3",
   "version": "3.8.5"
  }
 },
 "nbformat": 4,
 "nbformat_minor": 4
}

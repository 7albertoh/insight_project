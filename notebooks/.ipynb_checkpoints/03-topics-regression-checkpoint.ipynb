{
 "cells": [
  {
   "cell_type": "code",
   "execution_count": 27,
   "metadata": {},
   "outputs": [],
   "source": [
    "import pandas as pd\n",
    "import matplotlib.pyplot as plt\n",
    "from sklearn.linear_model import LinearRegression\n",
    "from sklearn.metrics import mean_squared_error, r2_score\n",
    "import random\n",
    "import numpy as np\n",
    "import math\n",
    "import seaborn as sns\n",
    "import statsmodels.api as sm\n",
    "from statsmodels.stats.outliers_influence import variance_inflation_factor\n",
    "from statsmodels.graphics.regressionplots import plot_leverage_resid2\n",
    "random.seed(123)\n",
    "np.random.seed(123)"
   ]
  },
  {
   "cell_type": "code",
   "execution_count": 28,
   "metadata": {},
   "outputs": [
    {
     "data": {
      "text/html": [
       "<div>\n",
       "<style scoped>\n",
       "    .dataframe tbody tr th:only-of-type {\n",
       "        vertical-align: middle;\n",
       "    }\n",
       "\n",
       "    .dataframe tbody tr th {\n",
       "        vertical-align: top;\n",
       "    }\n",
       "\n",
       "    .dataframe thead th {\n",
       "        text-align: right;\n",
       "    }\n",
       "</style>\n",
       "<table border=\"1\" class=\"dataframe\">\n",
       "  <thead>\n",
       "    <tr style=\"text-align: right;\">\n",
       "      <th></th>\n",
       "      <th>avg_rating</th>\n",
       "      <th>book_title</th>\n",
       "      <th>author_num_unique_books</th>\n",
       "      <th>book_description</th>\n",
       "      <th>book_reviews</th>\n",
       "      <th>genres_str</th>\n",
       "      <th>topic 0</th>\n",
       "      <th>topic 1</th>\n",
       "      <th>topic 2</th>\n",
       "      <th>topic 3</th>\n",
       "      <th>topic 4</th>\n",
       "      <th>topic 5</th>\n",
       "      <th>topic 6</th>\n",
       "      <th>topic 7</th>\n",
       "      <th>topic 8</th>\n",
       "      <th>topic 9</th>\n",
       "      <th>reviews_per_month</th>\n",
       "      <th>reviews_per_month_log</th>\n",
       "    </tr>\n",
       "  </thead>\n",
       "  <tbody>\n",
       "    <tr>\n",
       "      <th>0</th>\n",
       "      <td>4.20</td>\n",
       "      <td>The Gifts of Imperfection</td>\n",
       "      <td>53.0</td>\n",
       "      <td>New York Times best-selling author and profess...</td>\n",
       "      <td>Ive read more than my fair share of self-help ...</td>\n",
       "      <td>audiobook health inspirational mental-health n...</td>\n",
       "      <td>0.0</td>\n",
       "      <td>0.0</td>\n",
       "      <td>0.0</td>\n",
       "      <td>1.0</td>\n",
       "      <td>0.0</td>\n",
       "      <td>0.0</td>\n",
       "      <td>0.0</td>\n",
       "      <td>0.0</td>\n",
       "      <td>0.0</td>\n",
       "      <td>0.0</td>\n",
       "      <td>55.458333</td>\n",
       "      <td>4.015632</td>\n",
       "    </tr>\n",
       "    <tr>\n",
       "      <th>1</th>\n",
       "      <td>4.27</td>\n",
       "      <td>Daring Greatly</td>\n",
       "      <td>53.0</td>\n",
       "      <td>Researcher and thought leader Dr. Brené Brown ...</td>\n",
       "      <td>This book came highly recommended by seemingly...</td>\n",
       "      <td>audiobook business leadership non-fiction pare...</td>\n",
       "      <td>0.0</td>\n",
       "      <td>1.0</td>\n",
       "      <td>0.0</td>\n",
       "      <td>0.0</td>\n",
       "      <td>0.0</td>\n",
       "      <td>0.0</td>\n",
       "      <td>1.0</td>\n",
       "      <td>0.0</td>\n",
       "      <td>0.0</td>\n",
       "      <td>0.0</td>\n",
       "      <td>91.406250</td>\n",
       "      <td>4.515314</td>\n",
       "    </tr>\n",
       "    <tr>\n",
       "      <th>2</th>\n",
       "      <td>3.89</td>\n",
       "      <td>The 4-Hour Workweek</td>\n",
       "      <td>25.0</td>\n",
       "      <td>What do you do? Tim Ferriss has trouble answer...</td>\n",
       "      <td>A few weeks ago in NYC  I sat with two of the ...</td>\n",
       "      <td>audiobook buisness business entrepreneurship f...</td>\n",
       "      <td>0.0</td>\n",
       "      <td>0.0</td>\n",
       "      <td>0.0</td>\n",
       "      <td>1.0</td>\n",
       "      <td>0.0</td>\n",
       "      <td>0.0</td>\n",
       "      <td>0.0</td>\n",
       "      <td>0.0</td>\n",
       "      <td>0.0</td>\n",
       "      <td>0.0</td>\n",
       "      <td>42.134615</td>\n",
       "      <td>3.740870</td>\n",
       "    </tr>\n",
       "    <tr>\n",
       "      <th>3</th>\n",
       "      <td>3.91</td>\n",
       "      <td>The Artist's Way</td>\n",
       "      <td>78.0</td>\n",
       "      <td>The Artist’s Way is the seminal book on the su...</td>\n",
       "      <td>On the whole  the key to the Artists Way is se...</td>\n",
       "      <td>art inspirational non-fiction personal-develop...</td>\n",
       "      <td>0.0</td>\n",
       "      <td>0.0</td>\n",
       "      <td>0.0</td>\n",
       "      <td>0.0</td>\n",
       "      <td>0.0</td>\n",
       "      <td>0.0</td>\n",
       "      <td>0.0</td>\n",
       "      <td>1.0</td>\n",
       "      <td>1.0</td>\n",
       "      <td>1.0</td>\n",
       "      <td>8.020833</td>\n",
       "      <td>2.082042</td>\n",
       "    </tr>\n",
       "    <tr>\n",
       "      <th>4</th>\n",
       "      <td>4.07</td>\n",
       "      <td>Mindset</td>\n",
       "      <td>32.0</td>\n",
       "      <td>A newer edition of this book can be found here...</td>\n",
       "      <td>For practical insights refer to:  Growth Minds...</td>\n",
       "      <td>business education leadership non-fiction pare...</td>\n",
       "      <td>0.0</td>\n",
       "      <td>0.0</td>\n",
       "      <td>0.0</td>\n",
       "      <td>0.0</td>\n",
       "      <td>0.0</td>\n",
       "      <td>0.0</td>\n",
       "      <td>0.0</td>\n",
       "      <td>0.0</td>\n",
       "      <td>0.0</td>\n",
       "      <td>1.0</td>\n",
       "      <td>42.761905</td>\n",
       "      <td>3.755648</td>\n",
       "    </tr>\n",
       "  </tbody>\n",
       "</table>\n",
       "</div>"
      ],
      "text/plain": [
       "   avg_rating                 book_title  author_num_unique_books  \\\n",
       "0        4.20  The Gifts of Imperfection                     53.0   \n",
       "1        4.27             Daring Greatly                     53.0   \n",
       "2        3.89        The 4-Hour Workweek                     25.0   \n",
       "3        3.91           The Artist's Way                     78.0   \n",
       "4        4.07                    Mindset                     32.0   \n",
       "\n",
       "                                    book_description  \\\n",
       "0  New York Times best-selling author and profess...   \n",
       "1  Researcher and thought leader Dr. Brené Brown ...   \n",
       "2  What do you do? Tim Ferriss has trouble answer...   \n",
       "3  The Artist’s Way is the seminal book on the su...   \n",
       "4  A newer edition of this book can be found here...   \n",
       "\n",
       "                                        book_reviews  \\\n",
       "0  Ive read more than my fair share of self-help ...   \n",
       "1  This book came highly recommended by seemingly...   \n",
       "2  A few weeks ago in NYC  I sat with two of the ...   \n",
       "3  On the whole  the key to the Artists Way is se...   \n",
       "4  For practical insights refer to:  Growth Minds...   \n",
       "\n",
       "                                          genres_str  topic 0  topic 1  \\\n",
       "0  audiobook health inspirational mental-health n...      0.0      0.0   \n",
       "1  audiobook business leadership non-fiction pare...      0.0      1.0   \n",
       "2  audiobook buisness business entrepreneurship f...      0.0      0.0   \n",
       "3  art inspirational non-fiction personal-develop...      0.0      0.0   \n",
       "4  business education leadership non-fiction pare...      0.0      0.0   \n",
       "\n",
       "   topic 2  topic 3  topic 4  topic 5  topic 6  topic 7  topic 8  topic 9  \\\n",
       "0      0.0      1.0      0.0      0.0      0.0      0.0      0.0      0.0   \n",
       "1      0.0      0.0      0.0      0.0      1.0      0.0      0.0      0.0   \n",
       "2      0.0      1.0      0.0      0.0      0.0      0.0      0.0      0.0   \n",
       "3      0.0      0.0      0.0      0.0      0.0      1.0      1.0      1.0   \n",
       "4      0.0      0.0      0.0      0.0      0.0      0.0      0.0      1.0   \n",
       "\n",
       "   reviews_per_month  reviews_per_month_log  \n",
       "0          55.458333               4.015632  \n",
       "1          91.406250               4.515314  \n",
       "2          42.134615               3.740870  \n",
       "3           8.020833               2.082042  \n",
       "4          42.761905               3.755648  "
      ]
     },
     "execution_count": 28,
     "metadata": {},
     "output_type": "execute_result"
    },
    {
     "data": {
      "image/png": "[encoded data removed]",
      "text/plain": [
       "<Figure size 432x288 with 1 Axes>"
      ]
     },
     "metadata": {
      "needs_background": "light"
     },
     "output_type": "display_data"
    }
   ],
   "source": [
    "df1 = pd.read_csv('../data/books_25_pages_clean0_description_genres.csv',skipinitialspace=True)\n",
    "df1 = df1.rename(columns = lambda x: x.strip())\n",
    "df1['reviews_per_month_log'] = df1.apply(lambda x :math.log(x['reviews_per_month']),axis=1)\n",
    "ax1 = sns.histplot(df1, x=\"reviews_per_month_log\")\n",
    "fig_temp = ax1.get_figure()\n",
    "fig_temp\n",
    "fig_temp.savefig(\"../data/eda_3.png\")\n",
    "df1.head()"
   ]
  },
  {
   "cell_type": "code",
   "execution_count": 29,
   "metadata": {},
   "outputs": [
    {
     "name": "stdout",
     "output_type": "stream",
     "text": [
      "319\n"
     ]
    },
    {
     "data": {
      "text/html": [
       "<div>\n",
       "<style scoped>\n",
       "    .dataframe tbody tr th:only-of-type {\n",
       "        vertical-align: middle;\n",
       "    }\n",
       "\n",
       "    .dataframe tbody tr th {\n",
       "        vertical-align: top;\n",
       "    }\n",
       "\n",
       "    .dataframe thead th {\n",
       "        text-align: right;\n",
       "    }\n",
       "</style>\n",
       "<table border=\"1\" class=\"dataframe\">\n",
       "  <thead>\n",
       "    <tr style=\"text-align: right;\">\n",
       "      <th></th>\n",
       "      <th>book_title</th>\n",
       "      <th>author_num_unique_books</th>\n",
       "      <th>reviews_per_month</th>\n",
       "    </tr>\n",
       "  </thead>\n",
       "  <tbody>\n",
       "    <tr>\n",
       "      <th>597</th>\n",
       "      <td>The Relaxation &amp; Stress Reduction Workbook</td>\n",
       "      <td>44.0</td>\n",
       "      <td>0.095833</td>\n",
       "    </tr>\n",
       "    <tr>\n",
       "      <th>441</th>\n",
       "      <td>Healing Your Emotional Self</td>\n",
       "      <td>25.0</td>\n",
       "      <td>0.154762</td>\n",
       "    </tr>\n",
       "    <tr>\n",
       "      <th>531</th>\n",
       "      <td>Take Time for Your Life</td>\n",
       "      <td>47.0</td>\n",
       "      <td>0.189394</td>\n",
       "    </tr>\n",
       "  </tbody>\n",
       "</table>\n",
       "</div>"
      ],
      "text/plain": [
       "                                     book_title  author_num_unique_books  \\\n",
       "597  The Relaxation & Stress Reduction Workbook                     44.0   \n",
       "441                 Healing Your Emotional Self                     25.0   \n",
       "531                     Take Time for Your Life                     47.0   \n",
       "\n",
       "     reviews_per_month  \n",
       "597           0.095833  \n",
       "441           0.154762  \n",
       "531           0.189394  "
      ]
     },
     "execution_count": 29,
     "metadata": {},
     "output_type": "execute_result"
    }
   ],
   "source": [
    "# create training and testing dataframes\n",
    "num_half = int(len(df1.index)/2)\n",
    "print(num_half)\n",
    "# df1['intercept'] = 1\n",
    "df_train = df1.sample(frac=1).head(n=num_half)\n",
    "df_validate = df1.sample(frac=1).tail(n=len(df1.index)-num_half)\n",
    "df_validate.to_csv('../data/training.csv',index=False)\n",
    "df_validate.to_csv('../data/validation.csv',index=False)\n",
    "df_validate.sort_values(by=['reviews_per_month','author_num_unique_books'],ascending=True)[['book_title','author_num_unique_books','reviews_per_month']].head(n=3)\n",
    "# df_validate(by=['p-val'],ascending=True)"
   ]
  },
  {
   "cell_type": "code",
   "execution_count": 5,
   "metadata": {},
   "outputs": [
    {
     "data": {
      "text/plain": [
       "10"
      ]
     },
     "execution_count": 5,
     "metadata": {},
     "output_type": "execute_result"
    }
   ],
   "source": [
    "features = [] #'author_num_unique_books','avg_rating'\n",
    "for coli in df_train.columns:\n",
    "    if \"topic\" in coli: features.append(coli)\n",
    "\n",
    "len(features)\n",
    "# for i in range(0,len(list(df1.columns))):\n",
    "#     print(i,list(df1.columns)[i])\n"
   ]
  },
  {
   "cell_type": "code",
   "execution_count": 6,
   "metadata": {},
   "outputs": [
    {
     "data": {
      "text/plain": [
       "<AxesSubplot:>"
      ]
     },
     "execution_count": 6,
     "metadata": {},
     "output_type": "execute_result"
    },
    {
     "data": {
      "image/png": "[encoded data removed]",
      "text/plain": [
       "<Figure size 432x288 with 2 Axes>"
      ]
     },
     "metadata": {
      "needs_background": "light"
     },
     "output_type": "display_data"
    }
   ],
   "source": [
    "\n",
    "sns.heatmap(df_train[features].corr(), annot=False)\n"
   ]
  },
  {
   "cell_type": "code",
   "execution_count": 7,
   "metadata": {},
   "outputs": [],
   "source": [
    "# # build linear regression model\n",
    "y_str = 'reviews_per_month_log'\n",
    "# features.append('intercept')\n",
    "X_train = df_train[features]\n",
    "y_train = df_train[y_str]\n",
    "X_validate = df_validate[features]\n",
    "y_validate = df_validate[y_str]\n",
    "# regr = LinearRegression()\n",
    "# regr.fit(X_train, y_train)\n",
    "# y_pred_validate = regr.predict(X_validate)\n",
    "# regr.score(X_train, y_train)\n",
    "# # print('rmse validation',math.sqrt(mean_squared_error(y_validate, y_pred_validate)))\n",
    "# # print('rsq validation',r2_score(y_validate, y_pred_validate))\n",
    "# # print('rmse training',math.sqrt(mean_squared_error(y_train, regr.predict(X_train))))\n",
    "# # print('rsq training',r2_score(y_train, regr.predict(X_train)))"
   ]
  },
  {
   "cell_type": "code",
   "execution_count": 8,
   "metadata": {},
   "outputs": [],
   "source": [
    "# plt.scatter(y_validate,y_pred_validate,  color='black')\n",
    "# # plt.plot(X_validate, y_pred_validate, color='blue', linewidth=3)\n",
    "# plt.plot(sorted(y_validate,key=float), sorted(y_validate,key=float),'--', linewidth=1,color='red')\n",
    "# # plt.xticks(())\n",
    "# # plt.yticks(())\n",
    "\n",
    "# plt.show()\n"
   ]
  },
  {
   "cell_type": "code",
   "execution_count": 9,
   "metadata": {},
   "outputs": [],
   "source": [
    "# regr.intercept_\n",
    "# regr.coef_"
   ]
  },
  {
   "cell_type": "code",
   "execution_count": 10,
   "metadata": {},
   "outputs": [
    {
     "data": {
      "text/html": [
       "<table class=\"simpletable\">\n",
       "<caption>OLS Regression Results</caption>\n",
       "<tr>\n",
       "  <th>Dep. Variable:</th>    <td>reviews_per_month_log</td> <th>  R-squared (uncentered):</th>      <td>   0.548</td>\n",
       "</tr>\n",
       "<tr>\n",
       "  <th>Model:</th>                     <td>OLS</td>          <th>  Adj. R-squared (uncentered):</th> <td>   0.534</td>\n",
       "</tr>\n",
       "<tr>\n",
       "  <th>Method:</th>               <td>Least Squares</td>     <th>  F-statistic:       </th>          <td>   37.50</td>\n",
       "</tr>\n",
       "<tr>\n",
       "  <th>Date:</th>               <td>Thu, 08 Oct 2020</td>    <th>  Prob (F-statistic):</th>          <td>1.13e-47</td>\n",
       "</tr>\n",
       "<tr>\n",
       "  <th>Time:</th>                   <td>21:46:17</td>        <th>  Log-Likelihood:    </th>          <td> -580.61</td>\n",
       "</tr>\n",
       "<tr>\n",
       "  <th>No. Observations:</th>        <td>   319</td>         <th>  AIC:               </th>          <td>   1181.</td>\n",
       "</tr>\n",
       "<tr>\n",
       "  <th>Df Residuals:</th>            <td>   309</td>         <th>  BIC:               </th>          <td>   1219.</td>\n",
       "</tr>\n",
       "<tr>\n",
       "  <th>Df Model:</th>                <td>    10</td>         <th>                     </th>              <td> </td>   \n",
       "</tr>\n",
       "<tr>\n",
       "  <th>Covariance Type:</th>        <td>nonrobust</td>       <th>                     </th>              <td> </td>   \n",
       "</tr>\n",
       "</table>\n",
       "<table class=\"simpletable\">\n",
       "<tr>\n",
       "     <td></td>        <th>coef</th>     <th>std err</th>      <th>t</th>      <th>P>|t|</th>  <th>[0.025</th>    <th>0.975]</th>  \n",
       "</tr>\n",
       "<tr>\n",
       "  <th>topic 0</th> <td>    0.5412</td> <td>    0.227</td> <td>    2.383</td> <td> 0.018</td> <td>    0.094</td> <td>    0.988</td>\n",
       "</tr>\n",
       "<tr>\n",
       "  <th>topic 1</th> <td>    0.9810</td> <td>    0.237</td> <td>    4.137</td> <td> 0.000</td> <td>    0.514</td> <td>    1.448</td>\n",
       "</tr>\n",
       "<tr>\n",
       "  <th>topic 2</th> <td>    0.7838</td> <td>    0.323</td> <td>    2.429</td> <td> 0.016</td> <td>    0.149</td> <td>    1.419</td>\n",
       "</tr>\n",
       "<tr>\n",
       "  <th>topic 3</th> <td>    0.6604</td> <td>    0.199</td> <td>    3.321</td> <td> 0.001</td> <td>    0.269</td> <td>    1.052</td>\n",
       "</tr>\n",
       "<tr>\n",
       "  <th>topic 4</th> <td>    1.3055</td> <td>    0.299</td> <td>    4.368</td> <td> 0.000</td> <td>    0.717</td> <td>    1.894</td>\n",
       "</tr>\n",
       "<tr>\n",
       "  <th>topic 5</th> <td>    1.2834</td> <td>    0.234</td> <td>    5.477</td> <td> 0.000</td> <td>    0.822</td> <td>    1.744</td>\n",
       "</tr>\n",
       "<tr>\n",
       "  <th>topic 6</th> <td>    0.5663</td> <td>    0.250</td> <td>    2.262</td> <td> 0.024</td> <td>    0.074</td> <td>    1.059</td>\n",
       "</tr>\n",
       "<tr>\n",
       "  <th>topic 7</th> <td>    1.6366</td> <td>    0.186</td> <td>    8.791</td> <td> 0.000</td> <td>    1.270</td> <td>    2.003</td>\n",
       "</tr>\n",
       "<tr>\n",
       "  <th>topic 8</th> <td>    1.0753</td> <td>    0.235</td> <td>    4.568</td> <td> 0.000</td> <td>    0.612</td> <td>    1.538</td>\n",
       "</tr>\n",
       "<tr>\n",
       "  <th>topic 9</th> <td>    0.8680</td> <td>    0.197</td> <td>    4.396</td> <td> 0.000</td> <td>    0.480</td> <td>    1.257</td>\n",
       "</tr>\n",
       "</table>\n",
       "<table class=\"simpletable\">\n",
       "<tr>\n",
       "  <th>Omnibus:</th>       <td> 5.528</td> <th>  Durbin-Watson:     </th> <td>   2.039</td>\n",
       "</tr>\n",
       "<tr>\n",
       "  <th>Prob(Omnibus):</th> <td> 0.063</td> <th>  Jarque-Bera (JB):  </th> <td>   5.448</td>\n",
       "</tr>\n",
       "<tr>\n",
       "  <th>Skew:</th>          <td>-0.284</td> <th>  Prob(JB):          </th> <td>  0.0656</td>\n",
       "</tr>\n",
       "<tr>\n",
       "  <th>Kurtosis:</th>      <td> 2.703</td> <th>  Cond. No.          </th> <td>    2.16</td>\n",
       "</tr>\n",
       "</table><br/><br/>Notes:<br/>[1] R² is computed without centering (uncentered) since the model does not contain a constant.<br/>[2] Standard Errors assume that the covariance matrix of the errors is correctly specified."
      ],
      "text/plain": [
       "<class 'statsmodels.iolib.summary.Summary'>\n",
       "\"\"\"\n",
       "                                  OLS Regression Results                                  \n",
       "==========================================================================================\n",
       "Dep. Variable:     reviews_per_month_log   R-squared (uncentered):                   0.548\n",
       "Model:                               OLS   Adj. R-squared (uncentered):              0.534\n",
       "Method:                    Least Squares   F-statistic:                              37.50\n",
       "Date:                   Thu, 08 Oct 2020   Prob (F-statistic):                    1.13e-47\n",
       "Time:                           21:46:17   Log-Likelihood:                         -580.61\n",
       "No. Observations:                    319   AIC:                                      1181.\n",
       "Df Residuals:                        309   BIC:                                      1219.\n",
       "Df Model:                             10                                                  \n",
       "Covariance Type:               nonrobust                                                  \n",
       "==============================================================================\n",
       "                 coef    std err          t      P>|t|      [0.025      0.975]\n",
       "------------------------------------------------------------------------------\n",
       "topic 0        0.5412      0.227      2.383      0.018       0.094       0.988\n",
       "topic 1        0.9810      0.237      4.137      0.000       0.514       1.448\n",
       "topic 2        0.7838      0.323      2.429      0.016       0.149       1.419\n",
       "topic 3        0.6604      0.199      3.321      0.001       0.269       1.052\n",
       "topic 4        1.3055      0.299      4.368      0.000       0.717       1.894\n",
       "topic 5        1.2834      0.234      5.477      0.000       0.822       1.744\n",
       "topic 6        0.5663      0.250      2.262      0.024       0.074       1.059\n",
       "topic 7        1.6366      0.186      8.791      0.000       1.270       2.003\n",
       "topic 8        1.0753      0.235      4.568      0.000       0.612       1.538\n",
       "topic 9        0.8680      0.197      4.396      0.000       0.480       1.257\n",
       "==============================================================================\n",
       "Omnibus:                        5.528   Durbin-Watson:                   2.039\n",
       "Prob(Omnibus):                  0.063   Jarque-Bera (JB):                5.448\n",
       "Skew:                          -0.284   Prob(JB):                       0.0656\n",
       "Kurtosis:                       2.703   Cond. No.                         2.16\n",
       "==============================================================================\n",
       "\n",
       "Notes:\n",
       "[1] R² is computed without centering (uncentered) since the model does not contain a constant.\n",
       "[2] Standard Errors assume that the covariance matrix of the errors is correctly specified.\n",
       "\"\"\""
      ]
     },
     "execution_count": 10,
     "metadata": {},
     "output_type": "execute_result"
    }
   ],
   "source": [
    "# exog = sm.add_constant(X_train)\n",
    "# ols = sm.OLS(y_train,exog)\n",
    "ols = sm.OLS(y_train,X_train)\n",
    "ols_result = ols.fit()\n",
    "ols_result.save(\"../data/ols.pickle\")\n",
    "\n",
    "ols_result.summary()\n",
    "\n",
    "# predict = ols_result.predict(X_train)\n",
    "# from statsmodels.graphics.regressionplots import plot_leverage_resid2\n",
    "# fig, ax = plt.subplots(figsize=(8,6))\n",
    "# fig = plot_leverage_resid2(ols_result, ax = ax)\n"
   ]
  },
  {
   "cell_type": "code",
   "execution_count": 39,
   "metadata": {},
   "outputs": [
    {
     "data": {
      "text/html": [
       "<div>\n",
       "<style scoped>\n",
       "    .dataframe tbody tr th:only-of-type {\n",
       "        vertical-align: middle;\n",
       "    }\n",
       "\n",
       "    .dataframe tbody tr th {\n",
       "        vertical-align: top;\n",
       "    }\n",
       "\n",
       "    .dataframe thead th {\n",
       "        text-align: right;\n",
       "    }\n",
       "</style>\n",
       "<table border=\"1\" class=\"dataframe\">\n",
       "  <thead>\n",
       "    <tr style=\"text-align: right;\">\n",
       "      <th></th>\n",
       "      <th>topic</th>\n",
       "      <th>coefficient</th>\n",
       "      <th>p-val</th>\n",
       "      <th>conf_int_low</th>\n",
       "      <th>conf_int_high</th>\n",
       "      <th>topic_name</th>\n",
       "    </tr>\n",
       "  </thead>\n",
       "  <tbody>\n",
       "    <tr>\n",
       "      <th>7</th>\n",
       "      <td>7</td>\n",
       "      <td>1.636593</td>\n",
       "      <td>1.055288e-16</td>\n",
       "      <td>1.270266</td>\n",
       "      <td>2.002920</td>\n",
       "      <td>* goals for success</td>\n",
       "    </tr>\n",
       "    <tr>\n",
       "      <th>5</th>\n",
       "      <td>5</td>\n",
       "      <td>1.283439</td>\n",
       "      <td>8.958098e-08</td>\n",
       "      <td>0.822380</td>\n",
       "      <td>1.744498</td>\n",
       "      <td>* happinness</td>\n",
       "    </tr>\n",
       "    <tr>\n",
       "      <th>8</th>\n",
       "      <td>8</td>\n",
       "      <td>1.075283</td>\n",
       "      <td>7.134816e-06</td>\n",
       "      <td>0.612068</td>\n",
       "      <td>1.538499</td>\n",
       "      <td>* habits</td>\n",
       "    </tr>\n",
       "    <tr>\n",
       "      <th>9</th>\n",
       "      <td>9</td>\n",
       "      <td>0.868031</td>\n",
       "      <td>1.517501e-05</td>\n",
       "      <td>0.479507</td>\n",
       "      <td>1.256556</td>\n",
       "      <td>* business advice</td>\n",
       "    </tr>\n",
       "    <tr>\n",
       "      <th>4</th>\n",
       "      <td>4</td>\n",
       "      <td>1.305450</td>\n",
       "      <td>1.714351e-05</td>\n",
       "      <td>0.717364</td>\n",
       "      <td>1.893536</td>\n",
       "      <td>* brain study</td>\n",
       "    </tr>\n",
       "    <tr>\n",
       "      <th>1</th>\n",
       "      <td>1</td>\n",
       "      <td>0.981021</td>\n",
       "      <td>4.547668e-05</td>\n",
       "      <td>0.514379</td>\n",
       "      <td>1.447663</td>\n",
       "      <td>* relationship</td>\n",
       "    </tr>\n",
       "    <tr>\n",
       "      <th>3</th>\n",
       "      <td>3</td>\n",
       "      <td>0.660404</td>\n",
       "      <td>1.004394e-03</td>\n",
       "      <td>0.269121</td>\n",
       "      <td>1.051686</td>\n",
       "      <td>* inspirational story</td>\n",
       "    </tr>\n",
       "    <tr>\n",
       "      <th>2</th>\n",
       "      <td>2</td>\n",
       "      <td>0.783836</td>\n",
       "      <td>1.572994e-02</td>\n",
       "      <td>0.148751</td>\n",
       "      <td>1.418921</td>\n",
       "      <td>women</td>\n",
       "    </tr>\n",
       "    <tr>\n",
       "      <th>0</th>\n",
       "      <td>0</td>\n",
       "      <td>0.541216</td>\n",
       "      <td>1.777058e-02</td>\n",
       "      <td>0.094351</td>\n",
       "      <td>0.988082</td>\n",
       "      <td>human problem</td>\n",
       "    </tr>\n",
       "    <tr>\n",
       "      <th>6</th>\n",
       "      <td>6</td>\n",
       "      <td>0.566250</td>\n",
       "      <td>2.439406e-02</td>\n",
       "      <td>0.073672</td>\n",
       "      <td>1.058828</td>\n",
       "      <td>emotions</td>\n",
       "    </tr>\n",
       "  </tbody>\n",
       "</table>\n",
       "</div>"
      ],
      "text/plain": [
       "   topic  coefficient         p-val  conf_int_low  conf_int_high  \\\n",
       "7      7     1.636593  1.055288e-16      1.270266       2.002920   \n",
       "5      5     1.283439  8.958098e-08      0.822380       1.744498   \n",
       "8      8     1.075283  7.134816e-06      0.612068       1.538499   \n",
       "9      9     0.868031  1.517501e-05      0.479507       1.256556   \n",
       "4      4     1.305450  1.714351e-05      0.717364       1.893536   \n",
       "1      1     0.981021  4.547668e-05      0.514379       1.447663   \n",
       "3      3     0.660404  1.004394e-03      0.269121       1.051686   \n",
       "2      2     0.783836  1.572994e-02      0.148751       1.418921   \n",
       "0      0     0.541216  1.777058e-02      0.094351       0.988082   \n",
       "6      6     0.566250  2.439406e-02      0.073672       1.058828   \n",
       "\n",
       "              topic_name  \n",
       "7    * goals for success  \n",
       "5           * happinness  \n",
       "8               * habits  \n",
       "9      * business advice  \n",
       "4          * brain study  \n",
       "1         * relationship  \n",
       "3  * inspirational story  \n",
       "2                  women  \n",
       "0          human problem  \n",
       "6               emotions  "
      ]
     },
     "execution_count": 39,
     "metadata": {},
     "output_type": "execute_result"
    }
   ],
   "source": [
    "df_coeff = pd.DataFrame() #.reset_index()\n",
    "df_coeff['coefficient'] = ols_result.params\n",
    "df_coeff['p-val'] = ols_result.pvalues\n",
    "df_coeff['conf_int_low'] = ols_result.conf_int()[0].values\n",
    "df_coeff['conf_int_high'] = ols_result.conf_int()[1].values\n",
    "df_coeff = df_coeff.reset_index()\n",
    "df_coeff['index'] = [i for i in range(0,len(df_coeff.index))]\n",
    "df_coeff = df_coeff.rename(columns={'index':'topic'})\n",
    "df_coeff['topic_name'] = ['human problem',\n",
    "                          '* relationship',\n",
    "                          'women',\n",
    "                          '* inspirational story',\n",
    "                          '* brain study',\n",
    "                          '* happinness',\n",
    "                          'emotions', \n",
    "                          '* goals for success', \n",
    "                          '* habits', \n",
    "                          '* business advice']\n",
    "\n",
    "df_coeff.sort_values(by=['p-val'],ascending=True)"
   ]
  },
  {
   "cell_type": "code",
   "execution_count": 41,
   "metadata": {},
   "outputs": [
    {
     "data": {
      "image/png": "[encoded data removed]",
      "text/plain": [
       "<Figure size 432x288 with 1 Axes>"
      ]
     },
     "metadata": {
      "needs_background": "light"
     },
     "output_type": "display_data"
    }
   ],
   "source": [
    "# bar chart of coefficients\n",
    "# Bonferroni correction\n",
    "\n",
    "significance_cutoff = 0.05/len(df_coeff.index)\n",
    "\n",
    "temp_coeff = df_coeff.copy()\n",
    "# temp_coeff = temp_coeff[temp_coeff['p-val'] <significance_cutoff ]\n",
    "\n",
    "temp_coeff['coefficient'] = temp_coeff.apply(lambda x: math.exp(x['coefficient']),axis=1)\n",
    "temp_coeff['conf_int_low'] = temp_coeff.apply(lambda x: math.exp(x['conf_int_low']),axis=1)\n",
    "temp_coeff['conf_int_high'] = temp_coeff.apply(lambda x: math.exp(x['conf_int_high']),axis=1)\n",
    "\n",
    "new_col_name = 'reviews per month'\n",
    "temp_coeff = temp_coeff.rename(columns={'coefficient': new_col_name})\n",
    "\n",
    "temp_coeff = temp_coeff.sort_values(by=['p-val','coefficient'],ascending=True)\n",
    "\n",
    "yerr = [temp_coeff[new_col_name]-temp_coeff['conf_int_low'], temp_coeff['conf_int_high'] - temp_coeff[new_col_name]]\n",
    "ax1 = sns.barplot(x=new_col_name, y=\"topic_name\", data=temp_coeff)\n",
    "# ax1 = sns.barplot(x=\"topic_name\", y=new_col_name, data=temp_coeff)\n",
    "# plt.errorbar(x=list(range(0,len(temp_coeff.index))),y=temp_coeff[new_col_name],yerr=yerr, fmt='none', c= 'k')\n",
    "\n",
    "# ax1.set_xticklabels(ax1.get_xticklabels(), rotation=0)\n",
    "plt.tight_layout()\n",
    "\n",
    "fig = ax1.get_figure()\n",
    "fig.savefig(\"../data/eda_5.svg\")#,dpi=1000)"
   ]
  },
  {
   "cell_type": "code",
   "execution_count": 13,
   "metadata": {},
   "outputs": [
    {
     "data": {
      "text/html": [
       "<div>\n",
       "<style scoped>\n",
       "    .dataframe tbody tr th:only-of-type {\n",
       "        vertical-align: middle;\n",
       "    }\n",
       "\n",
       "    .dataframe tbody tr th {\n",
       "        vertical-align: top;\n",
       "    }\n",
       "\n",
       "    .dataframe thead th {\n",
       "        text-align: right;\n",
       "    }\n",
       "</style>\n",
       "<table border=\"1\" class=\"dataframe\">\n",
       "  <thead>\n",
       "    <tr style=\"text-align: right;\">\n",
       "      <th></th>\n",
       "      <th>VIF Factor</th>\n",
       "      <th>features</th>\n",
       "    </tr>\n",
       "  </thead>\n",
       "  <tbody>\n",
       "    <tr>\n",
       "      <th>0</th>\n",
       "      <td>1.1</td>\n",
       "      <td>topic 0</td>\n",
       "    </tr>\n",
       "    <tr>\n",
       "      <th>1</th>\n",
       "      <td>1.1</td>\n",
       "      <td>topic 1</td>\n",
       "    </tr>\n",
       "    <tr>\n",
       "      <th>2</th>\n",
       "      <td>1.0</td>\n",
       "      <td>topic 2</td>\n",
       "    </tr>\n",
       "    <tr>\n",
       "      <th>3</th>\n",
       "      <td>1.1</td>\n",
       "      <td>topic 3</td>\n",
       "    </tr>\n",
       "    <tr>\n",
       "      <th>4</th>\n",
       "      <td>1.0</td>\n",
       "      <td>topic 4</td>\n",
       "    </tr>\n",
       "    <tr>\n",
       "      <th>5</th>\n",
       "      <td>1.1</td>\n",
       "      <td>topic 5</td>\n",
       "    </tr>\n",
       "    <tr>\n",
       "      <th>6</th>\n",
       "      <td>1.1</td>\n",
       "      <td>topic 6</td>\n",
       "    </tr>\n",
       "    <tr>\n",
       "      <th>7</th>\n",
       "      <td>1.1</td>\n",
       "      <td>topic 7</td>\n",
       "    </tr>\n",
       "    <tr>\n",
       "      <th>8</th>\n",
       "      <td>1.1</td>\n",
       "      <td>topic 8</td>\n",
       "    </tr>\n",
       "    <tr>\n",
       "      <th>9</th>\n",
       "      <td>1.1</td>\n",
       "      <td>topic 9</td>\n",
       "    </tr>\n",
       "  </tbody>\n",
       "</table>\n",
       "</div>"
      ],
      "text/plain": [
       "   VIF Factor features\n",
       "0         1.1  topic 0\n",
       "1         1.1  topic 1\n",
       "2         1.0  topic 2\n",
       "3         1.1  topic 3\n",
       "4         1.0  topic 4\n",
       "5         1.1  topic 5\n",
       "6         1.1  topic 6\n",
       "7         1.1  topic 7\n",
       "8         1.1  topic 8\n",
       "9         1.1  topic 9"
      ]
     },
     "execution_count": 13,
     "metadata": {},
     "output_type": "execute_result"
    }
   ],
   "source": [
    "vif = pd.DataFrame()\n",
    "vif[\"VIF Factor\"] = [variance_inflation_factor(X_train.values, i) for i in range(X_train.shape[1])]\n",
    "vif[\"features\"] = X_train.columns\n",
    "vif.round(1)"
   ]
  },
  {
   "cell_type": "code",
   "execution_count": 14,
   "metadata": {},
   "outputs": [
    {
     "name": "stdout",
     "output_type": "stream",
     "text": [
      "rmse validation 1.5742304953294357\n",
      "rmse training 1.4935504811415503\n",
      "4.82702576973755\n",
      "4.452877342922553\n"
     ]
    }
   ],
   "source": [
    "ynewpred =  ols_result.predict(X_validate) # predict out of sample\n",
    "# fig, ax = plt.subplots()\n",
    "# ax.plot(x1, y, 'o', label=\"Data\")\n",
    "# ax.plot(x1, y_true, 'b-', label=\"True\")\n",
    "\n",
    "\n",
    "# plt.scatter(y_validate, ynewpred,  color='black')\n",
    "# plt.plot(X_validate, y_pred_validate, color='blue', linewidth=3)\n",
    "# plt.plot(sorted(y_validate,key=float), sorted(y_validate,key=float),'--', linewidth=1,color='red')\n",
    "# plt.xticks(())\n",
    "# plt.yticks(())\n",
    "print('rmse validation',math.sqrt(mean_squared_error(y_validate, ynewpred)))\n",
    "print('rmse training',math.sqrt(mean_squared_error(y_train, ols_result.predict(X_train))))\n",
    "print(math.exp(math.sqrt(mean_squared_error(y_validate, ynewpred))))\n",
    "print(math.exp(math.sqrt(mean_squared_error(y_train, ols_result.predict(X_train)))))\n",
    "# plt.show()"
   ]
  },
  {
   "cell_type": "code",
   "execution_count": 15,
   "metadata": {},
   "outputs": [
    {
     "data": {
      "image/png": "[encoded data removed]",
      "text/plain": [
       "<Figure size 432x288 with 1 Axes>"
      ]
     },
     "metadata": {
      "needs_background": "light"
     },
     "output_type": "display_data"
    }
   ],
   "source": [
    "### quality of linear model\n",
    "res = ols_result.resid \n",
    "fig = sm.qqplot(res,line=\"q\")"
   ]
  },
  {
   "cell_type": "code",
   "execution_count": 16,
   "metadata": {},
   "outputs": [
    {
     "data": {
      "image/png": "[encoded data removed]",
      "text/plain": [
       "<Figure size 432x288 with 1 Axes>"
      ]
     },
     "metadata": {
      "needs_background": "light"
     },
     "output_type": "display_data"
    }
   ],
   "source": [
    "# fig, ax = plt.subplots(figsize=(8,6))\n",
    "# plot_leverage_resid2(ols_result, ax = ax)\n",
    "influence_plot = sm.graphics.influence_plot(ols_result, size=8)"
   ]
  },
  {
   "cell_type": "code",
   "execution_count": 17,
   "metadata": {},
   "outputs": [
    {
     "data": {
      "text/plain": [
       "<matplotlib.lines.Line2D at 0x1f7490576d8>"
      ]
     },
     "execution_count": 17,
     "metadata": {},
     "output_type": "execute_result"
    },
    {
     "data": {
      "image/png": "[encoded data removed]",
      "text/plain": [
       "<Figure size 432x288 with 1 Axes>"
      ]
     },
     "metadata": {
      "needs_background": "light"
     },
     "output_type": "display_data"
    }
   ],
   "source": [
    "# residuals\n",
    "plt.plot(ols_result.resid_pearson, 'o', ls = 'None')\n",
    "plt.axhline(y=0, color = 'r')\n",
    "# plt.scatter(x=ols_result.fittedvalues,y=ols_result.resid)"
   ]
  },
  {
   "cell_type": "code",
   "execution_count": 18,
   "metadata": {},
   "outputs": [
    {
     "name": "stderr",
     "output_type": "stream",
     "text": [
      "[nltk_data] Downloading package punkt to\n",
      "[nltk_data]     C:\\Users\\valer\\AppData\\Roaming\\nltk_data...\n",
      "[nltk_data]   Package punkt is already up-to-date!\n"
     ]
    }
   ],
   "source": [
    "from nltk.corpus import stopwords\n",
    "from nltk.tokenize import word_tokenize\n",
    "from nltk.stem import PorterStemmer\n",
    "from num2words import num2words\n",
    "import nltk\n",
    "nltk.download('punkt')\n",
    "def convert_lower_case(data):\n",
    "    return np.char.lower(data)\n",
    "def remove_stop_words(data):\n",
    "    stop_words = stopwords.words('english')\n",
    "    words = word_tokenize(str(data))\n",
    "    new_text = \"\"\n",
    "    for w in words:\n",
    "        if w not in stop_words and len(w) > 1:\n",
    "            new_text = new_text + \" \" + w\n",
    "    return new_text\n",
    "def remove_punctuation(data):\n",
    "    symbols = \"!\\\"#$%&()*+-./:;<=>?@[\\]^_`{|}~\\n\"\n",
    "    for i in range(len(symbols)):\n",
    "        data = np.char.replace(data, symbols[i], ' ')\n",
    "        data = np.char.replace(data, \"  \", \" \")\n",
    "    data = np.char.replace(data, ',', '')\n",
    "    return data\n",
    "def remove_apostrophe(data):\n",
    "    return np.char.replace(data, \"'\", \"\")\n",
    "def stemming(data):\n",
    "    stemmer= PorterStemmer()\n",
    "    \n",
    "    tokens = word_tokenize(str(data))\n",
    "    new_text = \"\"\n",
    "    for w in tokens:\n",
    "        new_text = new_text + \" \" + stemmer.stem(w)\n",
    "    return new_text\n",
    "def convert_numbers(data):\n",
    "    tokens = word_tokenize(str(data))\n",
    "    new_text = \"\"\n",
    "    for w in tokens:\n",
    "        try:\n",
    "            w = num2words(int(w))\n",
    "        except:\n",
    "            a = 0\n",
    "        new_text = new_text + \" \" + w\n",
    "    new_text = np.char.replace(new_text, \"-\", \" \")\n",
    "    return new_text\n",
    "def remove_obvious(data):\n",
    "    return_data = str(data).replace(\"book\",\"\").replace(\"self\",\"\").replace(\"help\",\"\").replace(\"author\",\"\").replace(\"peopl\",\"person\").replace(\"bestsel\",\"\").replace(\"reader\",\"\")\n",
    "    return return_data \n",
    "\n",
    "def preprocess(data):\n",
    "    data = convert_lower_case(data)\n",
    "    data = remove_punctuation(data) #remove comma seperately\n",
    "    data = remove_apostrophe(data)\n",
    "    data = remove_stop_words(data)\n",
    "    data = convert_numbers(data)\n",
    "    data = stemming(data)\n",
    "    data = remove_punctuation(data)\n",
    "    data = convert_numbers(data)\n",
    "    data = stemming(data) #needed again as we need to stem the words\n",
    "    data = remove_punctuation(data) #needed again as num2word is giving few hypens and commas fourty-one\n",
    "    data = remove_stop_words(data) #needed again as num2word is giving stop words 101 - one hundred and one\n",
    "    data = remove_obvious(data)\n",
    "    return data"
   ]
  },
  {
   "cell_type": "code",
   "execution_count": 19,
   "metadata": {},
   "outputs": [],
   "source": [
    "import pickle\n",
    "filename_model = '../data/topic_model_tfidf_nmf.pickle'\n",
    "nmf_model = pickle.load(open(filename_model, 'rb'))\n",
    "filename_model = '../data/topic_model_tfidf.pickle'\n",
    "tfidf_model = pickle.load(open(filename_model, 'rb'))"
   ]
  },
  {
   "cell_type": "code",
   "execution_count": 23,
   "metadata": {},
   "outputs": [
    {
     "name": "stdout",
     "output_type": "stream",
     "text": [
      "human problem question study present effect reason fact ask inform listen real happen\n",
      "relationship family problem\n",
      "women\n",
      "story inspire family happen real listen\n",
      "brain study inform effect fact\n",
      "happy positive inspire present happen reason\n",
      "emotion step present listen positive effect\n",
      "success goal business create positive inspire\n",
      "habit step goal effect problem inform\n",
      "advice job business listen step inform family\n"
     ]
    },
    {
     "data": {
      "text/plain": [
       "[None, None, None, None, None, None, None, None, None, None]"
      ]
     },
     "execution_count": 23,
     "metadata": {},
     "output_type": "execute_result"
    }
   ],
   "source": [
    "# import top words from topic model and merge with output of linear regression model\n",
    "df_top_words = pd.read_csv('../data/books_25_pages_author_info_description_genres_topics_top_words.csv',skipinitialspace=True)\n",
    "df_top_words = df_top_words.rename(columns = lambda x: x.strip())\n",
    "df_coeff_topics = df_coeff.merge(df_top_words)\n",
    "df_coeff_topics.to_csv('../data/books_25_pages_author_info_description_genres_topics_top_words_ols_coeff.csv',index=False)\n",
    "df_coeff_topics.sort_values(by=['p-val'],ascending=True)\n",
    "[print(i) for i in df_coeff_topics['top_words'].values]"
   ]
  },
  {
   "cell_type": "code",
   "execution_count": 165,
   "metadata": {},
   "outputs": [
    {
     "data": {
      "text/plain": [
       "' think fast slow broken open difficult time  us grow twenti five year sinc co found omega institut world largest center spiritu retreat person growth elizabeth lesser intim wit way person weather chang transit beauti craft blend move stori humor insight practic guidanc person memoir offer tool  us make choic face time challeng broken defeat broken open transform lesser share tale ordinari person risen ash ill divorc loss job love one stronger wiser touch purpo passion draw world great spiritu psycholog tradit support us learn break open blossom meant'"
      ]
     },
     "execution_count": 165,
     "metadata": {},
     "output_type": "execute_result"
    }
   ],
   "source": [
    "title_1 = 'Thinking, Fast and Slow'\n",
    "# description_1 = ' we think. System 1 is fast, intuitive, and emotional; System 2 is slower, more deliberative, and more logical. Kahneman exposes the extraordinary capabilities—and also the faults and biases—of fast thinking, and reveals the pervasive influence of intuitive impressions on our thoughts and behavior. The impact of loss aversion and overconfidence on corporate strategies, the difficulties of predicting what will make us happy in the future, the challenges of properly framing risks at work and at home, the profound effect of cognitive biases on everything from playing the stock market to planning the next vacation—each of these can be understood only by knowing how the two systems work together to shape our judgments and decisions.Engaging the reader in a lively conversation about how we think, Kahneman reveals where we can and cannot trust our intuitions and how we can tap into the benefits of slow thinking. He offers practical and enlightening insights into how choices are made in both our business and our personal lives—and how we can use different techniques to guard against the mental glitches that often get us into trouble. Thinking, Fast and Slow will transform the way you think about thinking'\n",
    "# keywords_1 = 'nonfiction, psychology, science, business, economics, self help, philosofy, audiobook'\n",
    "# title_1 = 'The Life-Changing Magic of Tidying Up: The Japanese Art of Decluttering and Organizing'\n",
    "# description_1 = 'Despite constant efforts to declutter your home, do papers still accumulate like snowdrifts and clothes pile up like a tangled mess of noodles? Japanese cleaning consultant Marie Kondo takes tidying to a whole new level, promising that if you properly simplify and organize your home once, youll never have to do it again. Most methods advocate a room-by-room or little-by-little approach, which doom you to pick away at your piles of stuff forever. The KonMari Method, with its revolutionary category-by-category system, leads to lasting results. In fact, none of Kondos clients have lapsed (and she still has a three-month waiting list) With detailed guidance for determining which items in your house spark joy (and which dont), this international best seller featuring Tokyos newest lifestyle phenomenon will help you clear your clutter and enjoy the unique magic of a tidy home - and the calm, motivated mindset it can inspire'\n",
    "# keywords_1 = ''\n",
    "# title_1 = 'The Power of Now: A Guide to Spiritual Enlightenment'\n",
    "# description_1 = 'Eckhart Tolles message is simple: living in the now is the truest path to happiness and enlightenment. And while this message may not seem stunningly original or fresh, Tolles clear writing, supportive voice and enthusiasm make this an excellent manual for anyone whos ever wondered what exactly living in the now means. Foremost, Tolle is a world-class teacher, able to explain complicated concepts in concrete language. More importantly, within a chapter of reading this book, readers are already holding the world in a different container--more conscious of how thoughts and emotions get in the way of their ability to live in genuine peace and happiness. Tolle packs a lot of information and inspirational ideas into The Power of Now. (Topics include the source of Chi, enlightened relationships, creative use of the mind, impermanence and the cycle of life.) Thankfully, hes added markers that symbolise break time. This is when readers should close the book and mull over what they just read. As a result, The Power of Now reads like the highly acclaimed A Course in Miracles--a spiritual guidebook that has the potential to inspire just as many study groups and change just as many lives for the better. --Gail Hudson'\n",
    "# keywords_1 = ''\n",
    "# title_1 = ''\n",
    "# description_1 = ''\n",
    "# keywords_1 = 'self help, autism, motivational, money'\n",
    "description_1 = 'Broken Open: How Difficult Times Can Help Us Grow In the more than twenty-five years since she co-founded Omega Institute - now the worlds largest center for spiritual retreat and personal growth -Elizabeth Lesser has been an intimate witness to the ways in which people weather change and transition. In a beautifully crafted blend of moving stories, humorous insights, practical guidance, and personal memoir, she offers tools to help us make the choice we all face in times of challenge: Will we be broken down and defeated, or broken open and transformed? Lesser shares tales of ordinary people who have risen from the ashes of illness, divorce, loss of a job or a loved one - stronger, wiser, and more in touch with their purpose and passion. And she draws on the worlds great spiritual and psychological traditions to support us as we too learn to break open and blossom into who we were meant to be.'\n",
    "\n",
    "input_text = title_1+' '+description_1 #+ ' ' + keywords_1\n",
    "processed_input_text = preprocess(input_text)\n",
    "processed_input_text"
   ]
  },
  {
   "cell_type": "code",
   "execution_count": 166,
   "metadata": {},
   "outputs": [
    {
     "data": {
      "text/html": [
       "<div>\n",
       "<style scoped>\n",
       "    .dataframe tbody tr th:only-of-type {\n",
       "        vertical-align: middle;\n",
       "    }\n",
       "\n",
       "    .dataframe tbody tr th {\n",
       "        vertical-align: top;\n",
       "    }\n",
       "\n",
       "    .dataframe thead th {\n",
       "        text-align: right;\n",
       "    }\n",
       "</style>\n",
       "<table border=\"1\" class=\"dataframe\">\n",
       "  <thead>\n",
       "    <tr style=\"text-align: right;\">\n",
       "      <th></th>\n",
       "      <th>topic_0</th>\n",
       "      <th>topic_1</th>\n",
       "      <th>topic_2</th>\n",
       "      <th>topic_3</th>\n",
       "      <th>topic_4</th>\n",
       "      <th>topic_5</th>\n",
       "      <th>topic_6</th>\n",
       "      <th>topic_7</th>\n",
       "      <th>topic_8</th>\n",
       "      <th>topic_9</th>\n",
       "    </tr>\n",
       "  </thead>\n",
       "  <tbody>\n",
       "    <tr>\n",
       "      <th>0</th>\n",
       "      <td>0.0</td>\n",
       "      <td>0.0</td>\n",
       "      <td>0.0</td>\n",
       "      <td>0.192823</td>\n",
       "      <td>0.0</td>\n",
       "      <td>0.0</td>\n",
       "      <td>0.0</td>\n",
       "      <td>0.0</td>\n",
       "      <td>0.0</td>\n",
       "      <td>0.081815</td>\n",
       "    </tr>\n",
       "  </tbody>\n",
       "</table>\n",
       "</div>"
      ],
      "text/plain": [
       "   topic_0  topic_1  topic_2   topic_3  topic_4  topic_5  topic_6  topic_7  \\\n",
       "0      0.0      0.0      0.0  0.192823      0.0      0.0      0.0      0.0   \n",
       "\n",
       "   topic_8   topic_9  \n",
       "0      0.0  0.081815  "
      ]
     },
     "execution_count": 166,
     "metadata": {},
     "output_type": "execute_result"
    }
   ],
   "source": [
    "# transform text to features for linear regression\n",
    "num_topics = 10\n",
    "X_tfidf = tfidf_model.transform([processed_input_text])\n",
    "X_nmf = nmf_model.transform(X_tfidf)\n",
    "df_x_nmf = pd.DataFrame(X_nmf,columns = ['topic_'+str(i) for i in range(0,num_topics)]) \n",
    "df_x_nmf"
   ]
  },
  {
   "cell_type": "code",
   "execution_count": 167,
   "metadata": {},
   "outputs": [
    {
     "data": {
      "text/html": [
       "<div>\n",
       "<style scoped>\n",
       "    .dataframe tbody tr th:only-of-type {\n",
       "        vertical-align: middle;\n",
       "    }\n",
       "\n",
       "    .dataframe tbody tr th {\n",
       "        vertical-align: top;\n",
       "    }\n",
       "\n",
       "    .dataframe thead th {\n",
       "        text-align: right;\n",
       "    }\n",
       "</style>\n",
       "<table border=\"1\" class=\"dataframe\">\n",
       "  <thead>\n",
       "    <tr style=\"text-align: right;\">\n",
       "      <th></th>\n",
       "      <th>topic</th>\n",
       "      <th>probability</th>\n",
       "    </tr>\n",
       "  </thead>\n",
       "  <tbody>\n",
       "    <tr>\n",
       "      <th>0</th>\n",
       "      <td>0</td>\n",
       "      <td>0.000000</td>\n",
       "    </tr>\n",
       "    <tr>\n",
       "      <th>1</th>\n",
       "      <td>1</td>\n",
       "      <td>0.000000</td>\n",
       "    </tr>\n",
       "    <tr>\n",
       "      <th>2</th>\n",
       "      <td>2</td>\n",
       "      <td>0.000000</td>\n",
       "    </tr>\n",
       "    <tr>\n",
       "      <th>3</th>\n",
       "      <td>3</td>\n",
       "      <td>0.192823</td>\n",
       "    </tr>\n",
       "    <tr>\n",
       "      <th>4</th>\n",
       "      <td>4</td>\n",
       "      <td>0.000000</td>\n",
       "    </tr>\n",
       "    <tr>\n",
       "      <th>5</th>\n",
       "      <td>5</td>\n",
       "      <td>0.000000</td>\n",
       "    </tr>\n",
       "    <tr>\n",
       "      <th>6</th>\n",
       "      <td>6</td>\n",
       "      <td>0.000000</td>\n",
       "    </tr>\n",
       "    <tr>\n",
       "      <th>7</th>\n",
       "      <td>7</td>\n",
       "      <td>0.000000</td>\n",
       "    </tr>\n",
       "    <tr>\n",
       "      <th>8</th>\n",
       "      <td>8</td>\n",
       "      <td>0.000000</td>\n",
       "    </tr>\n",
       "    <tr>\n",
       "      <th>9</th>\n",
       "      <td>9</td>\n",
       "      <td>0.081815</td>\n",
       "    </tr>\n",
       "  </tbody>\n",
       "</table>\n",
       "</div>"
      ],
      "text/plain": [
       "   topic  probability\n",
       "0      0     0.000000\n",
       "1      1     0.000000\n",
       "2      2     0.000000\n",
       "3      3     0.192823\n",
       "4      4     0.000000\n",
       "5      5     0.000000\n",
       "6      6     0.000000\n",
       "7      7     0.000000\n",
       "8      8     0.000000\n",
       "9      9     0.081815"
      ]
     },
     "execution_count": 167,
     "metadata": {},
     "output_type": "execute_result"
    }
   ],
   "source": [
    "# convert into useful dataframe\n",
    "df_x_nmf_tp = df_x_nmf.transpose().reset_index()\n",
    "df_x_nmf_tp = df_x_nmf_tp.rename(columns={'index':'topic',0:'probability'})\n",
    "df_x_nmf_tp['topic'] = list(range(0,len(df_x_nmf_tp['topic'].values)))\n",
    "df_x_nmf_tp"
   ]
  },
  {
   "cell_type": "code",
   "execution_count": 168,
   "metadata": {},
   "outputs": [
    {
     "data": {
      "text/html": [
       "<div>\n",
       "<style scoped>\n",
       "    .dataframe tbody tr th:only-of-type {\n",
       "        vertical-align: middle;\n",
       "    }\n",
       "\n",
       "    .dataframe tbody tr th {\n",
       "        vertical-align: top;\n",
       "    }\n",
       "\n",
       "    .dataframe thead th {\n",
       "        text-align: right;\n",
       "    }\n",
       "</style>\n",
       "<table border=\"1\" class=\"dataframe\">\n",
       "  <thead>\n",
       "    <tr style=\"text-align: right;\">\n",
       "      <th></th>\n",
       "      <th>topic</th>\n",
       "      <th>probability</th>\n",
       "    </tr>\n",
       "  </thead>\n",
       "  <tbody>\n",
       "    <tr>\n",
       "      <th>3</th>\n",
       "      <td>3</td>\n",
       "      <td>0.192823</td>\n",
       "    </tr>\n",
       "  </tbody>\n",
       "</table>\n",
       "</div>"
      ],
      "text/plain": [
       "   topic  probability\n",
       "3      3     0.192823"
      ]
     },
     "execution_count": 168,
     "metadata": {},
     "output_type": "execute_result"
    }
   ],
   "source": [
    "# probability cutoff for topic model\n",
    "cutoff_prob = 0.15\n",
    "topics_list = df_x_nmf_tp[df_x_nmf_tp['probability'] > cutoff_prob]['topic'].values\n",
    "df_x_nmf_tp[df_x_nmf_tp['probability'] > cutoff_prob]"
   ]
  },
  {
   "cell_type": "code",
   "execution_count": 169,
   "metadata": {},
   "outputs": [
    {
     "data": {
      "text/html": [
       "<div>\n",
       "<style scoped>\n",
       "    .dataframe tbody tr th:only-of-type {\n",
       "        vertical-align: middle;\n",
       "    }\n",
       "\n",
       "    .dataframe tbody tr th {\n",
       "        vertical-align: top;\n",
       "    }\n",
       "\n",
       "    .dataframe thead th {\n",
       "        text-align: right;\n",
       "    }\n",
       "</style>\n",
       "<table border=\"1\" class=\"dataframe\">\n",
       "  <thead>\n",
       "    <tr style=\"text-align: right;\">\n",
       "      <th></th>\n",
       "      <th>topic</th>\n",
       "      <th>coefficient</th>\n",
       "      <th>p-val</th>\n",
       "      <th>conf_int_low</th>\n",
       "      <th>conf_int_high</th>\n",
       "      <th>topic_name</th>\n",
       "      <th>top_words</th>\n",
       "    </tr>\n",
       "  </thead>\n",
       "  <tbody>\n",
       "    <tr>\n",
       "      <th>3</th>\n",
       "      <td>3</td>\n",
       "      <td>0.660404</td>\n",
       "      <td>0.001004</td>\n",
       "      <td>0.269121</td>\n",
       "      <td>1.051686</td>\n",
       "      <td>story inspiration</td>\n",
       "      <td>story inspire family happen real listen</td>\n",
       "    </tr>\n",
       "  </tbody>\n",
       "</table>\n",
       "</div>"
      ],
      "text/plain": [
       "   topic  coefficient     p-val  conf_int_low  conf_int_high  \\\n",
       "3      3     0.660404  0.001004      0.269121       1.051686   \n",
       "\n",
       "          topic_name                                top_words  \n",
       "3  story inspiration  story inspire family happen real listen  "
      ]
     },
     "execution_count": 169,
     "metadata": {},
     "output_type": "execute_result"
    }
   ],
   "source": [
    "#words of topics that have probability > cutoff_prob\n",
    "df_topics_high_prob = df_coeff_topics[df_coeff_topics['topic'].isin(topics_list)]\n",
    "df_topics_high_prob"
   ]
  },
  {
   "cell_type": "code",
   "execution_count": 170,
   "metadata": {},
   "outputs": [
    {
     "data": {
      "text/html": [
       "<div>\n",
       "<style scoped>\n",
       "    .dataframe tbody tr th:only-of-type {\n",
       "        vertical-align: middle;\n",
       "    }\n",
       "\n",
       "    .dataframe tbody tr th {\n",
       "        vertical-align: top;\n",
       "    }\n",
       "\n",
       "    .dataframe thead th {\n",
       "        text-align: right;\n",
       "    }\n",
       "</style>\n",
       "<table border=\"1\" class=\"dataframe\">\n",
       "  <thead>\n",
       "    <tr style=\"text-align: right;\">\n",
       "      <th></th>\n",
       "      <th>topic</th>\n",
       "      <th>coefficient</th>\n",
       "      <th>p-val</th>\n",
       "      <th>conf_int_low</th>\n",
       "      <th>conf_int_high</th>\n",
       "      <th>topic_name</th>\n",
       "      <th>top_words</th>\n",
       "    </tr>\n",
       "  </thead>\n",
       "  <tbody>\n",
       "    <tr>\n",
       "      <th>3</th>\n",
       "      <td>3</td>\n",
       "      <td>0.660404</td>\n",
       "      <td>0.001004</td>\n",
       "      <td>0.269121</td>\n",
       "      <td>1.051686</td>\n",
       "      <td>story inspiration</td>\n",
       "      <td>story inspire family happen real listen</td>\n",
       "    </tr>\n",
       "  </tbody>\n",
       "</table>\n",
       "</div>"
      ],
      "text/plain": [
       "   topic  coefficient     p-val  conf_int_low  conf_int_high  \\\n",
       "3      3     0.660404  0.001004      0.269121       1.051686   \n",
       "\n",
       "          topic_name                                top_words  \n",
       "3  story inspiration  story inspire family happen real listen  "
      ]
     },
     "execution_count": 170,
     "metadata": {},
     "output_type": "execute_result"
    }
   ],
   "source": [
    "# output top words\n",
    "df_topics_high_prob[df_topics_high_prob['p-val']<significance_cutoff]"
   ]
  },
  {
   "cell_type": "code",
   "execution_count": null,
   "metadata": {},
   "outputs": [],
   "source": []
  }
 ],
 "metadata": {
  "kernelspec": {
   "display_name": "Python 3",
   "language": "python",
   "name": "python3"
  },
  "language_info": {
   "codemirror_mode": {
    "name": "ipython",
    "version": 3
   },
   "file_extension": ".py",
   "mimetype": "text/x-python",
   "name": "python",
   "nbconvert_exporter": "python",
   "pygments_lexer": "ipython3",
   "version": "3.6.12"
  }
 },
 "nbformat": 4,
 "nbformat_minor": 4
}

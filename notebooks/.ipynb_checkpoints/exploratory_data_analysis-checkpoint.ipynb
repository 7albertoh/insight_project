{
 "cells": [
  {
   "cell_type": "code",
   "execution_count": 222,
   "metadata": {},
   "outputs": [],
   "source": [
    "import pandas as pd\n",
    "import matplotlib.pyplot as plt\n",
    "import sidetable as stb\n",
    "import numpy as np\n",
    "import seaborn as sns"
   ]
  },
  {
   "cell_type": "code",
   "execution_count": 194,
   "metadata": {},
   "outputs": [
    {
     "data": {
      "text/html": [
       "<div>\n",
       "<style scoped>\n",
       "    .dataframe tbody tr th:only-of-type {\n",
       "        vertical-align: middle;\n",
       "    }\n",
       "\n",
       "    .dataframe tbody tr th {\n",
       "        vertical-align: top;\n",
       "    }\n",
       "\n",
       "    .dataframe thead th {\n",
       "        text-align: right;\n",
       "    }\n",
       "</style>\n",
       "<table border=\"1\" class=\"dataframe\">\n",
       "  <thead>\n",
       "    <tr style=\"text-align: right;\">\n",
       "      <th></th>\n",
       "      <th>book_reference</th>\n",
       "      <th>author_names</th>\n",
       "      <th>avg_rating</th>\n",
       "      <th>num_ratings</th>\n",
       "      <th>year_published</th>\n",
       "      <th>book_title</th>\n",
       "      <th>book_isbn</th>\n",
       "      <th>book_review_count</th>\n",
       "      <th>author_num_unique_books</th>\n",
       "      <th>kindle_price</th>\n",
       "      <th>...</th>\n",
       "      <th>genre_unfinished</th>\n",
       "      <th>genre_urban-planning</th>\n",
       "      <th>genre_vegan</th>\n",
       "      <th>genre_war</th>\n",
       "      <th>genre_womens</th>\n",
       "      <th>genre_womens-studies</th>\n",
       "      <th>genre_world-war-ii</th>\n",
       "      <th>genre_writing</th>\n",
       "      <th>genre_young-adult</th>\n",
       "      <th>genre_zen</th>\n",
       "    </tr>\n",
       "  </thead>\n",
       "  <tbody>\n",
       "    <tr>\n",
       "      <th>0</th>\n",
       "      <td>/book/show/839461.Self_Esteem</td>\n",
       "      <td>Matthew McKay</td>\n",
       "      <td>4.02</td>\n",
       "      <td>1143</td>\n",
       "      <td>1987.0</td>\n",
       "      <td>Self-Esteem</td>\n",
       "      <td>9.781570e+12</td>\n",
       "      <td>89.0</td>\n",
       "      <td>119.0</td>\n",
       "      <td>9.99</td>\n",
       "      <td>...</td>\n",
       "      <td>0</td>\n",
       "      <td>0</td>\n",
       "      <td>0</td>\n",
       "      <td>0</td>\n",
       "      <td>0</td>\n",
       "      <td>0</td>\n",
       "      <td>0</td>\n",
       "      <td>0</td>\n",
       "      <td>0</td>\n",
       "      <td>0</td>\n",
       "    </tr>\n",
       "    <tr>\n",
       "      <th>1</th>\n",
       "      <td>/book/show/369266.The_Dialectical_Behavior_The...</td>\n",
       "      <td>Matthew McKay</td>\n",
       "      <td>4.25</td>\n",
       "      <td>3377</td>\n",
       "      <td>2007.0</td>\n",
       "      <td>The Dialectical Behavior Therapy Skills Workbook</td>\n",
       "      <td>9.781570e+12</td>\n",
       "      <td>106.0</td>\n",
       "      <td>119.0</td>\n",
       "      <td>NaN</td>\n",
       "      <td>...</td>\n",
       "      <td>0</td>\n",
       "      <td>0</td>\n",
       "      <td>0</td>\n",
       "      <td>0</td>\n",
       "      <td>0</td>\n",
       "      <td>0</td>\n",
       "      <td>0</td>\n",
       "      <td>0</td>\n",
       "      <td>0</td>\n",
       "      <td>0</td>\n",
       "    </tr>\n",
       "    <tr>\n",
       "      <th>2</th>\n",
       "      <td>/book/show/4485966-talent-is-overrated</td>\n",
       "      <td>Geoff Colvin</td>\n",
       "      <td>3.97</td>\n",
       "      <td>16736</td>\n",
       "      <td>2008.0</td>\n",
       "      <td>Talent is Overrated</td>\n",
       "      <td>9.781590e+12</td>\n",
       "      <td>1005.0</td>\n",
       "      <td>8.0</td>\n",
       "      <td>NaN</td>\n",
       "      <td>...</td>\n",
       "      <td>0</td>\n",
       "      <td>0</td>\n",
       "      <td>0</td>\n",
       "      <td>0</td>\n",
       "      <td>0</td>\n",
       "      <td>0</td>\n",
       "      <td>0</td>\n",
       "      <td>0</td>\n",
       "      <td>0</td>\n",
       "      <td>0</td>\n",
       "    </tr>\n",
       "    <tr>\n",
       "      <th>3</th>\n",
       "      <td>/book/show/168981.QBQ_The_Question_Behind_the_...</td>\n",
       "      <td>John G. Miller</td>\n",
       "      <td>3.86</td>\n",
       "      <td>8980</td>\n",
       "      <td>2001.0</td>\n",
       "      <td>QBQ! The Question Behind the Question</td>\n",
       "      <td>9.780400e+12</td>\n",
       "      <td>608.0</td>\n",
       "      <td>20.0</td>\n",
       "      <td>12.99</td>\n",
       "      <td>...</td>\n",
       "      <td>0</td>\n",
       "      <td>0</td>\n",
       "      <td>0</td>\n",
       "      <td>0</td>\n",
       "      <td>0</td>\n",
       "      <td>0</td>\n",
       "      <td>0</td>\n",
       "      <td>0</td>\n",
       "      <td>0</td>\n",
       "      <td>0</td>\n",
       "    </tr>\n",
       "    <tr>\n",
       "      <th>4</th>\n",
       "      <td>/book/show/64369.Mindfulness_in_Plain_English</td>\n",
       "      <td>Henepola Gunaratana</td>\n",
       "      <td>4.19</td>\n",
       "      <td>12802</td>\n",
       "      <td>1992.0</td>\n",
       "      <td>Mindfulness in Plain English</td>\n",
       "      <td>9.780860e+12</td>\n",
       "      <td>825.0</td>\n",
       "      <td>30.0</td>\n",
       "      <td>12.35</td>\n",
       "      <td>...</td>\n",
       "      <td>0</td>\n",
       "      <td>0</td>\n",
       "      <td>0</td>\n",
       "      <td>0</td>\n",
       "      <td>0</td>\n",
       "      <td>0</td>\n",
       "      <td>0</td>\n",
       "      <td>0</td>\n",
       "      <td>0</td>\n",
       "      <td>14</td>\n",
       "    </tr>\n",
       "  </tbody>\n",
       "</table>\n",
       "<p>5 rows × 255 columns</p>\n",
       "</div>"
      ],
      "text/plain": [
       "                                      book_reference         author_names  \\\n",
       "0                      /book/show/839461.Self_Esteem        Matthew McKay   \n",
       "1  /book/show/369266.The_Dialectical_Behavior_The...        Matthew McKay   \n",
       "2             /book/show/4485966-talent-is-overrated         Geoff Colvin   \n",
       "3  /book/show/168981.QBQ_The_Question_Behind_the_...       John G. Miller   \n",
       "4      /book/show/64369.Mindfulness_in_Plain_English  Henepola Gunaratana   \n",
       "\n",
       "   avg_rating  num_ratings  year_published  \\\n",
       "0        4.02         1143          1987.0   \n",
       "1        4.25         3377          2007.0   \n",
       "2        3.97        16736          2008.0   \n",
       "3        3.86         8980          2001.0   \n",
       "4        4.19        12802          1992.0   \n",
       "\n",
       "                                         book_title     book_isbn  \\\n",
       "0                                       Self-Esteem  9.781570e+12   \n",
       "1  The Dialectical Behavior Therapy Skills Workbook  9.781570e+12   \n",
       "2                               Talent is Overrated  9.781590e+12   \n",
       "3             QBQ! The Question Behind the Question  9.780400e+12   \n",
       "4                      Mindfulness in Plain English  9.780860e+12   \n",
       "\n",
       "   book_review_count  author_num_unique_books  kindle_price  ...  \\\n",
       "0               89.0                    119.0          9.99  ...   \n",
       "1              106.0                    119.0           NaN  ...   \n",
       "2             1005.0                      8.0           NaN  ...   \n",
       "3              608.0                     20.0         12.99  ...   \n",
       "4              825.0                     30.0         12.35  ...   \n",
       "\n",
       "  genre_unfinished  genre_urban-planning  genre_vegan  genre_war  \\\n",
       "0                0                     0            0          0   \n",
       "1                0                     0            0          0   \n",
       "2                0                     0            0          0   \n",
       "3                0                     0            0          0   \n",
       "4                0                     0            0          0   \n",
       "\n",
       "   genre_womens  genre_womens-studies  genre_world-war-ii  genre_writing  \\\n",
       "0             0                     0                   0              0   \n",
       "1             0                     0                   0              0   \n",
       "2             0                     0                   0              0   \n",
       "3             0                     0                   0              0   \n",
       "4             0                     0                   0              0   \n",
       "\n",
       "   genre_young-adult  genre_zen  \n",
       "0                  0          0  \n",
       "1                  0          0  \n",
       "2                  0          0  \n",
       "3                  0          0  \n",
       "4                  0         14  \n",
       "\n",
       "[5 rows x 255 columns]"
      ]
     },
     "execution_count": 194,
     "metadata": {},
     "output_type": "execute_result"
    }
   ],
   "source": [
    "df1 = pd.read_csv('../data/books_25_pages_author_info.csv',skipinitialspace=True)\n",
    "df1 = df1.rename(columns = lambda x: x.strip())\n",
    "value_author_num_unique_books = df1['author_num_unique_books'].values\n",
    "df1 = df1.drop('author_num_unique_books',axis=1)\n",
    "df1.insert(loc=8,column='author_num_unique_books',value=value_author_num_unique_books)\n",
    "df1.head()"
   ]
  },
  {
   "cell_type": "code",
   "execution_count": 195,
   "metadata": {},
   "outputs": [],
   "source": [
    "#[print(i) for i in df1.columns]"
   ]
  },
  {
   "cell_type": "code",
   "execution_count": 196,
   "metadata": {},
   "outputs": [
    {
     "data": {
      "text/html": [
       "<div>\n",
       "<style scoped>\n",
       "    .dataframe tbody tr th:only-of-type {\n",
       "        vertical-align: middle;\n",
       "    }\n",
       "\n",
       "    .dataframe tbody tr th {\n",
       "        vertical-align: top;\n",
       "    }\n",
       "\n",
       "    .dataframe thead th {\n",
       "        text-align: right;\n",
       "    }\n",
       "</style>\n",
       "<table border=\"1\" class=\"dataframe\">\n",
       "  <thead>\n",
       "    <tr style=\"text-align: right;\">\n",
       "      <th></th>\n",
       "      <th>avg_rating</th>\n",
       "      <th>num_ratings</th>\n",
       "      <th>year_published</th>\n",
       "      <th>book_review_count</th>\n",
       "      <th>author_num_unique_books</th>\n",
       "      <th>kindle_price</th>\n",
       "      <th>genre_20th-century</th>\n",
       "      <th>genre_21st-century</th>\n",
       "      <th>genre_abuse</th>\n",
       "      <th>genre_academic</th>\n",
       "      <th>...</th>\n",
       "      <th>genre_true-crime</th>\n",
       "      <th>genre_urban-planning</th>\n",
       "      <th>genre_vegan</th>\n",
       "      <th>genre_war</th>\n",
       "      <th>genre_womens</th>\n",
       "      <th>genre_womens-studies</th>\n",
       "      <th>genre_world-war-ii</th>\n",
       "      <th>genre_writing</th>\n",
       "      <th>genre_young-adult</th>\n",
       "      <th>genre_zen</th>\n",
       "    </tr>\n",
       "  </thead>\n",
       "  <tbody>\n",
       "    <tr>\n",
       "      <th>0</th>\n",
       "      <td>4.02</td>\n",
       "      <td>1143</td>\n",
       "      <td>1987.0</td>\n",
       "      <td>89.0</td>\n",
       "      <td>119.0</td>\n",
       "      <td>9.99</td>\n",
       "      <td>0</td>\n",
       "      <td>0</td>\n",
       "      <td>0</td>\n",
       "      <td>0</td>\n",
       "      <td>...</td>\n",
       "      <td>0</td>\n",
       "      <td>0</td>\n",
       "      <td>0</td>\n",
       "      <td>0</td>\n",
       "      <td>0</td>\n",
       "      <td>0</td>\n",
       "      <td>0</td>\n",
       "      <td>0</td>\n",
       "      <td>0</td>\n",
       "      <td>0</td>\n",
       "    </tr>\n",
       "    <tr>\n",
       "      <th>1</th>\n",
       "      <td>4.25</td>\n",
       "      <td>3377</td>\n",
       "      <td>2007.0</td>\n",
       "      <td>106.0</td>\n",
       "      <td>119.0</td>\n",
       "      <td>NaN</td>\n",
       "      <td>0</td>\n",
       "      <td>0</td>\n",
       "      <td>0</td>\n",
       "      <td>0</td>\n",
       "      <td>...</td>\n",
       "      <td>0</td>\n",
       "      <td>0</td>\n",
       "      <td>0</td>\n",
       "      <td>0</td>\n",
       "      <td>0</td>\n",
       "      <td>0</td>\n",
       "      <td>0</td>\n",
       "      <td>0</td>\n",
       "      <td>0</td>\n",
       "      <td>0</td>\n",
       "    </tr>\n",
       "    <tr>\n",
       "      <th>2</th>\n",
       "      <td>3.97</td>\n",
       "      <td>16736</td>\n",
       "      <td>2008.0</td>\n",
       "      <td>1005.0</td>\n",
       "      <td>8.0</td>\n",
       "      <td>NaN</td>\n",
       "      <td>0</td>\n",
       "      <td>0</td>\n",
       "      <td>0</td>\n",
       "      <td>0</td>\n",
       "      <td>...</td>\n",
       "      <td>0</td>\n",
       "      <td>0</td>\n",
       "      <td>0</td>\n",
       "      <td>0</td>\n",
       "      <td>0</td>\n",
       "      <td>0</td>\n",
       "      <td>0</td>\n",
       "      <td>0</td>\n",
       "      <td>0</td>\n",
       "      <td>0</td>\n",
       "    </tr>\n",
       "    <tr>\n",
       "      <th>3</th>\n",
       "      <td>3.86</td>\n",
       "      <td>8980</td>\n",
       "      <td>2001.0</td>\n",
       "      <td>608.0</td>\n",
       "      <td>20.0</td>\n",
       "      <td>12.99</td>\n",
       "      <td>0</td>\n",
       "      <td>0</td>\n",
       "      <td>0</td>\n",
       "      <td>0</td>\n",
       "      <td>...</td>\n",
       "      <td>0</td>\n",
       "      <td>0</td>\n",
       "      <td>0</td>\n",
       "      <td>0</td>\n",
       "      <td>0</td>\n",
       "      <td>0</td>\n",
       "      <td>0</td>\n",
       "      <td>0</td>\n",
       "      <td>0</td>\n",
       "      <td>0</td>\n",
       "    </tr>\n",
       "    <tr>\n",
       "      <th>4</th>\n",
       "      <td>4.19</td>\n",
       "      <td>12802</td>\n",
       "      <td>1992.0</td>\n",
       "      <td>825.0</td>\n",
       "      <td>30.0</td>\n",
       "      <td>12.35</td>\n",
       "      <td>0</td>\n",
       "      <td>0</td>\n",
       "      <td>0</td>\n",
       "      <td>0</td>\n",
       "      <td>...</td>\n",
       "      <td>0</td>\n",
       "      <td>0</td>\n",
       "      <td>0</td>\n",
       "      <td>0</td>\n",
       "      <td>0</td>\n",
       "      <td>0</td>\n",
       "      <td>0</td>\n",
       "      <td>0</td>\n",
       "      <td>0</td>\n",
       "      <td>14</td>\n",
       "    </tr>\n",
       "  </tbody>\n",
       "</table>\n",
       "<p>5 rows × 249 columns</p>\n",
       "</div>"
      ],
      "text/plain": [
       "   avg_rating  num_ratings  year_published  book_review_count  \\\n",
       "0        4.02         1143          1987.0               89.0   \n",
       "1        4.25         3377          2007.0              106.0   \n",
       "2        3.97        16736          2008.0             1005.0   \n",
       "3        3.86         8980          2001.0              608.0   \n",
       "4        4.19        12802          1992.0              825.0   \n",
       "\n",
       "   author_num_unique_books  kindle_price  genre_20th-century  \\\n",
       "0                    119.0          9.99                   0   \n",
       "1                    119.0           NaN                   0   \n",
       "2                      8.0           NaN                   0   \n",
       "3                     20.0         12.99                   0   \n",
       "4                     30.0         12.35                   0   \n",
       "\n",
       "   genre_21st-century  genre_abuse  genre_academic  ...  genre_true-crime  \\\n",
       "0                   0            0               0  ...                 0   \n",
       "1                   0            0               0  ...                 0   \n",
       "2                   0            0               0  ...                 0   \n",
       "3                   0            0               0  ...                 0   \n",
       "4                   0            0               0  ...                 0   \n",
       "\n",
       "   genre_urban-planning  genre_vegan  genre_war  genre_womens  \\\n",
       "0                     0            0          0             0   \n",
       "1                     0            0          0             0   \n",
       "2                     0            0          0             0   \n",
       "3                     0            0          0             0   \n",
       "4                     0            0          0             0   \n",
       "\n",
       "   genre_womens-studies  genre_world-war-ii  genre_writing  genre_young-adult  \\\n",
       "0                     0                   0              0                  0   \n",
       "1                     0                   0              0                  0   \n",
       "2                     0                   0              0                  0   \n",
       "3                     0                   0              0                  0   \n",
       "4                     0                   0              0                  0   \n",
       "\n",
       "   genre_zen  \n",
       "0          0  \n",
       "1          0  \n",
       "2          0  \n",
       "3          0  \n",
       "4         14  \n",
       "\n",
       "[5 rows x 249 columns]"
      ]
     },
     "execution_count": 196,
     "metadata": {},
     "output_type": "execute_result"
    }
   ],
   "source": [
    "#drop unimportant columns\n",
    "df2 = df1.drop(columns=['book_reference','author_names','book_title','author_link','genre_unfinished','book_isbn'])\n",
    "df2.head()"
   ]
  },
  {
   "cell_type": "code",
   "execution_count": 197,
   "metadata": {},
   "outputs": [
    {
     "data": {
      "text/html": [
       "<div>\n",
       "<style scoped>\n",
       "    .dataframe tbody tr th:only-of-type {\n",
       "        vertical-align: middle;\n",
       "    }\n",
       "\n",
       "    .dataframe tbody tr th {\n",
       "        vertical-align: top;\n",
       "    }\n",
       "\n",
       "    .dataframe thead th {\n",
       "        text-align: right;\n",
       "    }\n",
       "</style>\n",
       "<table border=\"1\" class=\"dataframe\">\n",
       "  <thead>\n",
       "    <tr style=\"text-align: right;\">\n",
       "      <th></th>\n",
       "      <th>missing</th>\n",
       "      <th>total</th>\n",
       "      <th>percent</th>\n",
       "    </tr>\n",
       "  </thead>\n",
       "  <tbody>\n",
       "    <tr>\n",
       "      <th>kindle_price</th>\n",
       "      <td>653</td>\n",
       "      <td>1249</td>\n",
       "      <td>52.281825</td>\n",
       "    </tr>\n",
       "    <tr>\n",
       "      <th>author_num_unique_books</th>\n",
       "      <td>25</td>\n",
       "      <td>1249</td>\n",
       "      <td>2.001601</td>\n",
       "    </tr>\n",
       "    <tr>\n",
       "      <th>year_published</th>\n",
       "      <td>16</td>\n",
       "      <td>1249</td>\n",
       "      <td>1.281025</td>\n",
       "    </tr>\n",
       "    <tr>\n",
       "      <th>book_review_count</th>\n",
       "      <td>6</td>\n",
       "      <td>1249</td>\n",
       "      <td>0.480384</td>\n",
       "    </tr>\n",
       "    <tr>\n",
       "      <th>avg_rating</th>\n",
       "      <td>0</td>\n",
       "      <td>1249</td>\n",
       "      <td>0.000000</td>\n",
       "    </tr>\n",
       "    <tr>\n",
       "      <th>num_ratings</th>\n",
       "      <td>0</td>\n",
       "      <td>1249</td>\n",
       "      <td>0.000000</td>\n",
       "    </tr>\n",
       "  </tbody>\n",
       "</table>\n",
       "</div>"
      ],
      "text/plain": [
       "                         missing  total    percent\n",
       "kindle_price                 653   1249  52.281825\n",
       "author_num_unique_books       25   1249   2.001601\n",
       "year_published                16   1249   1.281025\n",
       "book_review_count              6   1249   0.480384\n",
       "avg_rating                     0   1249   0.000000\n",
       "num_ratings                    0   1249   0.000000"
      ]
     },
     "execution_count": 197,
     "metadata": {},
     "output_type": "execute_result"
    }
   ],
   "source": [
    "# check NaN values\n",
    "df2.loc[:,['avg_rating','num_ratings','year_published','book_review_count','kindle_price','author_num_unique_books']].stb.missing()"
   ]
  },
  {
   "cell_type": "code",
   "execution_count": 198,
   "metadata": {},
   "outputs": [
    {
     "data": {
      "text/plain": [
       "579"
      ]
     },
     "execution_count": 198,
     "metadata": {},
     "output_type": "execute_result"
    }
   ],
   "source": [
    "# drop rows where kindle_price or book_review_count or year_pubished are NaN because they are important values\n",
    "df3 = df2.dropna()\n",
    "len(df3.index)"
   ]
  },
  {
   "cell_type": "code",
   "execution_count": 199,
   "metadata": {},
   "outputs": [
    {
     "data": {
      "text/plain": [
       "count    579.000000\n",
       "mean      10.023333\n",
       "std        4.311436\n",
       "min        0.000000\n",
       "25%        8.015000\n",
       "50%        9.990000\n",
       "75%       12.990000\n",
       "max       39.990000\n",
       "Name: kindle_price, dtype: float64"
      ]
     },
     "execution_count": 199,
     "metadata": {},
     "output_type": "execute_result"
    },
    {
     "data": {
      "image/png": "[encoded data removed]",
      "text/plain": [
       "<Figure size 432x288 with 1 Axes>"
      ]
     },
     "metadata": {
      "needs_background": "light"
     },
     "output_type": "display_data"
    }
   ],
   "source": [
    "# explore kindle_price\n",
    "df3['kindle_price'].hist()\n",
    "df3['kindle_price'].describe()"
   ]
  },
  {
   "cell_type": "code",
   "execution_count": 200,
   "metadata": {},
   "outputs": [
    {
     "data": {
      "text/plain": [
       "546"
      ]
     },
     "execution_count": 200,
     "metadata": {},
     "output_type": "execute_result"
    }
   ],
   "source": [
    "# drop books with price zero because they actually have greater price #TODO\n",
    "df4 = df3[df3['kindle_price']>0]\n",
    "len(df4.index)"
   ]
  },
  {
   "cell_type": "code",
   "execution_count": 224,
   "metadata": {},
   "outputs": [
    {
     "data": {
      "text/plain": [
       "<AxesSubplot:xlabel='kindle_price'>"
      ]
     },
     "execution_count": 224,
     "metadata": {},
     "output_type": "execute_result"
    },
    {
     "data": {
      "image/png": "[encoded data removed]",
      "text/plain": [
       "<Figure size 432x288 with 1 Axes>"
      ]
     },
     "metadata": {
      "needs_background": "light"
     },
     "output_type": "display_data"
    }
   ],
   "source": [
    "sns.violinplot(x=df4[\"kindle_price\"])"
   ]
  },
  {
   "cell_type": "code",
   "execution_count": 201,
   "metadata": {},
   "outputs": [
    {
     "data": {
      "text/plain": [
       "count      546.000000\n",
       "mean      1405.529304\n",
       "std       3141.142890\n",
       "min         26.000000\n",
       "25%        232.250000\n",
       "50%        494.000000\n",
       "75%       1133.750000\n",
       "max      33024.000000\n",
       "Name: book_review_count, dtype: float64"
      ]
     },
     "execution_count": 201,
     "metadata": {},
     "output_type": "execute_result"
    },
    {
     "data": {
      "image/png": "[encoded data removed]",
      "text/plain": [
       "<Figure size 432x288 with 1 Axes>"
      ]
     },
     "metadata": {
      "needs_background": "light"
     },
     "output_type": "display_data"
    }
   ],
   "source": [
    "# explore book_review_count\n",
    "df4['book_review_count'].hist()\n",
    "df4['book_review_count'].describe()"
   ]
  },
  {
   "cell_type": "code",
   "execution_count": 202,
   "metadata": {},
   "outputs": [
    {
     "data": {
      "text/plain": [
       "count       546.000000\n",
       "mean      22803.421245\n",
       "std       67167.037670\n",
       "min         562.000000\n",
       "25%        2808.500000\n",
       "50%        5973.000000\n",
       "75%       16231.750000\n",
       "max      945306.000000\n",
       "Name: num_ratings, dtype: float64"
      ]
     },
     "execution_count": 202,
     "metadata": {},
     "output_type": "execute_result"
    },
    {
     "data": {
      "image/png": "[encoded data removed]",
      "text/plain": [
       "<Figure size 432x288 with 1 Axes>"
      ]
     },
     "metadata": {
      "needs_background": "light"
     },
     "output_type": "display_data"
    }
   ],
   "source": [
    "# explore num_ratings\n",
    "df4['num_ratings'].hist()\n",
    "df4['num_ratings'].describe()"
   ]
  },
  {
   "cell_type": "code",
   "execution_count": 203,
   "metadata": {},
   "outputs": [
    {
     "data": {
      "text/plain": [
       "count     546.000000\n",
       "mean       85.626374\n",
       "std       185.935442\n",
       "min         2.000000\n",
       "25%         9.000000\n",
       "50%        25.000000\n",
       "75%        68.000000\n",
       "max      2154.000000\n",
       "Name: author_num_unique_books, dtype: float64"
      ]
     },
     "execution_count": 203,
     "metadata": {},
     "output_type": "execute_result"
    },
    {
     "data": {
      "image/png": "[encoded data removed]",
      "text/plain": [
       "<Figure size 432x288 with 1 Axes>"
      ]
     },
     "metadata": {
      "needs_background": "light"
     },
     "output_type": "display_data"
    }
   ],
   "source": [
    "# explore num_ratings\n",
    "df4['author_num_unique_books'].hist()\n",
    "df4['author_num_unique_books'].describe()"
   ]
  },
  {
   "cell_type": "code",
   "execution_count": 204,
   "metadata": {},
   "outputs": [
    {
     "data": {
      "text/plain": [
       "count    292.000000\n",
       "mean      11.753425\n",
       "std        7.544654\n",
       "min        2.000000\n",
       "25%        5.000000\n",
       "50%       10.000000\n",
       "75%       18.000000\n",
       "max       29.000000\n",
       "Name: author_num_unique_books, dtype: float64"
      ]
     },
     "execution_count": 204,
     "metadata": {},
     "output_type": "execute_result"
    },
    {
     "data": {
      "image/png": "[encoded data removed]",
      "text/plain": [
       "<Figure size 432x288 with 1 Axes>"
      ]
     },
     "metadata": {
      "needs_background": "light"
     },
     "output_type": "display_data"
    }
   ],
   "source": [
    "# remove authors of more than 50 books\n",
    "df5 = df4[df4['author_num_unique_books']<30]\n",
    "df5['author_num_unique_books'].hist()\n",
    "df5['author_num_unique_books'].describe()"
   ]
  },
  {
   "cell_type": "code",
   "execution_count": 205,
   "metadata": {},
   "outputs": [
    {
     "data": {
      "text/html": [
       "<div>\n",
       "<style scoped>\n",
       "    .dataframe tbody tr th:only-of-type {\n",
       "        vertical-align: middle;\n",
       "    }\n",
       "\n",
       "    .dataframe tbody tr th {\n",
       "        vertical-align: top;\n",
       "    }\n",
       "\n",
       "    .dataframe thead th {\n",
       "        text-align: right;\n",
       "    }\n",
       "</style>\n",
       "<table border=\"1\" class=\"dataframe\">\n",
       "  <thead>\n",
       "    <tr style=\"text-align: right;\">\n",
       "      <th></th>\n",
       "      <th>avg_rating</th>\n",
       "      <th>num_ratings</th>\n",
       "      <th>year_published</th>\n",
       "      <th>book_review_count</th>\n",
       "      <th>author_num_unique_books</th>\n",
       "      <th>kindle_price</th>\n",
       "      <th>genre_20th-century</th>\n",
       "      <th>genre_21st-century</th>\n",
       "      <th>genre_abuse</th>\n",
       "      <th>genre_academic</th>\n",
       "      <th>...</th>\n",
       "      <th>genre_urban-planning</th>\n",
       "      <th>genre_vegan</th>\n",
       "      <th>genre_war</th>\n",
       "      <th>genre_womens</th>\n",
       "      <th>genre_womens-studies</th>\n",
       "      <th>genre_world-war-ii</th>\n",
       "      <th>genre_writing</th>\n",
       "      <th>genre_young-adult</th>\n",
       "      <th>genre_zen</th>\n",
       "      <th>sum_genres</th>\n",
       "    </tr>\n",
       "  </thead>\n",
       "  <tbody>\n",
       "    <tr>\n",
       "      <th>3</th>\n",
       "      <td>3.86</td>\n",
       "      <td>8980</td>\n",
       "      <td>2001.0</td>\n",
       "      <td>608.0</td>\n",
       "      <td>20.0</td>\n",
       "      <td>12.99</td>\n",
       "      <td>0</td>\n",
       "      <td>0</td>\n",
       "      <td>0</td>\n",
       "      <td>0</td>\n",
       "      <td>...</td>\n",
       "      <td>0</td>\n",
       "      <td>0</td>\n",
       "      <td>0</td>\n",
       "      <td>0</td>\n",
       "      <td>0</td>\n",
       "      <td>0</td>\n",
       "      <td>0</td>\n",
       "      <td>0</td>\n",
       "      <td>0</td>\n",
       "      <td>562</td>\n",
       "    </tr>\n",
       "    <tr>\n",
       "      <th>6</th>\n",
       "      <td>4.24</td>\n",
       "      <td>3752</td>\n",
       "      <td>2015.0</td>\n",
       "      <td>441.0</td>\n",
       "      <td>4.0</td>\n",
       "      <td>11.99</td>\n",
       "      <td>0</td>\n",
       "      <td>0</td>\n",
       "      <td>0</td>\n",
       "      <td>0</td>\n",
       "      <td>...</td>\n",
       "      <td>0</td>\n",
       "      <td>0</td>\n",
       "      <td>0</td>\n",
       "      <td>0</td>\n",
       "      <td>0</td>\n",
       "      <td>0</td>\n",
       "      <td>0</td>\n",
       "      <td>0</td>\n",
       "      <td>0</td>\n",
       "      <td>522</td>\n",
       "    </tr>\n",
       "    <tr>\n",
       "      <th>8</th>\n",
       "      <td>3.70</td>\n",
       "      <td>2570</td>\n",
       "      <td>2013.0</td>\n",
       "      <td>362.0</td>\n",
       "      <td>13.0</td>\n",
       "      <td>8.26</td>\n",
       "      <td>0</td>\n",
       "      <td>0</td>\n",
       "      <td>0</td>\n",
       "      <td>0</td>\n",
       "      <td>...</td>\n",
       "      <td>0</td>\n",
       "      <td>0</td>\n",
       "      <td>0</td>\n",
       "      <td>0</td>\n",
       "      <td>0</td>\n",
       "      <td>0</td>\n",
       "      <td>0</td>\n",
       "      <td>0</td>\n",
       "      <td>0</td>\n",
       "      <td>267</td>\n",
       "    </tr>\n",
       "    <tr>\n",
       "      <th>21</th>\n",
       "      <td>3.75</td>\n",
       "      <td>5161</td>\n",
       "      <td>2010.0</td>\n",
       "      <td>776.0</td>\n",
       "      <td>15.0</td>\n",
       "      <td>11.99</td>\n",
       "      <td>0</td>\n",
       "      <td>0</td>\n",
       "      <td>0</td>\n",
       "      <td>0</td>\n",
       "      <td>...</td>\n",
       "      <td>0</td>\n",
       "      <td>0</td>\n",
       "      <td>0</td>\n",
       "      <td>0</td>\n",
       "      <td>0</td>\n",
       "      <td>0</td>\n",
       "      <td>0</td>\n",
       "      <td>0</td>\n",
       "      <td>0</td>\n",
       "      <td>528</td>\n",
       "    </tr>\n",
       "    <tr>\n",
       "      <th>22</th>\n",
       "      <td>3.90</td>\n",
       "      <td>5484</td>\n",
       "      <td>1998.0</td>\n",
       "      <td>300.0</td>\n",
       "      <td>12.0</td>\n",
       "      <td>11.99</td>\n",
       "      <td>0</td>\n",
       "      <td>0</td>\n",
       "      <td>0</td>\n",
       "      <td>0</td>\n",
       "      <td>...</td>\n",
       "      <td>0</td>\n",
       "      <td>0</td>\n",
       "      <td>0</td>\n",
       "      <td>0</td>\n",
       "      <td>0</td>\n",
       "      <td>0</td>\n",
       "      <td>0</td>\n",
       "      <td>0</td>\n",
       "      <td>0</td>\n",
       "      <td>418</td>\n",
       "    </tr>\n",
       "  </tbody>\n",
       "</table>\n",
       "<p>5 rows × 250 columns</p>\n",
       "</div>"
      ],
      "text/plain": [
       "    avg_rating  num_ratings  year_published  book_review_count  \\\n",
       "3         3.86         8980          2001.0              608.0   \n",
       "6         4.24         3752          2015.0              441.0   \n",
       "8         3.70         2570          2013.0              362.0   \n",
       "21        3.75         5161          2010.0              776.0   \n",
       "22        3.90         5484          1998.0              300.0   \n",
       "\n",
       "    author_num_unique_books  kindle_price  genre_20th-century  \\\n",
       "3                      20.0         12.99                   0   \n",
       "6                       4.0         11.99                   0   \n",
       "8                      13.0          8.26                   0   \n",
       "21                     15.0         11.99                   0   \n",
       "22                     12.0         11.99                   0   \n",
       "\n",
       "    genre_21st-century  genre_abuse  genre_academic  ...  \\\n",
       "3                    0            0               0  ...   \n",
       "6                    0            0               0  ...   \n",
       "8                    0            0               0  ...   \n",
       "21                   0            0               0  ...   \n",
       "22                   0            0               0  ...   \n",
       "\n",
       "    genre_urban-planning  genre_vegan  genre_war  genre_womens  \\\n",
       "3                      0            0          0             0   \n",
       "6                      0            0          0             0   \n",
       "8                      0            0          0             0   \n",
       "21                     0            0          0             0   \n",
       "22                     0            0          0             0   \n",
       "\n",
       "    genre_womens-studies  genre_world-war-ii  genre_writing  \\\n",
       "3                      0                   0              0   \n",
       "6                      0                   0              0   \n",
       "8                      0                   0              0   \n",
       "21                     0                   0              0   \n",
       "22                     0                   0              0   \n",
       "\n",
       "    genre_young-adult  genre_zen  sum_genres  \n",
       "3                   0          0         562  \n",
       "6                   0          0         522  \n",
       "8                   0          0         267  \n",
       "21                  0          0         528  \n",
       "22                  0          0         418  \n",
       "\n",
       "[5 rows x 250 columns]"
      ]
     },
     "execution_count": 205,
     "metadata": {},
     "output_type": "execute_result"
    }
   ],
   "source": [
    "# sum the genres\n",
    "df_percent_genre = df5.copy()\n",
    "df_percent_genre['sum_genres'] = df5[df5.columns[6::]].sum(axis=1)\n",
    "df_percent_genre.head()"
   ]
  },
  {
   "cell_type": "code",
   "execution_count": 206,
   "metadata": {},
   "outputs": [
    {
     "data": {
      "text/plain": [
       "count      292.000000\n",
       "mean      1070.123288\n",
       "std       1978.065958\n",
       "min        102.000000\n",
       "25%        285.000000\n",
       "50%        483.000000\n",
       "75%       1008.250000\n",
       "max      21523.000000\n",
       "Name: sum_genres, dtype: float64"
      ]
     },
     "execution_count": 206,
     "metadata": {},
     "output_type": "execute_result"
    }
   ],
   "source": [
    "df_percent_genre['sum_genres'].describe()"
   ]
  },
  {
   "cell_type": "code",
   "execution_count": 207,
   "metadata": {},
   "outputs": [
    {
     "data": {
      "text/html": [
       "<div>\n",
       "<style scoped>\n",
       "    .dataframe tbody tr th:only-of-type {\n",
       "        vertical-align: middle;\n",
       "    }\n",
       "\n",
       "    .dataframe tbody tr th {\n",
       "        vertical-align: top;\n",
       "    }\n",
       "\n",
       "    .dataframe thead th {\n",
       "        text-align: right;\n",
       "    }\n",
       "</style>\n",
       "<table border=\"1\" class=\"dataframe\">\n",
       "  <thead>\n",
       "    <tr style=\"text-align: right;\">\n",
       "      <th></th>\n",
       "      <th>avg_rating</th>\n",
       "      <th>num_ratings</th>\n",
       "      <th>year_published</th>\n",
       "      <th>book_review_count</th>\n",
       "      <th>author_num_unique_books</th>\n",
       "      <th>kindle_price</th>\n",
       "      <th>genre_20th-century</th>\n",
       "      <th>genre_21st-century</th>\n",
       "      <th>genre_abuse</th>\n",
       "      <th>genre_academic</th>\n",
       "      <th>...</th>\n",
       "      <th>genre_true-crime_percent</th>\n",
       "      <th>genre_urban-planning_percent</th>\n",
       "      <th>genre_vegan_percent</th>\n",
       "      <th>genre_war_percent</th>\n",
       "      <th>genre_womens_percent</th>\n",
       "      <th>genre_womens-studies_percent</th>\n",
       "      <th>genre_world-war-ii_percent</th>\n",
       "      <th>genre_writing_percent</th>\n",
       "      <th>genre_young-adult_percent</th>\n",
       "      <th>genre_zen_percent</th>\n",
       "    </tr>\n",
       "  </thead>\n",
       "  <tbody>\n",
       "    <tr>\n",
       "      <th>3</th>\n",
       "      <td>3.86</td>\n",
       "      <td>8980</td>\n",
       "      <td>2001.0</td>\n",
       "      <td>608.0</td>\n",
       "      <td>20.0</td>\n",
       "      <td>12.99</td>\n",
       "      <td>0</td>\n",
       "      <td>0</td>\n",
       "      <td>0</td>\n",
       "      <td>0</td>\n",
       "      <td>...</td>\n",
       "      <td>0.0</td>\n",
       "      <td>0.0</td>\n",
       "      <td>0.0</td>\n",
       "      <td>0.0</td>\n",
       "      <td>0.0</td>\n",
       "      <td>0.0</td>\n",
       "      <td>0.0</td>\n",
       "      <td>0.0</td>\n",
       "      <td>0.0</td>\n",
       "      <td>0.0</td>\n",
       "    </tr>\n",
       "    <tr>\n",
       "      <th>6</th>\n",
       "      <td>4.24</td>\n",
       "      <td>3752</td>\n",
       "      <td>2015.0</td>\n",
       "      <td>441.0</td>\n",
       "      <td>4.0</td>\n",
       "      <td>11.99</td>\n",
       "      <td>0</td>\n",
       "      <td>0</td>\n",
       "      <td>0</td>\n",
       "      <td>0</td>\n",
       "      <td>...</td>\n",
       "      <td>0.0</td>\n",
       "      <td>0.0</td>\n",
       "      <td>0.0</td>\n",
       "      <td>0.0</td>\n",
       "      <td>0.0</td>\n",
       "      <td>0.0</td>\n",
       "      <td>0.0</td>\n",
       "      <td>0.0</td>\n",
       "      <td>0.0</td>\n",
       "      <td>0.0</td>\n",
       "    </tr>\n",
       "    <tr>\n",
       "      <th>8</th>\n",
       "      <td>3.70</td>\n",
       "      <td>2570</td>\n",
       "      <td>2013.0</td>\n",
       "      <td>362.0</td>\n",
       "      <td>13.0</td>\n",
       "      <td>8.26</td>\n",
       "      <td>0</td>\n",
       "      <td>0</td>\n",
       "      <td>0</td>\n",
       "      <td>0</td>\n",
       "      <td>...</td>\n",
       "      <td>0.0</td>\n",
       "      <td>0.0</td>\n",
       "      <td>0.0</td>\n",
       "      <td>0.0</td>\n",
       "      <td>0.0</td>\n",
       "      <td>0.0</td>\n",
       "      <td>0.0</td>\n",
       "      <td>0.0</td>\n",
       "      <td>0.0</td>\n",
       "      <td>0.0</td>\n",
       "    </tr>\n",
       "    <tr>\n",
       "      <th>21</th>\n",
       "      <td>3.75</td>\n",
       "      <td>5161</td>\n",
       "      <td>2010.0</td>\n",
       "      <td>776.0</td>\n",
       "      <td>15.0</td>\n",
       "      <td>11.99</td>\n",
       "      <td>0</td>\n",
       "      <td>0</td>\n",
       "      <td>0</td>\n",
       "      <td>0</td>\n",
       "      <td>...</td>\n",
       "      <td>0.0</td>\n",
       "      <td>0.0</td>\n",
       "      <td>0.0</td>\n",
       "      <td>0.0</td>\n",
       "      <td>0.0</td>\n",
       "      <td>0.0</td>\n",
       "      <td>0.0</td>\n",
       "      <td>0.0</td>\n",
       "      <td>0.0</td>\n",
       "      <td>0.0</td>\n",
       "    </tr>\n",
       "    <tr>\n",
       "      <th>22</th>\n",
       "      <td>3.90</td>\n",
       "      <td>5484</td>\n",
       "      <td>1998.0</td>\n",
       "      <td>300.0</td>\n",
       "      <td>12.0</td>\n",
       "      <td>11.99</td>\n",
       "      <td>0</td>\n",
       "      <td>0</td>\n",
       "      <td>0</td>\n",
       "      <td>0</td>\n",
       "      <td>...</td>\n",
       "      <td>0.0</td>\n",
       "      <td>0.0</td>\n",
       "      <td>0.0</td>\n",
       "      <td>0.0</td>\n",
       "      <td>0.0</td>\n",
       "      <td>0.0</td>\n",
       "      <td>0.0</td>\n",
       "      <td>0.0</td>\n",
       "      <td>0.0</td>\n",
       "      <td>0.0</td>\n",
       "    </tr>\n",
       "  </tbody>\n",
       "</table>\n",
       "<p>5 rows × 493 columns</p>\n",
       "</div>"
      ],
      "text/plain": [
       "    avg_rating  num_ratings  year_published  book_review_count  \\\n",
       "3         3.86         8980          2001.0              608.0   \n",
       "6         4.24         3752          2015.0              441.0   \n",
       "8         3.70         2570          2013.0              362.0   \n",
       "21        3.75         5161          2010.0              776.0   \n",
       "22        3.90         5484          1998.0              300.0   \n",
       "\n",
       "    author_num_unique_books  kindle_price  genre_20th-century  \\\n",
       "3                      20.0         12.99                   0   \n",
       "6                       4.0         11.99                   0   \n",
       "8                      13.0          8.26                   0   \n",
       "21                     15.0         11.99                   0   \n",
       "22                     12.0         11.99                   0   \n",
       "\n",
       "    genre_21st-century  genre_abuse  genre_academic  ...  \\\n",
       "3                    0            0               0  ...   \n",
       "6                    0            0               0  ...   \n",
       "8                    0            0               0  ...   \n",
       "21                   0            0               0  ...   \n",
       "22                   0            0               0  ...   \n",
       "\n",
       "    genre_true-crime_percent  genre_urban-planning_percent  \\\n",
       "3                        0.0                           0.0   \n",
       "6                        0.0                           0.0   \n",
       "8                        0.0                           0.0   \n",
       "21                       0.0                           0.0   \n",
       "22                       0.0                           0.0   \n",
       "\n",
       "    genre_vegan_percent  genre_war_percent  genre_womens_percent  \\\n",
       "3                   0.0                0.0                   0.0   \n",
       "6                   0.0                0.0                   0.0   \n",
       "8                   0.0                0.0                   0.0   \n",
       "21                  0.0                0.0                   0.0   \n",
       "22                  0.0                0.0                   0.0   \n",
       "\n",
       "    genre_womens-studies_percent  genre_world-war-ii_percent  \\\n",
       "3                            0.0                         0.0   \n",
       "6                            0.0                         0.0   \n",
       "8                            0.0                         0.0   \n",
       "21                           0.0                         0.0   \n",
       "22                           0.0                         0.0   \n",
       "\n",
       "    genre_writing_percent  genre_young-adult_percent  genre_zen_percent  \n",
       "3                     0.0                        0.0                0.0  \n",
       "6                     0.0                        0.0                0.0  \n",
       "8                     0.0                        0.0                0.0  \n",
       "21                    0.0                        0.0                0.0  \n",
       "22                    0.0                        0.0                0.0  \n",
       "\n",
       "[5 rows x 493 columns]"
      ]
     },
     "execution_count": 207,
     "metadata": {},
     "output_type": "execute_result"
    }
   ],
   "source": [
    "# create genres percentage columns\n",
    "columns_genre = list(df5.columns[6::])\n",
    "for columni in columns_genre:\n",
    "    df_percent_genre[columni+'_percent'] = df_percent_genre.apply(lambda x : x[columni]/x['sum_genres'],axis=1)\n",
    "df_percent_genre.head()"
   ]
  },
  {
   "cell_type": "code",
   "execution_count": 208,
   "metadata": {},
   "outputs": [
    {
     "name": "stderr",
     "output_type": "stream",
     "text": [
      "C:\\Users\\valer\\anaconda3\\envs\\insight\\lib\\site-packages\\ipykernel_launcher.py:4: SettingWithCopyWarning: \n",
      "A value is trying to be set on a copy of a slice from a DataFrame.\n",
      "Try using .loc[row_indexer,col_indexer] = value instead\n",
      "\n",
      "See the caveats in the documentation: https://pandas.pydata.org/pandas-docs/stable/user_guide/indexing.html#returning-a-view-versus-a-copy\n",
      "  after removing the cwd from sys.path.\n",
      "C:\\Users\\valer\\anaconda3\\envs\\insight\\lib\\site-packages\\ipykernel_launcher.py:5: SettingWithCopyWarning: \n",
      "A value is trying to be set on a copy of a slice from a DataFrame.\n",
      "Try using .loc[row_indexer,col_indexer] = value instead\n",
      "\n",
      "See the caveats in the documentation: https://pandas.pydata.org/pandas-docs/stable/user_guide/indexing.html#returning-a-view-versus-a-copy\n",
      "  \"\"\"\n"
     ]
    },
    {
     "data": {
      "text/html": [
       "<div>\n",
       "<style scoped>\n",
       "    .dataframe tbody tr th:only-of-type {\n",
       "        vertical-align: middle;\n",
       "    }\n",
       "\n",
       "    .dataframe tbody tr th {\n",
       "        vertical-align: top;\n",
       "    }\n",
       "\n",
       "    .dataframe thead th {\n",
       "        text-align: right;\n",
       "    }\n",
       "</style>\n",
       "<table border=\"1\" class=\"dataframe\">\n",
       "  <thead>\n",
       "    <tr style=\"text-align: right;\">\n",
       "      <th></th>\n",
       "      <th>avg_rating</th>\n",
       "      <th>num_ratings</th>\n",
       "      <th>year_published</th>\n",
       "      <th>book_review_count</th>\n",
       "      <th>author_num_unique_books</th>\n",
       "      <th>kindle_price</th>\n",
       "      <th>genre_20th-century</th>\n",
       "      <th>genre_21st-century</th>\n",
       "      <th>genre_abuse</th>\n",
       "      <th>genre_academic</th>\n",
       "      <th>...</th>\n",
       "      <th>genre_vegan_percent</th>\n",
       "      <th>genre_war_percent</th>\n",
       "      <th>genre_womens_percent</th>\n",
       "      <th>genre_womens-studies_percent</th>\n",
       "      <th>genre_world-war-ii_percent</th>\n",
       "      <th>genre_writing_percent</th>\n",
       "      <th>genre_young-adult_percent</th>\n",
       "      <th>genre_zen_percent</th>\n",
       "      <th>ratings_per_month_since_published</th>\n",
       "      <th>reviews_per_month_since_published</th>\n",
       "    </tr>\n",
       "  </thead>\n",
       "  <tbody>\n",
       "    <tr>\n",
       "      <th>3</th>\n",
       "      <td>3.86</td>\n",
       "      <td>8980</td>\n",
       "      <td>2001.0</td>\n",
       "      <td>608.0</td>\n",
       "      <td>20.0</td>\n",
       "      <td>12.99</td>\n",
       "      <td>0</td>\n",
       "      <td>0</td>\n",
       "      <td>0</td>\n",
       "      <td>0</td>\n",
       "      <td>...</td>\n",
       "      <td>0.0</td>\n",
       "      <td>0.0</td>\n",
       "      <td>0.0</td>\n",
       "      <td>0.0</td>\n",
       "      <td>0.0</td>\n",
       "      <td>0.0</td>\n",
       "      <td>0.0</td>\n",
       "      <td>0.0</td>\n",
       "      <td>39.385965</td>\n",
       "      <td>2.666667</td>\n",
       "    </tr>\n",
       "    <tr>\n",
       "      <th>6</th>\n",
       "      <td>4.24</td>\n",
       "      <td>3752</td>\n",
       "      <td>2015.0</td>\n",
       "      <td>441.0</td>\n",
       "      <td>4.0</td>\n",
       "      <td>11.99</td>\n",
       "      <td>0</td>\n",
       "      <td>0</td>\n",
       "      <td>0</td>\n",
       "      <td>0</td>\n",
       "      <td>...</td>\n",
       "      <td>0.0</td>\n",
       "      <td>0.0</td>\n",
       "      <td>0.0</td>\n",
       "      <td>0.0</td>\n",
       "      <td>0.0</td>\n",
       "      <td>0.0</td>\n",
       "      <td>0.0</td>\n",
       "      <td>0.0</td>\n",
       "      <td>62.533333</td>\n",
       "      <td>7.350000</td>\n",
       "    </tr>\n",
       "    <tr>\n",
       "      <th>8</th>\n",
       "      <td>3.70</td>\n",
       "      <td>2570</td>\n",
       "      <td>2013.0</td>\n",
       "      <td>362.0</td>\n",
       "      <td>13.0</td>\n",
       "      <td>8.26</td>\n",
       "      <td>0</td>\n",
       "      <td>0</td>\n",
       "      <td>0</td>\n",
       "      <td>0</td>\n",
       "      <td>...</td>\n",
       "      <td>0.0</td>\n",
       "      <td>0.0</td>\n",
       "      <td>0.0</td>\n",
       "      <td>0.0</td>\n",
       "      <td>0.0</td>\n",
       "      <td>0.0</td>\n",
       "      <td>0.0</td>\n",
       "      <td>0.0</td>\n",
       "      <td>30.595238</td>\n",
       "      <td>4.309524</td>\n",
       "    </tr>\n",
       "    <tr>\n",
       "      <th>21</th>\n",
       "      <td>3.75</td>\n",
       "      <td>5161</td>\n",
       "      <td>2010.0</td>\n",
       "      <td>776.0</td>\n",
       "      <td>15.0</td>\n",
       "      <td>11.99</td>\n",
       "      <td>0</td>\n",
       "      <td>0</td>\n",
       "      <td>0</td>\n",
       "      <td>0</td>\n",
       "      <td>...</td>\n",
       "      <td>0.0</td>\n",
       "      <td>0.0</td>\n",
       "      <td>0.0</td>\n",
       "      <td>0.0</td>\n",
       "      <td>0.0</td>\n",
       "      <td>0.0</td>\n",
       "      <td>0.0</td>\n",
       "      <td>0.0</td>\n",
       "      <td>43.008333</td>\n",
       "      <td>6.466667</td>\n",
       "    </tr>\n",
       "    <tr>\n",
       "      <th>22</th>\n",
       "      <td>3.90</td>\n",
       "      <td>5484</td>\n",
       "      <td>1998.0</td>\n",
       "      <td>300.0</td>\n",
       "      <td>12.0</td>\n",
       "      <td>11.99</td>\n",
       "      <td>0</td>\n",
       "      <td>0</td>\n",
       "      <td>0</td>\n",
       "      <td>0</td>\n",
       "      <td>...</td>\n",
       "      <td>0.0</td>\n",
       "      <td>0.0</td>\n",
       "      <td>0.0</td>\n",
       "      <td>0.0</td>\n",
       "      <td>0.0</td>\n",
       "      <td>0.0</td>\n",
       "      <td>0.0</td>\n",
       "      <td>0.0</td>\n",
       "      <td>20.772727</td>\n",
       "      <td>1.136364</td>\n",
       "    </tr>\n",
       "  </tbody>\n",
       "</table>\n",
       "<p>5 rows × 495 columns</p>\n",
       "</div>"
      ],
      "text/plain": [
       "    avg_rating  num_ratings  year_published  book_review_count  \\\n",
       "3         3.86         8980          2001.0              608.0   \n",
       "6         4.24         3752          2015.0              441.0   \n",
       "8         3.70         2570          2013.0              362.0   \n",
       "21        3.75         5161          2010.0              776.0   \n",
       "22        3.90         5484          1998.0              300.0   \n",
       "\n",
       "    author_num_unique_books  kindle_price  genre_20th-century  \\\n",
       "3                      20.0         12.99                   0   \n",
       "6                       4.0         11.99                   0   \n",
       "8                      13.0          8.26                   0   \n",
       "21                     15.0         11.99                   0   \n",
       "22                     12.0         11.99                   0   \n",
       "\n",
       "    genre_21st-century  genre_abuse  genre_academic  ...  genre_vegan_percent  \\\n",
       "3                    0            0               0  ...                  0.0   \n",
       "6                    0            0               0  ...                  0.0   \n",
       "8                    0            0               0  ...                  0.0   \n",
       "21                   0            0               0  ...                  0.0   \n",
       "22                   0            0               0  ...                  0.0   \n",
       "\n",
       "    genre_war_percent  genre_womens_percent  genre_womens-studies_percent  \\\n",
       "3                 0.0                   0.0                           0.0   \n",
       "6                 0.0                   0.0                           0.0   \n",
       "8                 0.0                   0.0                           0.0   \n",
       "21                0.0                   0.0                           0.0   \n",
       "22                0.0                   0.0                           0.0   \n",
       "\n",
       "    genre_world-war-ii_percent  genre_writing_percent  \\\n",
       "3                          0.0                    0.0   \n",
       "6                          0.0                    0.0   \n",
       "8                          0.0                    0.0   \n",
       "21                         0.0                    0.0   \n",
       "22                         0.0                    0.0   \n",
       "\n",
       "    genre_young-adult_percent  genre_zen_percent  \\\n",
       "3                         0.0                0.0   \n",
       "6                         0.0                0.0   \n",
       "8                         0.0                0.0   \n",
       "21                        0.0                0.0   \n",
       "22                        0.0                0.0   \n",
       "\n",
       "    ratings_per_month_since_published  reviews_per_month_since_published  \n",
       "3                           39.385965                           2.666667  \n",
       "6                           62.533333                           7.350000  \n",
       "8                           30.595238                           4.309524  \n",
       "21                          43.008333                           6.466667  \n",
       "22                          20.772727                           1.136364  \n",
       "\n",
       "[5 rows x 495 columns]"
      ]
     },
     "execution_count": 208,
     "metadata": {},
     "output_type": "execute_result"
    }
   ],
   "source": [
    "# create column for normalized num_ratings and review_count by years since published\n",
    "# use only books from previous 2019 or older\n",
    "df_out = df_percent_genre[(df_percent_genre['year_published']<2020)] #&(df_percent_genre['year_published']>2000)]\n",
    "df_out['ratings_per_month_since_published'] = df_out.apply(lambda x : x['num_ratings']/(12*(2020-x['year_published'])),axis=1)\n",
    "df_out['reviews_per_month_since_published'] = df_out.apply(lambda x : x['book_review_count']/(12*(2020-x['year_published'])),axis=1)\n",
    "df_out.head()"
   ]
  },
  {
   "cell_type": "code",
   "execution_count": 209,
   "metadata": {},
   "outputs": [
    {
     "data": {
      "text/plain": [
       "count    288.000000\n",
       "mean      21.855771\n",
       "std       55.034042\n",
       "min        0.154762\n",
       "25%        2.172991\n",
       "50%        6.102328\n",
       "75%       15.767361\n",
       "max      546.250000\n",
       "Name: reviews_per_month_since_published, dtype: float64"
      ]
     },
     "execution_count": 209,
     "metadata": {},
     "output_type": "execute_result"
    },
    {
     "data": {
      "image/png": "[encoded data removed]",
      "text/plain": [
       "<Figure size 432x288 with 1 Axes>"
      ]
     },
     "metadata": {
      "needs_background": "light"
     },
     "output_type": "display_data"
    }
   ],
   "source": [
    "df_out['reviews_per_month_since_published'].hist()\n",
    "df_out['reviews_per_month_since_published'].describe()"
   ]
  },
  {
   "cell_type": "code",
   "execution_count": 221,
   "metadata": {},
   "outputs": [
    {
     "data": {
      "text/plain": [
       "count    189.000000\n",
       "mean       3.687949\n",
       "std        2.843360\n",
       "min        0.154762\n",
       "25%        1.291667\n",
       "50%        2.763889\n",
       "75%        5.916667\n",
       "max        9.992424\n",
       "Name: reviews_per_month_since_published, dtype: float64"
      ]
     },
     "execution_count": 221,
     "metadata": {},
     "output_type": "execute_result"
    },
    {
     "data": {
      "image/png": "[encoded data removed]",
      "text/plain": [
       "<Figure size 432x288 with 1 Axes>"
      ]
     },
     "metadata": {
      "needs_background": "light"
     },
     "output_type": "display_data"
    }
   ],
   "source": [
    "num_reviews_per_month_cut=20\n",
    "df_out[df_out['reviews_per_month_since_published']<num_reviews_per_month_cut]['reviews_per_month_since_published'].hist()\n",
    "df_out[df_out['reviews_per_month_since_published']<num_reviews_per_month_cut]['reviews_per_month_since_published'].describe()"
   ]
  },
  {
   "cell_type": "code",
   "execution_count": 217,
   "metadata": {},
   "outputs": [],
   "source": [
    "df_out = df_out[df_out['reviews_per_month_since_published']<num_reviews_per_month_cut]"
   ]
  },
  {
   "cell_type": "code",
   "execution_count": 223,
   "metadata": {},
   "outputs": [
    {
     "data": {
      "text/plain": [
       "<AxesSubplot:xlabel='reviews_per_month_since_published'>"
      ]
     },
     "execution_count": 223,
     "metadata": {},
     "output_type": "execute_result"
    },
    {
     "data": {
      "image/png": "[encoded data removed]",
      "text/plain": [
       "<Figure size 432x288 with 1 Axes>"
      ]
     },
     "metadata": {
      "needs_background": "light"
     },
     "output_type": "display_data"
    }
   ],
   "source": [
    "sns.violinplot(x=df_out[\"reviews_per_month_since_published\"])"
   ]
  },
  {
   "cell_type": "code",
   "execution_count": 218,
   "metadata": {},
   "outputs": [
    {
     "name": "stdout",
     "output_type": "stream",
     "text": [
      "243 229 0.9423868312757202 4.899078973153047e-05 0.004115226337448561 0.0 0.27916113604386045\n"
     ]
    }
   ],
   "source": [
    "means = []\n",
    "colnames_small = []\n",
    "count = 0\n",
    "for i in df_out.columns:\n",
    "    if not \"percent\" in i: continue\n",
    "    try:\n",
    "        means.append(df_out[i].mean())\n",
    "        if df_out[i].mean() < 1e-02: \n",
    "            count += 1\n",
    "            colnames_small.append(i)\n",
    "    except:\n",
    "        continue\n",
    "print(len(means),count,count/len(means), np.median(means),np.mean(means),np.min(means),np.max(means))"
   ]
  },
  {
   "cell_type": "markdown",
   "metadata": {},
   "source": [
    "Note that 30% of the features are genres are less than 1e-5, and the median is 7e-5. Let's clean the data more"
   ]
  },
  {
   "cell_type": "code",
   "execution_count": 219,
   "metadata": {},
   "outputs": [
    {
     "name": "stdout",
     "output_type": "stream",
     "text": [
      "189 266\n"
     ]
    }
   ],
   "source": [
    "df_out2 = df_out.drop(colnames_small,axis=1)\n",
    "print(len(df_out2.index),len(df_out2.columns))"
   ]
  },
  {
   "cell_type": "code",
   "execution_count": 230,
   "metadata": {},
   "outputs": [
    {
     "data": {
      "text/plain": [
       "<AxesSubplot:xlabel='genre_mental-health_percent'>"
      ]
     },
     "execution_count": 230,
     "metadata": {},
     "output_type": "execute_result"
    },
    {
     "data": {
      "image/png": "[encoded data removed]",
      "text/plain": [
       "<Figure size 432x288 with 1 Axes>"
      ]
     },
     "metadata": {
      "needs_background": "light"
     },
     "output_type": "display_data"
    }
   ],
   "source": [
    "sns.violinplot(x=df_out2[\"genre_productivity_percent\"])"
   ]
  },
  {
   "cell_type": "code",
   "execution_count": 220,
   "metadata": {},
   "outputs": [],
   "source": [
    "df_out2.to_csv('../data/books_25_pages_clean0.csv',index=False)"
   ]
  },
  {
   "cell_type": "code",
   "execution_count": null,
   "metadata": {},
   "outputs": [],
   "source": []
  }
 ],
 "metadata": {
  "kernelspec": {
   "display_name": "Python 3",
   "language": "python",
   "name": "python3"
  },
  "language_info": {
   "codemirror_mode": {
    "name": "ipython",
    "version": 3
   },
   "file_extension": ".py",
   "mimetype": "text/x-python",
   "name": "python",
   "nbconvert_exporter": "python",
   "pygments_lexer": "ipython3",
   "version": "3.6.12"
  }
 },
 "nbformat": 4,
 "nbformat_minor": 4
}

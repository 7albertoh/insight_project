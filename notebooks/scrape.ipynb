{
 "cells": [
  {
   "cell_type": "code",
   "execution_count": 13,
   "metadata": {},
   "outputs": [
    {
     "ename": "AttributeError",
     "evalue": "'NoneType' object has no attribute 'content'",
     "output_type": "error",
     "traceback": [
      "\u001b[1;31m---------------------------------------------------------------------------\u001b[0m",
      "\u001b[1;31mAttributeError\u001b[0m                            Traceback (most recent call last)",
      "\u001b[1;32m<ipython-input-13-541c6cae33cd>\u001b[0m in \u001b[0;36m<module>\u001b[1;34m\u001b[0m\n\u001b[0;32m     10\u001b[0m \u001b[0mpage\u001b[0m \u001b[1;33m=\u001b[0m \u001b[0mdriver\u001b[0m\u001b[1;33m.\u001b[0m\u001b[0mget\u001b[0m\u001b[1;33m(\u001b[0m\u001b[1;34m\"https://www.goodreads.com/shelf/show/self-help?page=1\"\u001b[0m\u001b[1;33m)\u001b[0m\u001b[1;33m\u001b[0m\u001b[1;33m\u001b[0m\u001b[0m\n\u001b[0;32m     11\u001b[0m \u001b[0mtime\u001b[0m\u001b[1;33m.\u001b[0m\u001b[0msleep\u001b[0m\u001b[1;33m(\u001b[0m\u001b[1;36m5\u001b[0m\u001b[1;33m)\u001b[0m\u001b[1;33m\u001b[0m\u001b[1;33m\u001b[0m\u001b[0m\n\u001b[1;32m---> 12\u001b[1;33m \u001b[0msoup\u001b[0m \u001b[1;33m=\u001b[0m \u001b[0mbs\u001b[0m\u001b[1;33m(\u001b[0m\u001b[0mpage\u001b[0m\u001b[1;33m.\u001b[0m\u001b[0mcontent\u001b[0m\u001b[1;33m,\u001b[0m \u001b[1;34m'html.parser'\u001b[0m\u001b[1;33m)\u001b[0m\u001b[1;33m\u001b[0m\u001b[1;33m\u001b[0m\u001b[0m\n\u001b[0m\u001b[0;32m     13\u001b[0m \u001b[0mtitles\u001b[0m \u001b[1;33m=\u001b[0m \u001b[0msoup\u001b[0m\u001b[1;33m.\u001b[0m\u001b[0mfind_all\u001b[0m\u001b[1;33m(\u001b[0m\u001b[1;34m'a'\u001b[0m\u001b[1;33m,\u001b[0m \u001b[0mclass_\u001b[0m\u001b[1;33m=\u001b[0m\u001b[1;34m'bookTitle'\u001b[0m\u001b[1;33m)\u001b[0m\u001b[1;33m\u001b[0m\u001b[1;33m\u001b[0m\u001b[0m\n\u001b[0;32m     14\u001b[0m \u001b[0mauthors\u001b[0m \u001b[1;33m=\u001b[0m \u001b[0msoup\u001b[0m\u001b[1;33m.\u001b[0m\u001b[0mfind_all\u001b[0m\u001b[1;33m(\u001b[0m\u001b[1;34m'a'\u001b[0m\u001b[1;33m,\u001b[0m \u001b[0mclass_\u001b[0m\u001b[1;33m=\u001b[0m\u001b[1;34m'authorName'\u001b[0m\u001b[1;33m)\u001b[0m\u001b[1;33m\u001b[0m\u001b[1;33m\u001b[0m\u001b[0m\n",
      "\u001b[1;31mAttributeError\u001b[0m: 'NoneType' object has no attribute 'content'"
     ]
    }
   ],
   "source": [
    "import time\n",
    "from bs4 import BeautifulSoup as bs\n",
    "from selenium import webdriver\n",
    "#copy chromedriver into python folder\n",
    "driver = webdriver.Chrome()\n",
    "driver.set_window_position(-2000,0)#this function will minimize the window\n",
    "first_url = 1\n",
    "last_url = 3     # Last book is 8,630,000\n",
    "\n",
    "page = driver.get(\"https://www.goodreads.com/shelf/show/self-help?page=1\")\n",
    "time.sleep(5)\n",
    "soup = bs(page.content, 'html.parser')\n",
    "titles = soup.find_all('a', class_='bookTitle')\n",
    "authors = soup.find_all('a', class_='authorName')\n",
    "\n",
    "with open('self-help' + '.csv', 'w') as csvfile:\n",
    "    fieldnames = ['title', 'author']\n",
    "    csv_write = csv.DictWriter(csvfile, fieldnames=fieldnames)\n",
    "    print(csv_write)\n",
    "    quit()\n",
    "    books_save = 0\n",
    "\n",
    "    for title, author in zip(titles, authors):\n",
    "\n",
    "        try:\n",
    "            ## single book page\n",
    "            book_page = requests.get(\"https://www.goodreads.com\" + title['href'])\n",
    "            soup = bs(book_page.content, 'html.parser')\n",
    "            # get image id\n",
    "            image = soup.find('img', id='coverImage')\n",
    "\n",
    "            title_name = title.get_text()\n",
    "\n",
    "            save_dir = image_dir + \"/\" + title_name\n",
    "            urllib.request.urlretrieve(image['src'], save_dir)\n",
    "\n",
    "            csv_write.writerow({'title': title_name, 'author': author.get_text()})\n",
    "            books_save += 1\n",
    "            ## error handelling for long file names\n",
    "        except OSError as exc:\n",
    "            if exc.errno == 36:\n",
    "                print(exc)\n",
    "\n",
    "\n",
    "# for book_reference_number in range(first_url, last_url):\n",
    "#    driver.get(\"https://www.goodreads.com/book/show/\"+str(book_reference_number))\n",
    "#    time.sleep(5)#optional\n",
    "#    soup = BeautifulSoup(driver.page_source, 'lxml')\n",
    "#    try:\n",
    "#        book_title = soup.select('.gr-h1.gr-h1--serif')[0].text.strip()\n",
    "#    except:\n",
    "#        book_title = ''\n",
    "#    try:\n",
    "#        author_name = soup.select('.authorName')[0].text.strip()\n",
    "#    except:\n",
    "# #        author_name = ''\n",
    "\n",
    "#    print('NO.', book_reference_number, 'TITLE: ', book_title, 'AUTHOR: ', author_name) \n",
    "\n"
   ]
  },
  {
   "cell_type": "code",
   "execution_count": null,
   "metadata": {},
   "outputs": [],
   "source": []
  }
 ],
 "metadata": {
  "kernelspec": {
   "display_name": "Python 3",
   "language": "python",
   "name": "python3"
  },
  "language_info": {
   "codemirror_mode": {
    "name": "ipython",
    "version": 3
   },
   "file_extension": ".py",
   "mimetype": "text/x-python",
   "name": "python",
   "nbconvert_exporter": "python",
   "pygments_lexer": "ipython3",
   "version": "3.6.12"
  }
 },
 "nbformat": 4,
 "nbformat_minor": 4
}

{
 "cells": [
  {
   "cell_type": "code",
   "execution_count": 2,
   "metadata": {},
   "outputs": [],
   "source": [
    "import pandas as pd\n",
    "import matplotlib.pyplot as plt\n",
    "import sidetable as stb\n",
    "import numpy as np\n",
    "import seaborn as sns"
   ]
  },
  {
   "cell_type": "code",
   "execution_count": 5,
   "metadata": {},
   "outputs": [
    {
     "data": {
      "text/html": [
       "<div>\n",
       "<style scoped>\n",
       "    .dataframe tbody tr th:only-of-type {\n",
       "        vertical-align: middle;\n",
       "    }\n",
       "\n",
       "    .dataframe tbody tr th {\n",
       "        vertical-align: top;\n",
       "    }\n",
       "\n",
       "    .dataframe thead th {\n",
       "        text-align: right;\n",
       "    }\n",
       "</style>\n",
       "<table border=\"1\" class=\"dataframe\">\n",
       "  <thead>\n",
       "    <tr style=\"text-align: right;\">\n",
       "      <th></th>\n",
       "      <th>book_reference</th>\n",
       "      <th>author_names</th>\n",
       "      <th>avg_rating</th>\n",
       "      <th>num_ratings</th>\n",
       "      <th>year_published</th>\n",
       "      <th>book_title</th>\n",
       "      <th>book_isbn</th>\n",
       "      <th>book_review_count</th>\n",
       "      <th>author_num_unique_books</th>\n",
       "      <th>kindle_price</th>\n",
       "      <th>...</th>\n",
       "      <th>topic 10</th>\n",
       "      <th>topic 11</th>\n",
       "      <th>topic 12</th>\n",
       "      <th>topic 13</th>\n",
       "      <th>topic 14</th>\n",
       "      <th>topic 15</th>\n",
       "      <th>topic 16</th>\n",
       "      <th>topic 17</th>\n",
       "      <th>topic 18</th>\n",
       "      <th>topic 19</th>\n",
       "    </tr>\n",
       "  </thead>\n",
       "  <tbody>\n",
       "    <tr>\n",
       "      <th>0</th>\n",
       "      <td>/book/show/28257707-the-subtle-art-of-not-givi...</td>\n",
       "      <td>Mark Manson</td>\n",
       "      <td>3.94</td>\n",
       "      <td>515636</td>\n",
       "      <td>2016.0</td>\n",
       "      <td>The Subtle Art of Not Giving a F*ck</td>\n",
       "      <td>NaN</td>\n",
       "      <td>33082.0</td>\n",
       "      <td>36.0</td>\n",
       "      <td>NaN</td>\n",
       "      <td>...</td>\n",
       "      <td>0.0</td>\n",
       "      <td>0.0</td>\n",
       "      <td>1.0</td>\n",
       "      <td>0.0</td>\n",
       "      <td>0.0</td>\n",
       "      <td>0.0</td>\n",
       "      <td>0.0</td>\n",
       "      <td>0.0</td>\n",
       "      <td>0.0</td>\n",
       "      <td>1.0</td>\n",
       "    </tr>\n",
       "    <tr>\n",
       "      <th>1</th>\n",
       "      <td>/book/show/4865.How_to_Win_Friends_and_Influen...</td>\n",
       "      <td>Dale Carnegie</td>\n",
       "      <td>4.20</td>\n",
       "      <td>600309</td>\n",
       "      <td>1936.0</td>\n",
       "      <td>How to Win Friends and Influence People</td>\n",
       "      <td>NaN</td>\n",
       "      <td>15121.0</td>\n",
       "      <td>396.0</td>\n",
       "      <td>NaN</td>\n",
       "      <td>...</td>\n",
       "      <td>0.0</td>\n",
       "      <td>0.0</td>\n",
       "      <td>0.0</td>\n",
       "      <td>0.0</td>\n",
       "      <td>0.0</td>\n",
       "      <td>0.0</td>\n",
       "      <td>0.0</td>\n",
       "      <td>1.0</td>\n",
       "      <td>0.0</td>\n",
       "      <td>0.0</td>\n",
       "    </tr>\n",
       "    <tr>\n",
       "      <th>2</th>\n",
       "      <td>/book/show/36072.The_7_Habits_of_Highly_Effect...</td>\n",
       "      <td>Stephen R. Covey</td>\n",
       "      <td>4.12</td>\n",
       "      <td>517025</td>\n",
       "      <td>1989.0</td>\n",
       "      <td>The 7 Habits of Highly Effective People</td>\n",
       "      <td>9.780743e+12</td>\n",
       "      <td>10277.0</td>\n",
       "      <td>505.0</td>\n",
       "      <td>NaN</td>\n",
       "      <td>...</td>\n",
       "      <td>0.0</td>\n",
       "      <td>0.0</td>\n",
       "      <td>0.0</td>\n",
       "      <td>0.0</td>\n",
       "      <td>0.0</td>\n",
       "      <td>0.0</td>\n",
       "      <td>0.0</td>\n",
       "      <td>0.0</td>\n",
       "      <td>0.0</td>\n",
       "      <td>0.0</td>\n",
       "    </tr>\n",
       "    <tr>\n",
       "      <th>3</th>\n",
       "      <td>/book/show/12609433-the-power-of-habit</td>\n",
       "      <td>Charles Duhigg</td>\n",
       "      <td>4.10</td>\n",
       "      <td>337512</td>\n",
       "      <td>2012.0</td>\n",
       "      <td>The Power of Habit</td>\n",
       "      <td>9.781400e+12</td>\n",
       "      <td>16950.0</td>\n",
       "      <td>7.0</td>\n",
       "      <td>NaN</td>\n",
       "      <td>...</td>\n",
       "      <td>1.0</td>\n",
       "      <td>1.0</td>\n",
       "      <td>0.0</td>\n",
       "      <td>0.0</td>\n",
       "      <td>0.0</td>\n",
       "      <td>0.0</td>\n",
       "      <td>0.0</td>\n",
       "      <td>0.0</td>\n",
       "      <td>1.0</td>\n",
       "      <td>0.0</td>\n",
       "    </tr>\n",
       "    <tr>\n",
       "      <th>4</th>\n",
       "      <td>/book/show/22318578-the-life-changing-magic-of...</td>\n",
       "      <td>Marie Kond\\xc5\\x8d</td>\n",
       "      <td>3.84</td>\n",
       "      <td>275462</td>\n",
       "      <td>2011.0</td>\n",
       "      <td>The Life-Changing Magic of Tidying Up</td>\n",
       "      <td>9.781608e+12</td>\n",
       "      <td>27998.0</td>\n",
       "      <td>18.0</td>\n",
       "      <td>9.99</td>\n",
       "      <td>...</td>\n",
       "      <td>0.0</td>\n",
       "      <td>1.0</td>\n",
       "      <td>0.0</td>\n",
       "      <td>0.0</td>\n",
       "      <td>0.0</td>\n",
       "      <td>0.0</td>\n",
       "      <td>0.0</td>\n",
       "      <td>0.0</td>\n",
       "      <td>0.0</td>\n",
       "      <td>0.0</td>\n",
       "    </tr>\n",
       "  </tbody>\n",
       "</table>\n",
       "<p>5 rows × 277 columns</p>\n",
       "</div>"
      ],
      "text/plain": [
       "                                      book_reference        author_names  \\\n",
       "0  /book/show/28257707-the-subtle-art-of-not-givi...         Mark Manson   \n",
       "1  /book/show/4865.How_to_Win_Friends_and_Influen...       Dale Carnegie   \n",
       "2  /book/show/36072.The_7_Habits_of_Highly_Effect...    Stephen R. Covey   \n",
       "3             /book/show/12609433-the-power-of-habit      Charles Duhigg   \n",
       "4  /book/show/22318578-the-life-changing-magic-of...  Marie Kond\\xc5\\x8d   \n",
       "\n",
       "   avg_rating  num_ratings  year_published  \\\n",
       "0        3.94       515636          2016.0   \n",
       "1        4.20       600309          1936.0   \n",
       "2        4.12       517025          1989.0   \n",
       "3        4.10       337512          2012.0   \n",
       "4        3.84       275462          2011.0   \n",
       "\n",
       "                                book_title     book_isbn  book_review_count  \\\n",
       "0      The Subtle Art of Not Giving a F*ck           NaN            33082.0   \n",
       "1  How to Win Friends and Influence People           NaN            15121.0   \n",
       "2  The 7 Habits of Highly Effective People  9.780743e+12            10277.0   \n",
       "3                       The Power of Habit  9.781400e+12            16950.0   \n",
       "4    The Life-Changing Magic of Tidying Up  9.781608e+12            27998.0   \n",
       "\n",
       "   author_num_unique_books  kindle_price  ... topic 10 topic 11  topic 12  \\\n",
       "0                     36.0           NaN  ...      0.0      0.0       1.0   \n",
       "1                    396.0           NaN  ...      0.0      0.0       0.0   \n",
       "2                    505.0           NaN  ...      0.0      0.0       0.0   \n",
       "3                      7.0           NaN  ...      1.0      1.0       0.0   \n",
       "4                     18.0          9.99  ...      0.0      1.0       0.0   \n",
       "\n",
       "   topic 13  topic 14  topic 15  topic 16  topic 17  topic 18  topic 19  \n",
       "0       0.0       0.0       0.0       0.0       0.0       0.0       1.0  \n",
       "1       0.0       0.0       0.0       0.0       1.0       0.0       0.0  \n",
       "2       0.0       0.0       0.0       0.0       0.0       0.0       0.0  \n",
       "3       0.0       0.0       0.0       0.0       0.0       1.0       0.0  \n",
       "4       0.0       0.0       0.0       0.0       0.0       0.0       0.0  \n",
       "\n",
       "[5 rows x 277 columns]"
      ]
     },
     "execution_count": 5,
     "metadata": {},
     "output_type": "execute_result"
    }
   ],
   "source": [
    "df1 = pd.read_csv('../data/books_25_pages_author_info_description_nmf.csv',skipinitialspace=True)\n",
    "df1 = df1.rename(columns = lambda x: x.strip())\n",
    "value_author_num_unique_books = df1['author_num_unique_books'].values\n",
    "df1 = df1.drop('author_num_unique_books',axis=1)\n",
    "df1.insert(loc=8,column='author_num_unique_books',value=value_author_num_unique_books)\n",
    "df1.head()"
   ]
  },
  {
   "cell_type": "code",
   "execution_count": 195,
   "metadata": {},
   "outputs": [],
   "source": [
    "#[print(i) for i in df1.columns]"
   ]
  },
  {
   "cell_type": "code",
   "execution_count": 10,
   "metadata": {},
   "outputs": [
    {
     "data": {
      "text/html": [
       "<div>\n",
       "<style scoped>\n",
       "    .dataframe tbody tr th:only-of-type {\n",
       "        vertical-align: middle;\n",
       "    }\n",
       "\n",
       "    .dataframe tbody tr th {\n",
       "        vertical-align: top;\n",
       "    }\n",
       "\n",
       "    .dataframe thead th {\n",
       "        text-align: right;\n",
       "    }\n",
       "</style>\n",
       "<table border=\"1\" class=\"dataframe\">\n",
       "  <thead>\n",
       "    <tr style=\"text-align: right;\">\n",
       "      <th></th>\n",
       "      <th>year_published</th>\n",
       "      <th>book_review_count</th>\n",
       "      <th>book_description</th>\n",
       "      <th>genre_20th-century</th>\n",
       "      <th>genre_21st-century</th>\n",
       "      <th>genre_abuse</th>\n",
       "      <th>genre_academic</th>\n",
       "      <th>genre_activism</th>\n",
       "      <th>genre_adoption</th>\n",
       "      <th>genre_adult</th>\n",
       "      <th>...</th>\n",
       "      <th>topic 10</th>\n",
       "      <th>topic 11</th>\n",
       "      <th>topic 12</th>\n",
       "      <th>topic 13</th>\n",
       "      <th>topic 14</th>\n",
       "      <th>topic 15</th>\n",
       "      <th>topic 16</th>\n",
       "      <th>topic 17</th>\n",
       "      <th>topic 18</th>\n",
       "      <th>topic 19</th>\n",
       "    </tr>\n",
       "  </thead>\n",
       "  <tbody>\n",
       "    <tr>\n",
       "      <th>0</th>\n",
       "      <td>2016.0</td>\n",
       "      <td>33082.0</td>\n",
       "      <td>Alternate cover edition of ISBN 9780062457738I...</td>\n",
       "      <td>0</td>\n",
       "      <td>0</td>\n",
       "      <td>0</td>\n",
       "      <td>0</td>\n",
       "      <td>0</td>\n",
       "      <td>0</td>\n",
       "      <td>144</td>\n",
       "      <td>...</td>\n",
       "      <td>0.0</td>\n",
       "      <td>0.0</td>\n",
       "      <td>1.0</td>\n",
       "      <td>0.0</td>\n",
       "      <td>0.0</td>\n",
       "      <td>0.0</td>\n",
       "      <td>0.0</td>\n",
       "      <td>0.0</td>\n",
       "      <td>0.0</td>\n",
       "      <td>1.0</td>\n",
       "    </tr>\n",
       "    <tr>\n",
       "      <th>1</th>\n",
       "      <td>1936.0</td>\n",
       "      <td>15121.0</td>\n",
       "      <td>ISBN 9780671723651 moved to this edition.You c...</td>\n",
       "      <td>0</td>\n",
       "      <td>0</td>\n",
       "      <td>0</td>\n",
       "      <td>0</td>\n",
       "      <td>0</td>\n",
       "      <td>0</td>\n",
       "      <td>0</td>\n",
       "      <td>...</td>\n",
       "      <td>0.0</td>\n",
       "      <td>0.0</td>\n",
       "      <td>0.0</td>\n",
       "      <td>0.0</td>\n",
       "      <td>0.0</td>\n",
       "      <td>0.0</td>\n",
       "      <td>0.0</td>\n",
       "      <td>1.0</td>\n",
       "      <td>0.0</td>\n",
       "      <td>0.0</td>\n",
       "    </tr>\n",
       "    <tr>\n",
       "      <th>2</th>\n",
       "      <td>1989.0</td>\n",
       "      <td>10277.0</td>\n",
       "      <td>When Stephen Covey first released The Seven Ha...</td>\n",
       "      <td>0</td>\n",
       "      <td>0</td>\n",
       "      <td>0</td>\n",
       "      <td>0</td>\n",
       "      <td>0</td>\n",
       "      <td>0</td>\n",
       "      <td>0</td>\n",
       "      <td>...</td>\n",
       "      <td>0.0</td>\n",
       "      <td>0.0</td>\n",
       "      <td>0.0</td>\n",
       "      <td>0.0</td>\n",
       "      <td>0.0</td>\n",
       "      <td>0.0</td>\n",
       "      <td>0.0</td>\n",
       "      <td>0.0</td>\n",
       "      <td>0.0</td>\n",
       "      <td>0.0</td>\n",
       "    </tr>\n",
       "    <tr>\n",
       "      <th>3</th>\n",
       "      <td>2012.0</td>\n",
       "      <td>16950.0</td>\n",
       "      <td>A young woman walks into a laboratory. Over th...</td>\n",
       "      <td>0</td>\n",
       "      <td>0</td>\n",
       "      <td>0</td>\n",
       "      <td>0</td>\n",
       "      <td>0</td>\n",
       "      <td>0</td>\n",
       "      <td>0</td>\n",
       "      <td>...</td>\n",
       "      <td>1.0</td>\n",
       "      <td>1.0</td>\n",
       "      <td>0.0</td>\n",
       "      <td>0.0</td>\n",
       "      <td>0.0</td>\n",
       "      <td>0.0</td>\n",
       "      <td>0.0</td>\n",
       "      <td>0.0</td>\n",
       "      <td>1.0</td>\n",
       "      <td>0.0</td>\n",
       "    </tr>\n",
       "    <tr>\n",
       "      <th>4</th>\n",
       "      <td>2011.0</td>\n",
       "      <td>27998.0</td>\n",
       "      <td>Despite constant efforts to declutter your hom...</td>\n",
       "      <td>0</td>\n",
       "      <td>0</td>\n",
       "      <td>0</td>\n",
       "      <td>0</td>\n",
       "      <td>0</td>\n",
       "      <td>0</td>\n",
       "      <td>214</td>\n",
       "      <td>...</td>\n",
       "      <td>0.0</td>\n",
       "      <td>1.0</td>\n",
       "      <td>0.0</td>\n",
       "      <td>0.0</td>\n",
       "      <td>0.0</td>\n",
       "      <td>0.0</td>\n",
       "      <td>0.0</td>\n",
       "      <td>0.0</td>\n",
       "      <td>0.0</td>\n",
       "      <td>0.0</td>\n",
       "    </tr>\n",
       "  </tbody>\n",
       "</table>\n",
       "<p>5 rows × 267 columns</p>\n",
       "</div>"
      ],
      "text/plain": [
       "   year_published  book_review_count  \\\n",
       "0          2016.0            33082.0   \n",
       "1          1936.0            15121.0   \n",
       "2          1989.0            10277.0   \n",
       "3          2012.0            16950.0   \n",
       "4          2011.0            27998.0   \n",
       "\n",
       "                                    book_description  genre_20th-century  \\\n",
       "0  Alternate cover edition of ISBN 9780062457738I...                   0   \n",
       "1  ISBN 9780671723651 moved to this edition.You c...                   0   \n",
       "2  When Stephen Covey first released The Seven Ha...                   0   \n",
       "3  A young woman walks into a laboratory. Over th...                   0   \n",
       "4  Despite constant efforts to declutter your hom...                   0   \n",
       "\n",
       "   genre_21st-century  genre_abuse  genre_academic  genre_activism  \\\n",
       "0                   0            0               0               0   \n",
       "1                   0            0               0               0   \n",
       "2                   0            0               0               0   \n",
       "3                   0            0               0               0   \n",
       "4                   0            0               0               0   \n",
       "\n",
       "   genre_adoption  genre_adult  ...  topic 10  topic 11  topic 12  topic 13  \\\n",
       "0               0          144  ...       0.0       0.0       1.0       0.0   \n",
       "1               0            0  ...       0.0       0.0       0.0       0.0   \n",
       "2               0            0  ...       0.0       0.0       0.0       0.0   \n",
       "3               0            0  ...       1.0       1.0       0.0       0.0   \n",
       "4               0          214  ...       0.0       1.0       0.0       0.0   \n",
       "\n",
       "   topic 14  topic 15  topic 16  topic 17  topic 18  topic 19  \n",
       "0       0.0       0.0       0.0       0.0       0.0       1.0  \n",
       "1       0.0       0.0       0.0       1.0       0.0       0.0  \n",
       "2       0.0       0.0       0.0       0.0       0.0       0.0  \n",
       "3       0.0       0.0       0.0       0.0       1.0       0.0  \n",
       "4       0.0       0.0       0.0       0.0       0.0       0.0  \n",
       "\n",
       "[5 rows x 267 columns]"
      ]
     },
     "execution_count": 10,
     "metadata": {},
     "output_type": "execute_result"
    }
   ],
   "source": [
    "#drop unimportant columns\n",
    "df2 = df1.drop(columns=['book_reference','author_names','book_title','author_link','genre_unfinished','book_isbn'])\n",
    "df2.head()"
   ]
  },
  {
   "cell_type": "code",
   "execution_count": 11,
   "metadata": {},
   "outputs": [
    {
     "ename": "KeyError",
     "evalue": "\"Passing list-likes to .loc or [] with any missing labels is no longer supported. The following labels were missing: Index(['kindle_price', 'author_num_unique_books'], dtype='object'). See https://pandas.pydata.org/pandas-docs/stable/user_guide/indexing.html#deprecate-loc-reindex-listlike\"",
     "output_type": "error",
     "traceback": [
      "\u001b[1;31m---------------------------------------------------------------------------\u001b[0m",
      "\u001b[1;31mKeyError\u001b[0m                                  Traceback (most recent call last)",
      "\u001b[1;32m<ipython-input-11-92f6e30663a3>\u001b[0m in \u001b[0;36m<module>\u001b[1;34m\u001b[0m\n\u001b[0;32m      1\u001b[0m \u001b[1;31m# check NaN values\u001b[0m\u001b[1;33m\u001b[0m\u001b[1;33m\u001b[0m\u001b[1;33m\u001b[0m\u001b[0m\n\u001b[1;32m----> 2\u001b[1;33m \u001b[0mdf2\u001b[0m\u001b[1;33m.\u001b[0m\u001b[0mloc\u001b[0m\u001b[1;33m[\u001b[0m\u001b[1;33m:\u001b[0m\u001b[1;33m,\u001b[0m\u001b[1;33m[\u001b[0m\u001b[1;34m'year_published'\u001b[0m\u001b[1;33m,\u001b[0m\u001b[1;34m'book_review_count'\u001b[0m\u001b[1;33m,\u001b[0m\u001b[1;34m'kindle_price'\u001b[0m\u001b[1;33m,\u001b[0m\u001b[1;34m'author_num_unique_books'\u001b[0m\u001b[1;33m]\u001b[0m\u001b[1;33m]\u001b[0m\u001b[1;33m.\u001b[0m\u001b[0mstb\u001b[0m\u001b[1;33m.\u001b[0m\u001b[0mmissing\u001b[0m\u001b[1;33m(\u001b[0m\u001b[1;33m)\u001b[0m\u001b[1;33m\u001b[0m\u001b[1;33m\u001b[0m\u001b[0m\n\u001b[0m",
      "\u001b[1;32m~\\anaconda3\\envs\\insight\\lib\\site-packages\\pandas\\core\\indexing.py\u001b[0m in \u001b[0;36m__getitem__\u001b[1;34m(self, key)\u001b[0m\n\u001b[0;32m    871\u001b[0m                     \u001b[1;31m# AttributeError for IntervalTree get_value\u001b[0m\u001b[1;33m\u001b[0m\u001b[1;33m\u001b[0m\u001b[1;33m\u001b[0m\u001b[0m\n\u001b[0;32m    872\u001b[0m                     \u001b[1;32mpass\u001b[0m\u001b[1;33m\u001b[0m\u001b[1;33m\u001b[0m\u001b[0m\n\u001b[1;32m--> 873\u001b[1;33m             \u001b[1;32mreturn\u001b[0m \u001b[0mself\u001b[0m\u001b[1;33m.\u001b[0m\u001b[0m_getitem_tuple\u001b[0m\u001b[1;33m(\u001b[0m\u001b[0mkey\u001b[0m\u001b[1;33m)\u001b[0m\u001b[1;33m\u001b[0m\u001b[1;33m\u001b[0m\u001b[0m\n\u001b[0m\u001b[0;32m    874\u001b[0m         \u001b[1;32melse\u001b[0m\u001b[1;33m:\u001b[0m\u001b[1;33m\u001b[0m\u001b[1;33m\u001b[0m\u001b[0m\n\u001b[0;32m    875\u001b[0m             \u001b[1;31m# we by definition only have the 0th axis\u001b[0m\u001b[1;33m\u001b[0m\u001b[1;33m\u001b[0m\u001b[1;33m\u001b[0m\u001b[0m\n",
      "\u001b[1;32m~\\anaconda3\\envs\\insight\\lib\\site-packages\\pandas\\core\\indexing.py\u001b[0m in \u001b[0;36m_getitem_tuple\u001b[1;34m(self, tup)\u001b[0m\n\u001b[0;32m   1053\u001b[0m             \u001b[1;32mreturn\u001b[0m \u001b[0mself\u001b[0m\u001b[1;33m.\u001b[0m\u001b[0m_multi_take\u001b[0m\u001b[1;33m(\u001b[0m\u001b[0mtup\u001b[0m\u001b[1;33m)\u001b[0m\u001b[1;33m\u001b[0m\u001b[1;33m\u001b[0m\u001b[0m\n\u001b[0;32m   1054\u001b[0m \u001b[1;33m\u001b[0m\u001b[0m\n\u001b[1;32m-> 1055\u001b[1;33m         \u001b[1;32mreturn\u001b[0m \u001b[0mself\u001b[0m\u001b[1;33m.\u001b[0m\u001b[0m_getitem_tuple_same_dim\u001b[0m\u001b[1;33m(\u001b[0m\u001b[0mtup\u001b[0m\u001b[1;33m)\u001b[0m\u001b[1;33m\u001b[0m\u001b[1;33m\u001b[0m\u001b[0m\n\u001b[0m\u001b[0;32m   1056\u001b[0m \u001b[1;33m\u001b[0m\u001b[0m\n\u001b[0;32m   1057\u001b[0m     \u001b[1;32mdef\u001b[0m \u001b[0m_get_label\u001b[0m\u001b[1;33m(\u001b[0m\u001b[0mself\u001b[0m\u001b[1;33m,\u001b[0m \u001b[0mlabel\u001b[0m\u001b[1;33m,\u001b[0m \u001b[0maxis\u001b[0m\u001b[1;33m:\u001b[0m \u001b[0mint\u001b[0m\u001b[1;33m)\u001b[0m\u001b[1;33m:\u001b[0m\u001b[1;33m\u001b[0m\u001b[1;33m\u001b[0m\u001b[0m\n",
      "\u001b[1;32m~\\anaconda3\\envs\\insight\\lib\\site-packages\\pandas\\core\\indexing.py\u001b[0m in \u001b[0;36m_getitem_tuple_same_dim\u001b[1;34m(self, tup)\u001b[0m\n\u001b[0;32m    748\u001b[0m                 \u001b[1;32mcontinue\u001b[0m\u001b[1;33m\u001b[0m\u001b[1;33m\u001b[0m\u001b[0m\n\u001b[0;32m    749\u001b[0m \u001b[1;33m\u001b[0m\u001b[0m\n\u001b[1;32m--> 750\u001b[1;33m             \u001b[0mretval\u001b[0m \u001b[1;33m=\u001b[0m \u001b[0mgetattr\u001b[0m\u001b[1;33m(\u001b[0m\u001b[0mretval\u001b[0m\u001b[1;33m,\u001b[0m \u001b[0mself\u001b[0m\u001b[1;33m.\u001b[0m\u001b[0mname\u001b[0m\u001b[1;33m)\u001b[0m\u001b[1;33m.\u001b[0m\u001b[0m_getitem_axis\u001b[0m\u001b[1;33m(\u001b[0m\u001b[0mkey\u001b[0m\u001b[1;33m,\u001b[0m \u001b[0maxis\u001b[0m\u001b[1;33m=\u001b[0m\u001b[0mi\u001b[0m\u001b[1;33m)\u001b[0m\u001b[1;33m\u001b[0m\u001b[1;33m\u001b[0m\u001b[0m\n\u001b[0m\u001b[0;32m    751\u001b[0m             \u001b[1;31m# We should never have retval.ndim < self.ndim, as that should\u001b[0m\u001b[1;33m\u001b[0m\u001b[1;33m\u001b[0m\u001b[1;33m\u001b[0m\u001b[0m\n\u001b[0;32m    752\u001b[0m             \u001b[1;31m#  be handled by the _getitem_lowerdim call above.\u001b[0m\u001b[1;33m\u001b[0m\u001b[1;33m\u001b[0m\u001b[1;33m\u001b[0m\u001b[0m\n",
      "\u001b[1;32m~\\anaconda3\\envs\\insight\\lib\\site-packages\\pandas\\core\\indexing.py\u001b[0m in \u001b[0;36m_getitem_axis\u001b[1;34m(self, key, axis)\u001b[0m\n\u001b[0;32m   1097\u001b[0m                     \u001b[1;32mraise\u001b[0m \u001b[0mValueError\u001b[0m\u001b[1;33m(\u001b[0m\u001b[1;34m\"Cannot index with multidimensional key\"\u001b[0m\u001b[1;33m)\u001b[0m\u001b[1;33m\u001b[0m\u001b[1;33m\u001b[0m\u001b[0m\n\u001b[0;32m   1098\u001b[0m \u001b[1;33m\u001b[0m\u001b[0m\n\u001b[1;32m-> 1099\u001b[1;33m                 \u001b[1;32mreturn\u001b[0m \u001b[0mself\u001b[0m\u001b[1;33m.\u001b[0m\u001b[0m_getitem_iterable\u001b[0m\u001b[1;33m(\u001b[0m\u001b[0mkey\u001b[0m\u001b[1;33m,\u001b[0m \u001b[0maxis\u001b[0m\u001b[1;33m=\u001b[0m\u001b[0maxis\u001b[0m\u001b[1;33m)\u001b[0m\u001b[1;33m\u001b[0m\u001b[1;33m\u001b[0m\u001b[0m\n\u001b[0m\u001b[0;32m   1100\u001b[0m \u001b[1;33m\u001b[0m\u001b[0m\n\u001b[0;32m   1101\u001b[0m             \u001b[1;31m# nested tuple slicing\u001b[0m\u001b[1;33m\u001b[0m\u001b[1;33m\u001b[0m\u001b[1;33m\u001b[0m\u001b[0m\n",
      "\u001b[1;32m~\\anaconda3\\envs\\insight\\lib\\site-packages\\pandas\\core\\indexing.py\u001b[0m in \u001b[0;36m_getitem_iterable\u001b[1;34m(self, key, axis)\u001b[0m\n\u001b[0;32m   1035\u001b[0m \u001b[1;33m\u001b[0m\u001b[0m\n\u001b[0;32m   1036\u001b[0m         \u001b[1;31m# A collection of keys\u001b[0m\u001b[1;33m\u001b[0m\u001b[1;33m\u001b[0m\u001b[1;33m\u001b[0m\u001b[0m\n\u001b[1;32m-> 1037\u001b[1;33m         \u001b[0mkeyarr\u001b[0m\u001b[1;33m,\u001b[0m \u001b[0mindexer\u001b[0m \u001b[1;33m=\u001b[0m \u001b[0mself\u001b[0m\u001b[1;33m.\u001b[0m\u001b[0m_get_listlike_indexer\u001b[0m\u001b[1;33m(\u001b[0m\u001b[0mkey\u001b[0m\u001b[1;33m,\u001b[0m \u001b[0maxis\u001b[0m\u001b[1;33m,\u001b[0m \u001b[0mraise_missing\u001b[0m\u001b[1;33m=\u001b[0m\u001b[1;32mFalse\u001b[0m\u001b[1;33m)\u001b[0m\u001b[1;33m\u001b[0m\u001b[1;33m\u001b[0m\u001b[0m\n\u001b[0m\u001b[0;32m   1038\u001b[0m         return self.obj._reindex_with_indexers(\n\u001b[0;32m   1039\u001b[0m             \u001b[1;33m{\u001b[0m\u001b[0maxis\u001b[0m\u001b[1;33m:\u001b[0m \u001b[1;33m[\u001b[0m\u001b[0mkeyarr\u001b[0m\u001b[1;33m,\u001b[0m \u001b[0mindexer\u001b[0m\u001b[1;33m]\u001b[0m\u001b[1;33m}\u001b[0m\u001b[1;33m,\u001b[0m \u001b[0mcopy\u001b[0m\u001b[1;33m=\u001b[0m\u001b[1;32mTrue\u001b[0m\u001b[1;33m,\u001b[0m \u001b[0mallow_dups\u001b[0m\u001b[1;33m=\u001b[0m\u001b[1;32mTrue\u001b[0m\u001b[1;33m\u001b[0m\u001b[1;33m\u001b[0m\u001b[0m\n",
      "\u001b[1;32m~\\anaconda3\\envs\\insight\\lib\\site-packages\\pandas\\core\\indexing.py\u001b[0m in \u001b[0;36m_get_listlike_indexer\u001b[1;34m(self, key, axis, raise_missing)\u001b[0m\n\u001b[0;32m   1252\u001b[0m             \u001b[0mkeyarr\u001b[0m\u001b[1;33m,\u001b[0m \u001b[0mindexer\u001b[0m\u001b[1;33m,\u001b[0m \u001b[0mnew_indexer\u001b[0m \u001b[1;33m=\u001b[0m \u001b[0max\u001b[0m\u001b[1;33m.\u001b[0m\u001b[0m_reindex_non_unique\u001b[0m\u001b[1;33m(\u001b[0m\u001b[0mkeyarr\u001b[0m\u001b[1;33m)\u001b[0m\u001b[1;33m\u001b[0m\u001b[1;33m\u001b[0m\u001b[0m\n\u001b[0;32m   1253\u001b[0m \u001b[1;33m\u001b[0m\u001b[0m\n\u001b[1;32m-> 1254\u001b[1;33m         \u001b[0mself\u001b[0m\u001b[1;33m.\u001b[0m\u001b[0m_validate_read_indexer\u001b[0m\u001b[1;33m(\u001b[0m\u001b[0mkeyarr\u001b[0m\u001b[1;33m,\u001b[0m \u001b[0mindexer\u001b[0m\u001b[1;33m,\u001b[0m \u001b[0maxis\u001b[0m\u001b[1;33m,\u001b[0m \u001b[0mraise_missing\u001b[0m\u001b[1;33m=\u001b[0m\u001b[0mraise_missing\u001b[0m\u001b[1;33m)\u001b[0m\u001b[1;33m\u001b[0m\u001b[1;33m\u001b[0m\u001b[0m\n\u001b[0m\u001b[0;32m   1255\u001b[0m         \u001b[1;32mreturn\u001b[0m \u001b[0mkeyarr\u001b[0m\u001b[1;33m,\u001b[0m \u001b[0mindexer\u001b[0m\u001b[1;33m\u001b[0m\u001b[1;33m\u001b[0m\u001b[0m\n\u001b[0;32m   1256\u001b[0m \u001b[1;33m\u001b[0m\u001b[0m\n",
      "\u001b[1;32m~\\anaconda3\\envs\\insight\\lib\\site-packages\\pandas\\core\\indexing.py\u001b[0m in \u001b[0;36m_validate_read_indexer\u001b[1;34m(self, key, indexer, axis, raise_missing)\u001b[0m\n\u001b[0;32m   1314\u001b[0m                 \u001b[1;32mwith\u001b[0m \u001b[0moption_context\u001b[0m\u001b[1;33m(\u001b[0m\u001b[1;34m\"display.max_seq_items\"\u001b[0m\u001b[1;33m,\u001b[0m \u001b[1;36m10\u001b[0m\u001b[1;33m,\u001b[0m \u001b[1;34m\"display.width\"\u001b[0m\u001b[1;33m,\u001b[0m \u001b[1;36m80\u001b[0m\u001b[1;33m)\u001b[0m\u001b[1;33m:\u001b[0m\u001b[1;33m\u001b[0m\u001b[1;33m\u001b[0m\u001b[0m\n\u001b[0;32m   1315\u001b[0m                     raise KeyError(\n\u001b[1;32m-> 1316\u001b[1;33m                         \u001b[1;34m\"Passing list-likes to .loc or [] with any missing labels \"\u001b[0m\u001b[1;33m\u001b[0m\u001b[1;33m\u001b[0m\u001b[0m\n\u001b[0m\u001b[0;32m   1317\u001b[0m                         \u001b[1;34m\"is no longer supported. \"\u001b[0m\u001b[1;33m\u001b[0m\u001b[1;33m\u001b[0m\u001b[0m\n\u001b[0;32m   1318\u001b[0m                         \u001b[1;34mf\"The following labels were missing: {not_found}. \"\u001b[0m\u001b[1;33m\u001b[0m\u001b[1;33m\u001b[0m\u001b[0m\n",
      "\u001b[1;31mKeyError\u001b[0m: \"Passing list-likes to .loc or [] with any missing labels is no longer supported. The following labels were missing: Index(['kindle_price', 'author_num_unique_books'], dtype='object'). See https://pandas.pydata.org/pandas-docs/stable/user_guide/indexing.html#deprecate-loc-reindex-listlike\""
     ]
    }
   ],
   "source": [
    "# check NaN values\n",
    "df2.loc[:,['avg_rating','num_ratings','year_published','book_review_count','kindle_price','author_num_unique_books']].stb.missing()"
   ]
  },
  {
   "cell_type": "code",
   "execution_count": 11,
   "metadata": {},
   "outputs": [
    {
     "data": {
      "text/plain": [
       "544"
      ]
     },
     "execution_count": 11,
     "metadata": {},
     "output_type": "execute_result"
    }
   ],
   "source": [
    "# drop rows where kindle_price or book_review_count or year_pubished are NaN because they are important values\n",
    "df3 = df2.dropna()\n",
    "len(df3.index)"
   ]
  },
  {
   "cell_type": "code",
   "execution_count": 14,
   "metadata": {},
   "outputs": [
    {
     "data": {
      "text/plain": [
       "count    544.000000\n",
       "mean      10.116471\n",
       "std        4.220110\n",
       "min        0.000000\n",
       "25%        8.327500\n",
       "50%        9.990000\n",
       "75%       12.990000\n",
       "max       39.990000\n",
       "Name: kindle_price, dtype: float64"
      ]
     },
     "execution_count": 14,
     "metadata": {},
     "output_type": "execute_result"
    },
    {
     "data": {
      "image/png": "[encoded data removed]",
      "text/plain": [
       "<Figure size 432x288 with 1 Axes>"
      ]
     },
     "metadata": {
      "needs_background": "light"
     },
     "output_type": "display_data"
    }
   ],
   "source": [
    "# explore kindle_price\n",
    "sns.violinplot(x=df3[\"kindle_price\"])\n",
    "df3['kindle_price'].describe()"
   ]
  },
  {
   "cell_type": "code",
   "execution_count": 17,
   "metadata": {},
   "outputs": [
    {
     "data": {
      "text/plain": [
       "501"
      ]
     },
     "execution_count": 17,
     "metadata": {},
     "output_type": "execute_result"
    }
   ],
   "source": [
    "# drop books with price zero because they actually have greater price #TODO\n",
    "df4 = df3[df3['kindle_price']>2]\n",
    "len(df4.index)"
   ]
  },
  {
   "cell_type": "code",
   "execution_count": 18,
   "metadata": {},
   "outputs": [
    {
     "data": {
      "text/plain": [
       "<AxesSubplot:xlabel='kindle_price'>"
      ]
     },
     "execution_count": 18,
     "metadata": {},
     "output_type": "execute_result"
    },
    {
     "data": {
      "image/png": "[encoded data removed]",
      "text/plain": [
       "<Figure size 432x288 with 1 Axes>"
      ]
     },
     "metadata": {
      "needs_background": "light"
     },
     "output_type": "display_data"
    }
   ],
   "source": [
    "sns.violinplot(x=df4[\"kindle_price\"])"
   ]
  },
  {
   "cell_type": "code",
   "execution_count": 19,
   "metadata": {},
   "outputs": [
    {
     "data": {
      "text/plain": [
       "count      501.000000\n",
       "mean      1419.125749\n",
       "std       3198.052963\n",
       "min         26.000000\n",
       "25%        248.000000\n",
       "50%        520.000000\n",
       "75%       1163.000000\n",
       "max      33024.000000\n",
       "Name: book_review_count, dtype: float64"
      ]
     },
     "execution_count": 19,
     "metadata": {},
     "output_type": "execute_result"
    },
    {
     "data": {
      "image/png": "[encoded data removed]",
      "text/plain": [
       "<Figure size 432x288 with 1 Axes>"
      ]
     },
     "metadata": {
      "needs_background": "light"
     },
     "output_type": "display_data"
    }
   ],
   "source": [
    "# explore book_review_count\n",
    "sns.violinplot(x=df4[\"book_review_count\"])\n",
    "df4['book_review_count'].describe()"
   ]
  },
  {
   "cell_type": "code",
   "execution_count": 20,
   "metadata": {},
   "outputs": [
    {
     "data": {
      "text/plain": [
       "count       501.000000\n",
       "mean      22605.668663\n",
       "std       67497.512108\n",
       "min         562.000000\n",
       "25%        2939.000000\n",
       "50%        6396.000000\n",
       "75%       16490.000000\n",
       "max      945306.000000\n",
       "Name: num_ratings, dtype: float64"
      ]
     },
     "execution_count": 20,
     "metadata": {},
     "output_type": "execute_result"
    },
    {
     "data": {
      "image/png": "[encoded data removed]",
      "text/plain": [
       "<Figure size 432x288 with 1 Axes>"
      ]
     },
     "metadata": {
      "needs_background": "light"
     },
     "output_type": "display_data"
    }
   ],
   "source": [
    "# explore num_ratings\n",
    "sns.violinplot(x=df4[\"num_ratings\"])\n",
    "df4['num_ratings'].describe()"
   ]
  },
  {
   "cell_type": "code",
   "execution_count": 21,
   "metadata": {},
   "outputs": [
    {
     "data": {
      "text/plain": [
       "count     501.000000\n",
       "mean       83.265469\n",
       "std       182.906543\n",
       "min         2.000000\n",
       "25%         9.000000\n",
       "50%        25.000000\n",
       "75%        68.000000\n",
       "max      2154.000000\n",
       "Name: author_num_unique_books, dtype: float64"
      ]
     },
     "execution_count": 21,
     "metadata": {},
     "output_type": "execute_result"
    },
    {
     "data": {
      "image/png": "[encoded data removed]",
      "text/plain": [
       "<Figure size 432x288 with 1 Axes>"
      ]
     },
     "metadata": {
      "needs_background": "light"
     },
     "output_type": "display_data"
    }
   ],
   "source": [
    "# explore num_ratings\n",
    "sns.violinplot(x=df4[\"author_num_unique_books\"])\n",
    "df4['author_num_unique_books'].describe()"
   ]
  },
  {
   "cell_type": "code",
   "execution_count": 24,
   "metadata": {},
   "outputs": [
    {
     "name": "stdout",
     "output_type": "stream",
     "text": [
      "265\n"
     ]
    },
    {
     "data": {
      "text/plain": [
       "count    265.000000\n",
       "mean      11.822642\n",
       "std        7.534432\n",
       "min        2.000000\n",
       "25%        5.000000\n",
       "50%       10.000000\n",
       "75%       18.000000\n",
       "max       29.000000\n",
       "Name: author_num_unique_books, dtype: float64"
      ]
     },
     "execution_count": 24,
     "metadata": {},
     "output_type": "execute_result"
    },
    {
     "data": {
      "image/png": "[encoded data removed]",
      "text/plain": [
       "<Figure size 432x288 with 1 Axes>"
      ]
     },
     "metadata": {
      "needs_background": "light"
     },
     "output_type": "display_data"
    }
   ],
   "source": [
    "# remove authors of more than 50 books\n",
    "df5 = df4[df4['author_num_unique_books']<30]\n",
    "sns.violinplot(x=df5[\"author_num_unique_books\"])\n",
    "print(len(df5.index))\n",
    "df5['author_num_unique_books'].describe()"
   ]
  },
  {
   "cell_type": "code",
   "execution_count": 29,
   "metadata": {},
   "outputs": [
    {
     "name": "stdout",
     "output_type": "stream",
     "text": [
      "['genre_20th-century', 'genre_21st-century', 'genre_abuse', 'genre_academic', 'genre_activism', 'genre_adoption', 'genre_adult', 'genre_adult-fiction', 'genre_adventure', 'genre_africa', 'genre_african-american', 'genre_alcohol', 'genre_amazon', 'genre_american', 'genre_ancient', 'genre_ancient-history', 'genre_animals', 'genre_anthologies', 'genre_anthropology', 'genre_anti-racist', 'genre_art', 'genre_art-design', 'genre_atheism', 'genre_audiobook', 'genre_australia', 'genre_autobiography', 'genre_basketball', 'genre_biblical', 'genre_biography', 'genre_biography-memoir', 'genre_biology', 'genre_book-club', 'genre_books-about-books', 'genre_brain', 'genre_british-literature', 'genre_buddhism', 'genre_buisness', 'genre_business', 'genre_canada', 'genre_catholic', 'genre_chess', 'genre_chick-lit', 'genre_childrens', 'genre_china', 'genre_christian', 'genre_christian-fiction', 'genre_christian-living', 'genre_christian-non-fiction', 'genre_christianity', 'genre_church', 'genre_classics', 'genre_collections', 'genre_college', 'genre_comedy', 'genre_comics', 'genre_communication', 'genre_computer-science', 'genre_contemporary', 'genre_cookbooks', 'genre_cooking', 'genre_counselling', 'genre_crafts', 'genre_crime', 'genre_cultural', 'genre_death', 'genre_denmark', 'genre_design', 'genre_diets', 'genre_divorce', 'genre_drama', 'genre_drawing', 'genre_eastern-philosophy', 'genre_ecology', 'genre_economics', 'genre_education', 'genre_emotion', 'genre_entrepreneurship', 'genre_environment', 'genre_esoterica', 'genre_essays', 'genre_evolution', 'genre_fables', 'genre_faith', 'genre_family', 'genre_fantasy', 'genre_fashion', 'genre_fat', 'genre_fat-acceptance', 'genre_female-authors', 'genre_feminism', 'genre_fiction', 'genre_finance', 'genre_fitness', 'genre_food', 'genre_food-writing', 'genre_foodie', 'genre_france', 'genre_games', 'genre_gender', 'genre_gender-studies', 'genre_german-literature', 'genre_goddess', 'genre_google', 'genre_graphic-novels', 'genre_graphic-novels-comics', 'genre_green', 'genre_health', 'genre_hinduism', 'genre_historical', 'genre_historical-fiction', 'genre_historical-romance', 'genre_history', 'genre_holocaust', 'genre_home-economics', 'genre_horror', 'genre_how-to', 'genre_human-development', 'genre_human-resources', 'genre_humanities', 'genre_humor', 'genre_india', 'genre_indian-literature', 'genre_indonesian-literature', 'genre_inspirational', 'genre_internet', 'genre_islam', 'genre_italian-literature', 'genre_italy', 'genre_japan', 'genre_japanese-literature', 'genre_jewish', 'genre_journal', 'genre_journaling', 'genre_judaism', 'genre_kids', 'genre_language', 'genre_law', 'genre_lds', 'genre_lds-non-fiction', 'genre_leadership', 'genre_lgbt', 'genre_linguistics', 'genre_literary-criticism', 'genre_literature', 'genre_love', 'genre_magic', 'genre_management', 'genre_manga', 'genre_marriage', 'genre_martial-arts', 'genre_mathematics', 'genre_medical', 'genre_medicine', 'genre_memoir', 'genre_mental-health', 'genre_mental-illness', 'genre_metaphysics', 'genre_middle-grade', 'genre_military-fiction', 'genre_money', 'genre_money-management', 'genre_music', 'genre_mystery', 'genre_mythology', 'genre_nature', 'genre_neuroscience', 'genre_new-adult', 'genre_new-age', 'genre_non-fiction', 'genre_novels', 'genre_nutrition', 'genre_outdoors', 'genre_own', 'genre_paganism', 'genre_parenting', 'genre_personal-development', 'genre_personal-finance', 'genre_philosophy', 'genre_photography', 'genre_physics', 'genre_picture-books', 'genre_poetry', 'genre_political-science', 'genre_politics', 'genre_polyamory', 'genre_pop-culture', 'genre_popular-science', 'genre_prayer', 'genre_productivity', 'genre_programming', 'genre_psychiatry', 'genre_psychoanalysis', 'genre_psychology', 'genre_queer', 'genre_race', 'genre_read-for-school', 'genre_reference', 'genre_relationships', 'genre_religion', 'genre_research', 'genre_roman', 'genre_romance', 'genre_scandinavian-literature', 'genre_school', 'genre_science', 'genre_science-nature', 'genre_self-help', 'genre_sewing', 'genre_sexuality', 'genre_short-stories', 'genre_social', 'genre_social-justice', 'genre_social-media', 'genre_social-science', 'genre_social-work', 'genre_society', 'genre_sociology', 'genre_software', 'genre_space', 'genre_spirituality', 'genre_sports', 'genre_students', 'genre_sustainability', 'genre_sweden', 'genre_swedish-literature', 'genre_taoism', 'genre_teaching', 'genre_technical', 'genre_technology', 'genre_teen', 'genre_textbooks', 'genre_theology', 'genre_travel', 'genre_true-crime', 'genre_urban-planning', 'genre_vegan', 'genre_war', 'genre_womens', 'genre_womens-studies', 'genre_world-war-ii', 'genre_writing', 'genre_young-adult', 'genre_zen']\n"
     ]
    },
    {
     "data": {
      "text/html": [
       "<div>\n",
       "<style scoped>\n",
       "    .dataframe tbody tr th:only-of-type {\n",
       "        vertical-align: middle;\n",
       "    }\n",
       "\n",
       "    .dataframe tbody tr th {\n",
       "        vertical-align: top;\n",
       "    }\n",
       "\n",
       "    .dataframe thead th {\n",
       "        text-align: right;\n",
       "    }\n",
       "</style>\n",
       "<table border=\"1\" class=\"dataframe\">\n",
       "  <thead>\n",
       "    <tr style=\"text-align: right;\">\n",
       "      <th></th>\n",
       "      <th>avg_rating</th>\n",
       "      <th>num_ratings</th>\n",
       "      <th>year_published</th>\n",
       "      <th>book_review_count</th>\n",
       "      <th>author_num_unique_books</th>\n",
       "      <th>kindle_price</th>\n",
       "      <th>book_description</th>\n",
       "      <th>genre_20th-century</th>\n",
       "      <th>genre_21st-century</th>\n",
       "      <th>genre_abuse</th>\n",
       "      <th>...</th>\n",
       "      <th>topic 11</th>\n",
       "      <th>topic 12</th>\n",
       "      <th>topic 13</th>\n",
       "      <th>topic 14</th>\n",
       "      <th>topic 15</th>\n",
       "      <th>topic 16</th>\n",
       "      <th>topic 17</th>\n",
       "      <th>topic 18</th>\n",
       "      <th>topic 19</th>\n",
       "      <th>sum_genres</th>\n",
       "    </tr>\n",
       "  </thead>\n",
       "  <tbody>\n",
       "    <tr>\n",
       "      <th>4</th>\n",
       "      <td>3.84</td>\n",
       "      <td>275462</td>\n",
       "      <td>2011.0</td>\n",
       "      <td>27998.0</td>\n",
       "      <td>18.0</td>\n",
       "      <td>9.99</td>\n",
       "      <td>Despite constant efforts to declutter your hom...</td>\n",
       "      <td>0</td>\n",
       "      <td>0</td>\n",
       "      <td>0</td>\n",
       "      <td>...</td>\n",
       "      <td>1.0</td>\n",
       "      <td>0.0</td>\n",
       "      <td>0.0</td>\n",
       "      <td>0.0</td>\n",
       "      <td>0.0</td>\n",
       "      <td>0.0</td>\n",
       "      <td>0.0</td>\n",
       "      <td>0.0</td>\n",
       "      <td>0.0</td>\n",
       "      <td>12537.0</td>\n",
       "    </tr>\n",
       "    <tr>\n",
       "      <th>7</th>\n",
       "      <td>4.06</td>\n",
       "      <td>319847</td>\n",
       "      <td>2012.0</td>\n",
       "      <td>23496.0</td>\n",
       "      <td>4.0</td>\n",
       "      <td>9.99</td>\n",
       "      <td>The book that started the Quiet RevolutionAt l...</td>\n",
       "      <td>0</td>\n",
       "      <td>0</td>\n",
       "      <td>0</td>\n",
       "      <td>...</td>\n",
       "      <td>0.0</td>\n",
       "      <td>0.0</td>\n",
       "      <td>0.0</td>\n",
       "      <td>0.0</td>\n",
       "      <td>0.0</td>\n",
       "      <td>0.0</td>\n",
       "      <td>0.0</td>\n",
       "      <td>0.0</td>\n",
       "      <td>0.0</td>\n",
       "      <td>21527.0</td>\n",
       "    </tr>\n",
       "    <tr>\n",
       "      <th>15</th>\n",
       "      <td>3.62</td>\n",
       "      <td>143658</td>\n",
       "      <td>2009.0</td>\n",
       "      <td>12652.0</td>\n",
       "      <td>21.0</td>\n",
       "      <td>11.99</td>\n",
       "      <td>Gretchen Rubin had an epiphany one rainy after...</td>\n",
       "      <td>0</td>\n",
       "      <td>0</td>\n",
       "      <td>0</td>\n",
       "      <td>...</td>\n",
       "      <td>0.0</td>\n",
       "      <td>0.0</td>\n",
       "      <td>0.0</td>\n",
       "      <td>0.0</td>\n",
       "      <td>0.0</td>\n",
       "      <td>0.0</td>\n",
       "      <td>0.0</td>\n",
       "      <td>0.0</td>\n",
       "      <td>1.0</td>\n",
       "      <td>7061.0</td>\n",
       "    </tr>\n",
       "    <tr>\n",
       "      <th>26</th>\n",
       "      <td>3.92</td>\n",
       "      <td>79470</td>\n",
       "      <td>2014.0</td>\n",
       "      <td>6101.0</td>\n",
       "      <td>7.0</td>\n",
       "      <td>11.99</td>\n",
       "      <td>Nightline anchor Dan Harris embarks on an unex...</td>\n",
       "      <td>0</td>\n",
       "      <td>0</td>\n",
       "      <td>0</td>\n",
       "      <td>...</td>\n",
       "      <td>0.0</td>\n",
       "      <td>0.0</td>\n",
       "      <td>0.0</td>\n",
       "      <td>0.0</td>\n",
       "      <td>0.0</td>\n",
       "      <td>1.0</td>\n",
       "      <td>0.0</td>\n",
       "      <td>0.0</td>\n",
       "      <td>0.0</td>\n",
       "      <td>4621.0</td>\n",
       "    </tr>\n",
       "    <tr>\n",
       "      <th>42</th>\n",
       "      <td>4.15</td>\n",
       "      <td>26219</td>\n",
       "      <td>2011.0</td>\n",
       "      <td>1781.0</td>\n",
       "      <td>9.0</td>\n",
       "      <td>13.99</td>\n",
       "      <td>The first book to explain the new science of s...</td>\n",
       "      <td>0</td>\n",
       "      <td>0</td>\n",
       "      <td>0</td>\n",
       "      <td>...</td>\n",
       "      <td>1.0</td>\n",
       "      <td>0.0</td>\n",
       "      <td>0.0</td>\n",
       "      <td>0.0</td>\n",
       "      <td>0.0</td>\n",
       "      <td>0.0</td>\n",
       "      <td>0.0</td>\n",
       "      <td>0.0</td>\n",
       "      <td>0.0</td>\n",
       "      <td>3618.0</td>\n",
       "    </tr>\n",
       "  </tbody>\n",
       "</table>\n",
       "<p>5 rows × 272 columns</p>\n",
       "</div>"
      ],
      "text/plain": [
       "    avg_rating  num_ratings  year_published  book_review_count  \\\n",
       "4         3.84       275462          2011.0            27998.0   \n",
       "7         4.06       319847          2012.0            23496.0   \n",
       "15        3.62       143658          2009.0            12652.0   \n",
       "26        3.92        79470          2014.0             6101.0   \n",
       "42        4.15        26219          2011.0             1781.0   \n",
       "\n",
       "    author_num_unique_books  kindle_price  \\\n",
       "4                      18.0          9.99   \n",
       "7                       4.0          9.99   \n",
       "15                     21.0         11.99   \n",
       "26                      7.0         11.99   \n",
       "42                      9.0         13.99   \n",
       "\n",
       "                                     book_description  genre_20th-century  \\\n",
       "4   Despite constant efforts to declutter your hom...                   0   \n",
       "7   The book that started the Quiet RevolutionAt l...                   0   \n",
       "15  Gretchen Rubin had an epiphany one rainy after...                   0   \n",
       "26  Nightline anchor Dan Harris embarks on an unex...                   0   \n",
       "42  The first book to explain the new science of s...                   0   \n",
       "\n",
       "    genre_21st-century  genre_abuse  ...  topic 11  topic 12  topic 13  \\\n",
       "4                    0            0  ...       1.0       0.0       0.0   \n",
       "7                    0            0  ...       0.0       0.0       0.0   \n",
       "15                   0            0  ...       0.0       0.0       0.0   \n",
       "26                   0            0  ...       0.0       0.0       0.0   \n",
       "42                   0            0  ...       1.0       0.0       0.0   \n",
       "\n",
       "    topic 14  topic 15  topic 16  topic 17  topic 18  topic 19  sum_genres  \n",
       "4        0.0       0.0       0.0       0.0       0.0       0.0     12537.0  \n",
       "7        0.0       0.0       0.0       0.0       0.0       0.0     21527.0  \n",
       "15       0.0       0.0       0.0       0.0       0.0       1.0      7061.0  \n",
       "26       0.0       0.0       1.0       0.0       0.0       0.0      4621.0  \n",
       "42       0.0       0.0       0.0       0.0       0.0       0.0      3618.0  \n",
       "\n",
       "[5 rows x 272 columns]"
      ]
     },
     "execution_count": 29,
     "metadata": {},
     "output_type": "execute_result"
    }
   ],
   "source": [
    "# sum the genres\n",
    "df_percent_genre = df5.copy()\n",
    "genre_cols = []\n",
    "for coli in df_percent_genre.columns:\n",
    "    if \"genre_\" in coli: genre_cols.append(coli)\n",
    "\n",
    "df_percent_genre['sum_genres'] = df5[df5.columns[6::]].sum(axis=1)\n",
    "df_percent_genre.head()"
   ]
  },
  {
   "cell_type": "code",
   "execution_count": 206,
   "metadata": {},
   "outputs": [
    {
     "data": {
      "text/plain": [
       "count      292.000000\n",
       "mean      1070.123288\n",
       "std       1978.065958\n",
       "min        102.000000\n",
       "25%        285.000000\n",
       "50%        483.000000\n",
       "75%       1008.250000\n",
       "max      21523.000000\n",
       "Name: sum_genres, dtype: float64"
      ]
     },
     "execution_count": 206,
     "metadata": {},
     "output_type": "execute_result"
    }
   ],
   "source": [
    "df_percent_genre['sum_genres'].describe()"
   ]
  },
  {
   "cell_type": "code",
   "execution_count": 207,
   "metadata": {},
   "outputs": [
    {
     "data": {
      "text/html": [
       "<div>\n",
       "<style scoped>\n",
       "    .dataframe tbody tr th:only-of-type {\n",
       "        vertical-align: middle;\n",
       "    }\n",
       "\n",
       "    .dataframe tbody tr th {\n",
       "        vertical-align: top;\n",
       "    }\n",
       "\n",
       "    .dataframe thead th {\n",
       "        text-align: right;\n",
       "    }\n",
       "</style>\n",
       "<table border=\"1\" class=\"dataframe\">\n",
       "  <thead>\n",
       "    <tr style=\"text-align: right;\">\n",
       "      <th></th>\n",
       "      <th>avg_rating</th>\n",
       "      <th>num_ratings</th>\n",
       "      <th>year_published</th>\n",
       "      <th>book_review_count</th>\n",
       "      <th>author_num_unique_books</th>\n",
       "      <th>kindle_price</th>\n",
       "      <th>genre_20th-century</th>\n",
       "      <th>genre_21st-century</th>\n",
       "      <th>genre_abuse</th>\n",
       "      <th>genre_academic</th>\n",
       "      <th>...</th>\n",
       "      <th>genre_true-crime_percent</th>\n",
       "      <th>genre_urban-planning_percent</th>\n",
       "      <th>genre_vegan_percent</th>\n",
       "      <th>genre_war_percent</th>\n",
       "      <th>genre_womens_percent</th>\n",
       "      <th>genre_womens-studies_percent</th>\n",
       "      <th>genre_world-war-ii_percent</th>\n",
       "      <th>genre_writing_percent</th>\n",
       "      <th>genre_young-adult_percent</th>\n",
       "      <th>genre_zen_percent</th>\n",
       "    </tr>\n",
       "  </thead>\n",
       "  <tbody>\n",
       "    <tr>\n",
       "      <th>3</th>\n",
       "      <td>3.86</td>\n",
       "      <td>8980</td>\n",
       "      <td>2001.0</td>\n",
       "      <td>608.0</td>\n",
       "      <td>20.0</td>\n",
       "      <td>12.99</td>\n",
       "      <td>0</td>\n",
       "      <td>0</td>\n",
       "      <td>0</td>\n",
       "      <td>0</td>\n",
       "      <td>...</td>\n",
       "      <td>0.0</td>\n",
       "      <td>0.0</td>\n",
       "      <td>0.0</td>\n",
       "      <td>0.0</td>\n",
       "      <td>0.0</td>\n",
       "      <td>0.0</td>\n",
       "      <td>0.0</td>\n",
       "      <td>0.0</td>\n",
       "      <td>0.0</td>\n",
       "      <td>0.0</td>\n",
       "    </tr>\n",
       "    <tr>\n",
       "      <th>6</th>\n",
       "      <td>4.24</td>\n",
       "      <td>3752</td>\n",
       "      <td>2015.0</td>\n",
       "      <td>441.0</td>\n",
       "      <td>4.0</td>\n",
       "      <td>11.99</td>\n",
       "      <td>0</td>\n",
       "      <td>0</td>\n",
       "      <td>0</td>\n",
       "      <td>0</td>\n",
       "      <td>...</td>\n",
       "      <td>0.0</td>\n",
       "      <td>0.0</td>\n",
       "      <td>0.0</td>\n",
       "      <td>0.0</td>\n",
       "      <td>0.0</td>\n",
       "      <td>0.0</td>\n",
       "      <td>0.0</td>\n",
       "      <td>0.0</td>\n",
       "      <td>0.0</td>\n",
       "      <td>0.0</td>\n",
       "    </tr>\n",
       "    <tr>\n",
       "      <th>8</th>\n",
       "      <td>3.70</td>\n",
       "      <td>2570</td>\n",
       "      <td>2013.0</td>\n",
       "      <td>362.0</td>\n",
       "      <td>13.0</td>\n",
       "      <td>8.26</td>\n",
       "      <td>0</td>\n",
       "      <td>0</td>\n",
       "      <td>0</td>\n",
       "      <td>0</td>\n",
       "      <td>...</td>\n",
       "      <td>0.0</td>\n",
       "      <td>0.0</td>\n",
       "      <td>0.0</td>\n",
       "      <td>0.0</td>\n",
       "      <td>0.0</td>\n",
       "      <td>0.0</td>\n",
       "      <td>0.0</td>\n",
       "      <td>0.0</td>\n",
       "      <td>0.0</td>\n",
       "      <td>0.0</td>\n",
       "    </tr>\n",
       "    <tr>\n",
       "      <th>21</th>\n",
       "      <td>3.75</td>\n",
       "      <td>5161</td>\n",
       "      <td>2010.0</td>\n",
       "      <td>776.0</td>\n",
       "      <td>15.0</td>\n",
       "      <td>11.99</td>\n",
       "      <td>0</td>\n",
       "      <td>0</td>\n",
       "      <td>0</td>\n",
       "      <td>0</td>\n",
       "      <td>...</td>\n",
       "      <td>0.0</td>\n",
       "      <td>0.0</td>\n",
       "      <td>0.0</td>\n",
       "      <td>0.0</td>\n",
       "      <td>0.0</td>\n",
       "      <td>0.0</td>\n",
       "      <td>0.0</td>\n",
       "      <td>0.0</td>\n",
       "      <td>0.0</td>\n",
       "      <td>0.0</td>\n",
       "    </tr>\n",
       "    <tr>\n",
       "      <th>22</th>\n",
       "      <td>3.90</td>\n",
       "      <td>5484</td>\n",
       "      <td>1998.0</td>\n",
       "      <td>300.0</td>\n",
       "      <td>12.0</td>\n",
       "      <td>11.99</td>\n",
       "      <td>0</td>\n",
       "      <td>0</td>\n",
       "      <td>0</td>\n",
       "      <td>0</td>\n",
       "      <td>...</td>\n",
       "      <td>0.0</td>\n",
       "      <td>0.0</td>\n",
       "      <td>0.0</td>\n",
       "      <td>0.0</td>\n",
       "      <td>0.0</td>\n",
       "      <td>0.0</td>\n",
       "      <td>0.0</td>\n",
       "      <td>0.0</td>\n",
       "      <td>0.0</td>\n",
       "      <td>0.0</td>\n",
       "    </tr>\n",
       "  </tbody>\n",
       "</table>\n",
       "<p>5 rows × 493 columns</p>\n",
       "</div>"
      ],
      "text/plain": [
       "    avg_rating  num_ratings  year_published  book_review_count  \\\n",
       "3         3.86         8980          2001.0              608.0   \n",
       "6         4.24         3752          2015.0              441.0   \n",
       "8         3.70         2570          2013.0              362.0   \n",
       "21        3.75         5161          2010.0              776.0   \n",
       "22        3.90         5484          1998.0              300.0   \n",
       "\n",
       "    author_num_unique_books  kindle_price  genre_20th-century  \\\n",
       "3                      20.0         12.99                   0   \n",
       "6                       4.0         11.99                   0   \n",
       "8                      13.0          8.26                   0   \n",
       "21                     15.0         11.99                   0   \n",
       "22                     12.0         11.99                   0   \n",
       "\n",
       "    genre_21st-century  genre_abuse  genre_academic  ...  \\\n",
       "3                    0            0               0  ...   \n",
       "6                    0            0               0  ...   \n",
       "8                    0            0               0  ...   \n",
       "21                   0            0               0  ...   \n",
       "22                   0            0               0  ...   \n",
       "\n",
       "    genre_true-crime_percent  genre_urban-planning_percent  \\\n",
       "3                        0.0                           0.0   \n",
       "6                        0.0                           0.0   \n",
       "8                        0.0                           0.0   \n",
       "21                       0.0                           0.0   \n",
       "22                       0.0                           0.0   \n",
       "\n",
       "    genre_vegan_percent  genre_war_percent  genre_womens_percent  \\\n",
       "3                   0.0                0.0                   0.0   \n",
       "6                   0.0                0.0                   0.0   \n",
       "8                   0.0                0.0                   0.0   \n",
       "21                  0.0                0.0                   0.0   \n",
       "22                  0.0                0.0                   0.0   \n",
       "\n",
       "    genre_womens-studies_percent  genre_world-war-ii_percent  \\\n",
       "3                            0.0                         0.0   \n",
       "6                            0.0                         0.0   \n",
       "8                            0.0                         0.0   \n",
       "21                           0.0                         0.0   \n",
       "22                           0.0                         0.0   \n",
       "\n",
       "    genre_writing_percent  genre_young-adult_percent  genre_zen_percent  \n",
       "3                     0.0                        0.0                0.0  \n",
       "6                     0.0                        0.0                0.0  \n",
       "8                     0.0                        0.0                0.0  \n",
       "21                    0.0                        0.0                0.0  \n",
       "22                    0.0                        0.0                0.0  \n",
       "\n",
       "[5 rows x 493 columns]"
      ]
     },
     "execution_count": 207,
     "metadata": {},
     "output_type": "execute_result"
    }
   ],
   "source": [
    "# create genres percentage columns\n",
    "columns_genre = list(df5.columns[6::])\n",
    "for columni in columns_genre:\n",
    "    df_percent_genre[columni+'_percent'] = df_percent_genre.apply(lambda x : x[columni]/x['sum_genres'],axis=1)\n",
    "df_percent_genre.head()"
   ]
  },
  {
   "cell_type": "code",
   "execution_count": 208,
   "metadata": {},
   "outputs": [
    {
     "name": "stderr",
     "output_type": "stream",
     "text": [
      "C:\\Users\\valer\\anaconda3\\envs\\insight\\lib\\site-packages\\ipykernel_launcher.py:4: SettingWithCopyWarning: \n",
      "A value is trying to be set on a copy of a slice from a DataFrame.\n",
      "Try using .loc[row_indexer,col_indexer] = value instead\n",
      "\n",
      "See the caveats in the documentation: https://pandas.pydata.org/pandas-docs/stable/user_guide/indexing.html#returning-a-view-versus-a-copy\n",
      "  after removing the cwd from sys.path.\n",
      "C:\\Users\\valer\\anaconda3\\envs\\insight\\lib\\site-packages\\ipykernel_launcher.py:5: SettingWithCopyWarning: \n",
      "A value is trying to be set on a copy of a slice from a DataFrame.\n",
      "Try using .loc[row_indexer,col_indexer] = value instead\n",
      "\n",
      "See the caveats in the documentation: https://pandas.pydata.org/pandas-docs/stable/user_guide/indexing.html#returning-a-view-versus-a-copy\n",
      "  \"\"\"\n"
     ]
    },
    {
     "data": {
      "text/html": [
       "<div>\n",
       "<style scoped>\n",
       "    .dataframe tbody tr th:only-of-type {\n",
       "        vertical-align: middle;\n",
       "    }\n",
       "\n",
       "    .dataframe tbody tr th {\n",
       "        vertical-align: top;\n",
       "    }\n",
       "\n",
       "    .dataframe thead th {\n",
       "        text-align: right;\n",
       "    }\n",
       "</style>\n",
       "<table border=\"1\" class=\"dataframe\">\n",
       "  <thead>\n",
       "    <tr style=\"text-align: right;\">\n",
       "      <th></th>\n",
       "      <th>avg_rating</th>\n",
       "      <th>num_ratings</th>\n",
       "      <th>year_published</th>\n",
       "      <th>book_review_count</th>\n",
       "      <th>author_num_unique_books</th>\n",
       "      <th>kindle_price</th>\n",
       "      <th>genre_20th-century</th>\n",
       "      <th>genre_21st-century</th>\n",
       "      <th>genre_abuse</th>\n",
       "      <th>genre_academic</th>\n",
       "      <th>...</th>\n",
       "      <th>genre_vegan_percent</th>\n",
       "      <th>genre_war_percent</th>\n",
       "      <th>genre_womens_percent</th>\n",
       "      <th>genre_womens-studies_percent</th>\n",
       "      <th>genre_world-war-ii_percent</th>\n",
       "      <th>genre_writing_percent</th>\n",
       "      <th>genre_young-adult_percent</th>\n",
       "      <th>genre_zen_percent</th>\n",
       "      <th>ratings_per_month_since_published</th>\n",
       "      <th>reviews_per_month_since_published</th>\n",
       "    </tr>\n",
       "  </thead>\n",
       "  <tbody>\n",
       "    <tr>\n",
       "      <th>3</th>\n",
       "      <td>3.86</td>\n",
       "      <td>8980</td>\n",
       "      <td>2001.0</td>\n",
       "      <td>608.0</td>\n",
       "      <td>20.0</td>\n",
       "      <td>12.99</td>\n",
       "      <td>0</td>\n",
       "      <td>0</td>\n",
       "      <td>0</td>\n",
       "      <td>0</td>\n",
       "      <td>...</td>\n",
       "      <td>0.0</td>\n",
       "      <td>0.0</td>\n",
       "      <td>0.0</td>\n",
       "      <td>0.0</td>\n",
       "      <td>0.0</td>\n",
       "      <td>0.0</td>\n",
       "      <td>0.0</td>\n",
       "      <td>0.0</td>\n",
       "      <td>39.385965</td>\n",
       "      <td>2.666667</td>\n",
       "    </tr>\n",
       "    <tr>\n",
       "      <th>6</th>\n",
       "      <td>4.24</td>\n",
       "      <td>3752</td>\n",
       "      <td>2015.0</td>\n",
       "      <td>441.0</td>\n",
       "      <td>4.0</td>\n",
       "      <td>11.99</td>\n",
       "      <td>0</td>\n",
       "      <td>0</td>\n",
       "      <td>0</td>\n",
       "      <td>0</td>\n",
       "      <td>...</td>\n",
       "      <td>0.0</td>\n",
       "      <td>0.0</td>\n",
       "      <td>0.0</td>\n",
       "      <td>0.0</td>\n",
       "      <td>0.0</td>\n",
       "      <td>0.0</td>\n",
       "      <td>0.0</td>\n",
       "      <td>0.0</td>\n",
       "      <td>62.533333</td>\n",
       "      <td>7.350000</td>\n",
       "    </tr>\n",
       "    <tr>\n",
       "      <th>8</th>\n",
       "      <td>3.70</td>\n",
       "      <td>2570</td>\n",
       "      <td>2013.0</td>\n",
       "      <td>362.0</td>\n",
       "      <td>13.0</td>\n",
       "      <td>8.26</td>\n",
       "      <td>0</td>\n",
       "      <td>0</td>\n",
       "      <td>0</td>\n",
       "      <td>0</td>\n",
       "      <td>...</td>\n",
       "      <td>0.0</td>\n",
       "      <td>0.0</td>\n",
       "      <td>0.0</td>\n",
       "      <td>0.0</td>\n",
       "      <td>0.0</td>\n",
       "      <td>0.0</td>\n",
       "      <td>0.0</td>\n",
       "      <td>0.0</td>\n",
       "      <td>30.595238</td>\n",
       "      <td>4.309524</td>\n",
       "    </tr>\n",
       "    <tr>\n",
       "      <th>21</th>\n",
       "      <td>3.75</td>\n",
       "      <td>5161</td>\n",
       "      <td>2010.0</td>\n",
       "      <td>776.0</td>\n",
       "      <td>15.0</td>\n",
       "      <td>11.99</td>\n",
       "      <td>0</td>\n",
       "      <td>0</td>\n",
       "      <td>0</td>\n",
       "      <td>0</td>\n",
       "      <td>...</td>\n",
       "      <td>0.0</td>\n",
       "      <td>0.0</td>\n",
       "      <td>0.0</td>\n",
       "      <td>0.0</td>\n",
       "      <td>0.0</td>\n",
       "      <td>0.0</td>\n",
       "      <td>0.0</td>\n",
       "      <td>0.0</td>\n",
       "      <td>43.008333</td>\n",
       "      <td>6.466667</td>\n",
       "    </tr>\n",
       "    <tr>\n",
       "      <th>22</th>\n",
       "      <td>3.90</td>\n",
       "      <td>5484</td>\n",
       "      <td>1998.0</td>\n",
       "      <td>300.0</td>\n",
       "      <td>12.0</td>\n",
       "      <td>11.99</td>\n",
       "      <td>0</td>\n",
       "      <td>0</td>\n",
       "      <td>0</td>\n",
       "      <td>0</td>\n",
       "      <td>...</td>\n",
       "      <td>0.0</td>\n",
       "      <td>0.0</td>\n",
       "      <td>0.0</td>\n",
       "      <td>0.0</td>\n",
       "      <td>0.0</td>\n",
       "      <td>0.0</td>\n",
       "      <td>0.0</td>\n",
       "      <td>0.0</td>\n",
       "      <td>20.772727</td>\n",
       "      <td>1.136364</td>\n",
       "    </tr>\n",
       "  </tbody>\n",
       "</table>\n",
       "<p>5 rows × 495 columns</p>\n",
       "</div>"
      ],
      "text/plain": [
       "    avg_rating  num_ratings  year_published  book_review_count  \\\n",
       "3         3.86         8980          2001.0              608.0   \n",
       "6         4.24         3752          2015.0              441.0   \n",
       "8         3.70         2570          2013.0              362.0   \n",
       "21        3.75         5161          2010.0              776.0   \n",
       "22        3.90         5484          1998.0              300.0   \n",
       "\n",
       "    author_num_unique_books  kindle_price  genre_20th-century  \\\n",
       "3                      20.0         12.99                   0   \n",
       "6                       4.0         11.99                   0   \n",
       "8                      13.0          8.26                   0   \n",
       "21                     15.0         11.99                   0   \n",
       "22                     12.0         11.99                   0   \n",
       "\n",
       "    genre_21st-century  genre_abuse  genre_academic  ...  genre_vegan_percent  \\\n",
       "3                    0            0               0  ...                  0.0   \n",
       "6                    0            0               0  ...                  0.0   \n",
       "8                    0            0               0  ...                  0.0   \n",
       "21                   0            0               0  ...                  0.0   \n",
       "22                   0            0               0  ...                  0.0   \n",
       "\n",
       "    genre_war_percent  genre_womens_percent  genre_womens-studies_percent  \\\n",
       "3                 0.0                   0.0                           0.0   \n",
       "6                 0.0                   0.0                           0.0   \n",
       "8                 0.0                   0.0                           0.0   \n",
       "21                0.0                   0.0                           0.0   \n",
       "22                0.0                   0.0                           0.0   \n",
       "\n",
       "    genre_world-war-ii_percent  genre_writing_percent  \\\n",
       "3                          0.0                    0.0   \n",
       "6                          0.0                    0.0   \n",
       "8                          0.0                    0.0   \n",
       "21                         0.0                    0.0   \n",
       "22                         0.0                    0.0   \n",
       "\n",
       "    genre_young-adult_percent  genre_zen_percent  \\\n",
       "3                         0.0                0.0   \n",
       "6                         0.0                0.0   \n",
       "8                         0.0                0.0   \n",
       "21                        0.0                0.0   \n",
       "22                        0.0                0.0   \n",
       "\n",
       "    ratings_per_month_since_published  reviews_per_month_since_published  \n",
       "3                           39.385965                           2.666667  \n",
       "6                           62.533333                           7.350000  \n",
       "8                           30.595238                           4.309524  \n",
       "21                          43.008333                           6.466667  \n",
       "22                          20.772727                           1.136364  \n",
       "\n",
       "[5 rows x 495 columns]"
      ]
     },
     "execution_count": 208,
     "metadata": {},
     "output_type": "execute_result"
    }
   ],
   "source": [
    "# create column for normalized num_ratings and review_count by years since published\n",
    "# use only books from previous 2019 or older\n",
    "df_out = df_percent_genre[(df_percent_genre['year_published']<2020)] #&(df_percent_genre['year_published']>2000)]\n",
    "df_out['ratings_per_month_since_published'] = df_out.apply(lambda x : x['num_ratings']/(12*(2020-x['year_published'])),axis=1)\n",
    "df_out['reviews_per_month_since_published'] = df_out.apply(lambda x : x['book_review_count']/(12*(2020-x['year_published'])),axis=1)\n",
    "df_out.head()"
   ]
  },
  {
   "cell_type": "code",
   "execution_count": 209,
   "metadata": {},
   "outputs": [
    {
     "data": {
      "text/plain": [
       "count    288.000000\n",
       "mean      21.855771\n",
       "std       55.034042\n",
       "min        0.154762\n",
       "25%        2.172991\n",
       "50%        6.102328\n",
       "75%       15.767361\n",
       "max      546.250000\n",
       "Name: reviews_per_month_since_published, dtype: float64"
      ]
     },
     "execution_count": 209,
     "metadata": {},
     "output_type": "execute_result"
    },
    {
     "data": {
      "image/png": "[encoded data removed]",
      "text/plain": [
       "<Figure size 432x288 with 1 Axes>"
      ]
     },
     "metadata": {
      "needs_background": "light"
     },
     "output_type": "display_data"
    }
   ],
   "source": [
    "df_out['reviews_per_month_since_published'].hist()\n",
    "df_out['reviews_per_month_since_published'].describe()"
   ]
  },
  {
   "cell_type": "code",
   "execution_count": 221,
   "metadata": {},
   "outputs": [
    {
     "data": {
      "text/plain": [
       "count    189.000000\n",
       "mean       3.687949\n",
       "std        2.843360\n",
       "min        0.154762\n",
       "25%        1.291667\n",
       "50%        2.763889\n",
       "75%        5.916667\n",
       "max        9.992424\n",
       "Name: reviews_per_month_since_published, dtype: float64"
      ]
     },
     "execution_count": 221,
     "metadata": {},
     "output_type": "execute_result"
    },
    {
     "data": {
      "image/png": "[encoded data removed]",
      "text/plain": [
       "<Figure size 432x288 with 1 Axes>"
      ]
     },
     "metadata": {
      "needs_background": "light"
     },
     "output_type": "display_data"
    }
   ],
   "source": [
    "num_reviews_per_month_cut=20\n",
    "df_out[df_out['reviews_per_month_since_published']<num_reviews_per_month_cut]['reviews_per_month_since_published'].hist()\n",
    "df_out[df_out['reviews_per_month_since_published']<num_reviews_per_month_cut]['reviews_per_month_since_published'].describe()"
   ]
  },
  {
   "cell_type": "code",
   "execution_count": 217,
   "metadata": {},
   "outputs": [],
   "source": [
    "df_out = df_out[df_out['reviews_per_month_since_published']<num_reviews_per_month_cut]"
   ]
  },
  {
   "cell_type": "code",
   "execution_count": 223,
   "metadata": {},
   "outputs": [
    {
     "data": {
      "text/plain": [
       "<AxesSubplot:xlabel='reviews_per_month_since_published'>"
      ]
     },
     "execution_count": 223,
     "metadata": {},
     "output_type": "execute_result"
    },
    {
     "data": {
      "image/png": "[encoded data removed]",
      "text/plain": [
       "<Figure size 432x288 with 1 Axes>"
      ]
     },
     "metadata": {
      "needs_background": "light"
     },
     "output_type": "display_data"
    }
   ],
   "source": [
    "sns.violinplot(x=df_out[\"reviews_per_month_since_published\"])"
   ]
  },
  {
   "cell_type": "code",
   "execution_count": 218,
   "metadata": {},
   "outputs": [
    {
     "name": "stdout",
     "output_type": "stream",
     "text": [
      "243 229 0.9423868312757202 4.899078973153047e-05 0.004115226337448561 0.0 0.27916113604386045\n"
     ]
    }
   ],
   "source": [
    "means = []\n",
    "colnames_small = []\n",
    "count = 0\n",
    "for i in df_out.columns:\n",
    "    if not \"percent\" in i: continue\n",
    "    try:\n",
    "        means.append(df_out[i].mean())\n",
    "        if df_out[i].mean() < 1e-02: \n",
    "            count += 1\n",
    "            colnames_small.append(i)\n",
    "    except:\n",
    "        continue\n",
    "print(len(means),count,count/len(means), np.median(means),np.mean(means),np.min(means),np.max(means))"
   ]
  },
  {
   "cell_type": "markdown",
   "metadata": {},
   "source": [
    "Note that 30% of the features are genres are less than 1e-5, and the median is 7e-5. Let's clean the data more"
   ]
  },
  {
   "cell_type": "code",
   "execution_count": 219,
   "metadata": {},
   "outputs": [
    {
     "name": "stdout",
     "output_type": "stream",
     "text": [
      "189 266\n"
     ]
    }
   ],
   "source": [
    "df_out2 = df_out.drop(colnames_small,axis=1)\n",
    "print(len(df_out2.index),len(df_out2.columns))"
   ]
  },
  {
   "cell_type": "code",
   "execution_count": 231,
   "metadata": {},
   "outputs": [
    {
     "data": {
      "text/plain": [
       "<AxesSubplot:xlabel='genre_productivity_percent'>"
      ]
     },
     "execution_count": 231,
     "metadata": {},
     "output_type": "execute_result"
    },
    {
     "data": {
      "image/png": "[encoded data removed]",
      "text/plain": [
       "<Figure size 432x288 with 1 Axes>"
      ]
     },
     "metadata": {
      "needs_background": "light"
     },
     "output_type": "display_data"
    }
   ],
   "source": [
    "sns.violinplot(x=df_out2[\"genre_productivity_percent\"])"
   ]
  },
  {
   "cell_type": "code",
   "execution_count": 220,
   "metadata": {},
   "outputs": [],
   "source": [
    "df_out2.to_csv('../data/books_25_pages_clean0.csv',index=False)"
   ]
  },
  {
   "cell_type": "code",
   "execution_count": null,
   "metadata": {},
   "outputs": [],
   "source": []
  }
 ],
 "metadata": {
  "kernelspec": {
   "display_name": "Python 3",
   "language": "python",
   "name": "python3"
  },
  "language_info": {
   "codemirror_mode": {
    "name": "ipython",
    "version": 3
   },
   "file_extension": ".py",
   "mimetype": "text/x-python",
   "name": "python",
   "nbconvert_exporter": "python",
   "pygments_lexer": "ipython3",
   "version": "3.6.12"
  }
 },
 "nbformat": 4,
 "nbformat_minor": 4
}
